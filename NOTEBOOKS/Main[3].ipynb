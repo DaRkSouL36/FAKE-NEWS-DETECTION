{
 "cells": [
  {
   "cell_type": "markdown",
   "id": "ea4128ea",
   "metadata": {},
   "source": [
    "# TEXT VECTORIZATION — COUNT VECTORIZER & TF-IDF"
   ]
  },
  {
   "cell_type": "markdown",
   "id": "9a56134b",
   "metadata": {},
   "source": [
    "### LIBRARY"
   ]
  },
  {
   "cell_type": "code",
   "execution_count": 1,
   "id": "3d980d45",
   "metadata": {},
   "outputs": [],
   "source": [
    "import pandas as pd                           # FOR DATA HANDLING\n",
    "from sklearn.feature_extraction.text import CountVectorizer, TfidfVectorizer  # FOR TEXT VECTORIZATION\n",
    "from sklearn.model_selection import train_test_split   # FOR TRAIN-TEST SPLIT\n",
    "import matplotlib.pyplot as plt               # FOR VISUAL CHECKS"
   ]
  },
  {
   "cell_type": "markdown",
   "id": "710a6c43",
   "metadata": {},
   "source": [
    "### LOAD CLEANED DATASET "
   ]
  },
  {
   "cell_type": "code",
   "execution_count": 2,
   "id": "46e2e507",
   "metadata": {},
   "outputs": [
    {
     "name": "stdout",
     "output_type": "stream",
     "text": [
      "SHAPE: (38647, 3)\n",
      "COLUMNS: Index(['text', 'label', 'clean_text'], dtype='object')\n"
     ]
    },
    {
     "data": {
      "application/vnd.microsoft.datawrangler.viewer.v0+json": {
       "columns": [
        {
         "name": "index",
         "rawType": "int64",
         "type": "integer"
        },
        {
         "name": "text",
         "rawType": "object",
         "type": "string"
        },
        {
         "name": "label",
         "rawType": "int64",
         "type": "integer"
        },
        {
         "name": "clean_text",
         "rawType": "object",
         "type": "string"
        }
       ],
       "ref": "55b00f58-8524-4242-a494-3efe3c59f2b8",
       "rows": [
        [
         "0",
         "21st Century Wire says Ben Stein, reputable professor from, Pepperdine University (also of some Hollywood fame appearing in TV shows and films such as Ferris Bueller s Day Off) made some provocative statements on Judge Jeanine Pirro s show recently. While discussing the halt that was imposed on President Trump s Executive Order on travel. Stein referred to the judgement by the 9th Circuit Court in Washington state as a  Coup d tat against the executive branch and against the constitution.  Stein went on to call the Judges in Seattle  political puppets  and the judiciary  political pawns. Watch the interview below for the complete statements and note the stark contrast to the rhetoric of the leftist media and pundits who neglect to note that no court has ever blocked any Presidential orders in immigration in the past or discuss the legal efficacy of the halt or the actual text of the Executive Order.READ MORE TRUMP NEWS AT: 21st Century Wire Trump FilesSUPPORT OUR WORK BY SUBSCRIBING & BECOMING A MEMBER @21WIRE.TV",
         "0",
         "century wire say ben stein reputable professor pepperdine university also hollywood fame appearing show film ferris bueller day made provocative statement judge jeanine pirro show recently discussing halt imposed president trump executive order travel stein referred judgement circuit court washington state coup tat executive branch constitution stein went call judge seattle political puppet judiciary political pawn watch interview complete statement note stark contrast rhetoric leftist medium pundit neglect note court ever blocked presidential order immigration past discus legal efficacy halt actual text executive orderread trump news century wire trump filessupport work subscribing becoming member wiretv"
        ],
        [
         "1",
         "WASHINGTON (Reuters) - U.S. President Donald Trump removed his chief strategist Steve Bannon from the National Security Council on Wednesday, reversing his controversial decision early this year to give a political adviser an unprecedented role in security discussions. Trump’s overhaul of the NSC, confirmed by a White House official, also elevated General Joseph Dunford, chairman of the Joint Chiefs of Staff and Dan Coats, the director of National Intelligence who heads all 17 U.S. intelligence agencies. The official said the change moves the NSC “back to its core function of what it’s supposed to do.” It also appears to mark a victory for national security adviser H.R. McMaster, who had told some national security experts he felt he was in a “battle to the death” with Bannon and others on the White House staff. Vice President Mike Pence said Bannon would continue to play an important role in policy and played down the shake-up as routine. “This is just a natural evolution to ensure the National Security Council is organized in a way that best serves the president in resolving and making those difficult decisions,” Pence said on Fox News.  Bannon said in a statement he had succeeded in returning the NSC back to its traditional role of coordinating foreign policy rather than running it. He cited President Barack Obama’s national security adviser, Susan Rice, for why he advocated a change. “Susan Rice operationalized the NSC during the last administration so I was put on NSC to ensure it was ‘de-operationalized.’ General McMaster has NSC back to its proper function,” he said. Trump’s White House team has grappled with infighting and intrigue that has hobbled his young presidency. In recent days, several other senior U.S. foreign policy and national security officials have said the mechanisms for shaping the Trump administration’s response to pressing challenges such as Syria, North Korea and Iran still were not in place.  Critics of Bannon’s role on the NSC said it gave too much weight in decision-making to someone who lacked foreign policy expertise. Bannon, who was chief executive of Trump’s presidential campaign in the months leading to his election in November, in some respects represents Trump’s “America First” nationalistic voice, helping fuel his anti-Washington fervor and pushing for the president to part ways at times with mainstream Republicans. Before joining the Trump administration, Bannon headed Breitbart News, a right-wing website. U.S. Representative Adam Schiff, ranking Democrat on the House of Representatives Intelligence Committee, called the shift in the NSC a positive step that will help McMaster “gain control over a body that was being politicized by Bannon’s involvement.” “As the administration’s policy over North Korea, China, Russia and Syria continues to drift, we can only hope this shake-up brings some level of strategic vision to the body,” he said. Bannon’s removal from the NSC was a potential setback for his sphere of influence in the Trump White House, where he has a voice in most major decisions. But a Trump confidant said Bannon remained as influential as ever. “He is still involved in everything and still has the full confidence of the president but to be fair he can only do so much stuff,” the confidant said, speaking on condition of anonymity. The White House official said Bannon was no longer needed on the NSC after the departure of Trump’s first national security adviser, Michael Flynn. Flynn was forced to resign on Feb. 13 over his contacts with Russia’s ambassador to the United States, Sergei Kislyak, prior to Trump taking office on Jan. 20. The official said Bannon had been placed on the NSC originally as a check on Flynn and had only attended one of the NSC’s regular meetings. The official dismissed questions about a power struggle between Bannon and McMaster, saying they shared the same world view. However, two current national security officials rejected the White House explanation, noting that two months have passed since Flynn’s departure. McMaster, they said, speaking on the condition of anonymity, also has dueled with Bannon and others over direct access to Trump; the future of deputy national security adviser K.T. McFarland, a former Fox News commentator; intelligence director Ezra Cohen-Watnick, a Flynn appointee; and other staffing decisions. Trump is preparing for his first face-to-face meeting on Thursday and Friday with Chinese President Xi Jinping with the threat of North Korea’s nuclear and missile programs a key component of their talks. Bannon’s seat on the NSC’s “principals’ committee,” a group that includes the secretaries of state, defense and other ranking aides, was taken by Rick Perry, who as energy secretary is charged with overseeing the U.S. nuclear weapons arsenal. ",
         "1",
         "washington reuters president donald trump removed chief strategist steve bannon national security council wednesday reversing controversial decision early year give political adviser unprecedented role security discussion trump overhaul nsc confirmed white house official also elevated general joseph dunford chairman joint chief staff dan coat director national intelligence head intelligence agency official said change move nsc back core function supposed also appears mark victory national security adviser mcmaster told national security expert felt battle death bannon others white house staff vice president mike penny said bannon would continue play important role policy played shakeup routine natural evolution ensure national security council organized way best serf president resolving making difficult decision penny said fox news bannon said statement succeeded returning nsc back traditional role coordinating foreign policy rather running cited president barack obama national security adviser susan rice advocated change susan rice operationalized nsc last administration put nsc ensure deoperationalized general mcmaster nsc back proper function said trump white house team grappled infighting intrigue hobbled young presidency recent day several senior foreign policy national security official said mechanism shaping trump administration response pressing challenge syria north korea iran still place critic bannon role nsc said gave much weight decisionmaking someone lacked foreign policy expertise bannon chief executive trump presidential campaign month leading election november respect represents trump america first nationalistic voice helping fuel antiwashington fervor pushing president part way time mainstream republican joining trump administration bannon headed breitbart news rightwing website representative adam schiff ranking democrat house representative intelligence committee called shift nsc positive step help mcmaster gain control body politicized bannon involvement administration policy north korea china russia syria continues drift hope shakeup brings level strategic vision body said bannon removal nsc potential setback sphere influence trump white house voice major decision trump confidant said bannon remained influential ever still involved everything still full confidence president fair much stuff confidant said speaking condition anonymity white house official said bannon longer needed nsc departure trump first national security adviser michael flynn flynn forced resign feb contact russia ambassador united state sergei kislyak prior trump taking office jan official said bannon placed nsc originally check flynn attended one nsc regular meeting official dismissed question power struggle bannon mcmaster saying shared world view however two current national security official rejected white house explanation noting two month passed since flynn departure mcmaster said speaking condition anonymity also dueled bannon others direct access trump future deputy national security adviser mcfarland former fox news commentator intelligence director ezra cohenwatnick flynn appointee staffing decision trump preparing first facetoface meeting thursday friday chinese president jinping threat north korea nuclear missile program key component talk bannon seat nsc principal committee group includes secretary state defense ranking aide taken rick perry energy secretary charged overseeing nuclear weapon arsenal"
        ],
        [
         "2",
         "(Reuters) - Puerto Rico Governor Ricardo Rossello said on Wednesday he expected the federal government to waive the Jones Act, which would lift restrictions on ships that can provide aid to the island devastated by Hurricane Maria. He said he has been speaking with members of Congress from both parties who have supported an emergency waiver.      “We expect them to waive it,” Rossello said in an interview with CNN. He noted there was a seven-day waiver after Hurricane Irma, which was much less devastating to the island.     On Tuesday, the Trump administration said there was no need to waive shipping restrictions to help get fuel and supplies to storm-ravaged Puerto Rico, saying it would do nothing to address the island’s damaged ports, the main impediment to shipping. A waiver would allow Puerto Rico to get help not only from U.S. ships but from any ships that can bring aid.     “That is critical, particularly for fuel,” he said. “One of the considerations right now is the priority of getting fuel, diesel, gasoline, all across the island. Right now we have enough fuel. We’re limited by the transportation logistics, but at some point of course, getting fuel into the island is going to be critical so that we can have the major functions of telecoms, hospitals, water, to be running appropriately.”     The Jones Act requires that all goods shipped between U.S. ports be carried by American owned-and-operated ships. U.S. Senator John McCain asked acting Department of Homeland Security Secretary Elaine Duke on Tuesday to grant an emergency waiver of the law. He said that Puerto Rican residents would have to pay at least twice as much for food, drinking water and other supplies without the waiver. (This corrected version of the story fixes paragraph four to show the administration has not formally denied a waiver request). ",
         "1",
         "reuters puerto rico governor ricardo rossello said wednesday expected federal government waive jones act would lift restriction ship provide aid island devastated hurricane maria said speaking member congress party supported emergency waiver expect waive rossello said interview cnn noted sevenday waiver hurricane irma much less devastating island tuesday trump administration said need waive shipping restriction help get fuel supply stormravaged puerto rico saying would nothing address island damaged port main impediment shipping waiver would allow puerto rico get help ship ship bring aid critical particularly fuel said one consideration right priority getting fuel diesel gasoline across island right enough fuel limited transportation logistics point course getting fuel island going critical major function telecom hospital water running appropriately jones act requires good shipped port carried american ownedandoperated ship senator john mccain asked acting department homeland security secretary elaine duke tuesday grant emergency waiver law said puerto rican resident would pay least twice much food drinking water supply without waiver corrected version story fix paragraph four show administration formally denied waiver request"
        ],
        [
         "3",
         "On Monday, Donald Trump once again embarrassed himself and his country by accidentally revealing the source of the extremely classified information he leaked to Russia earlier this month.While it was speculated that the source of the information was Israel, Trump made things crystal clear during a press conference with Prime Minister Benjamin Netanyahu. President Pussygrabber explained that he never   not once   said  Israel  during his conversation with the Russian recipients of the leaked information. Not a single time. Just so you understand I never mentioned the word or the name  Israel,  Trump said.  I never mentioned it during that conversation. They were all saying I did,  Trump said, gesturing to reporters.  So you had another story wrong. Never mentioned the word  Israel . He may not have said the word Israel,  but according to reports Israeli intelligence officials  were shouting at US counterparts  over the leaked information.Now, he accidentally-perhaps-on-purpose confirmed where it came from.Watch it happen below:President Trump says he  never mentioned the word Israel  in his Oval Office meeting with Russian officials https://t.co/84ZCW64hcE  CNN Politics (@CNNPolitics) May 22, 2017Featured image via screengrab",
         "0",
         "monday donald trump embarrassed country accidentally revealing source extremely classified information leaked russia earlier monthwhile speculated source information israel trump made thing crystal clear press conference prime minister benjamin netanyahu president pussygrabber explained never said israel conversation russian recipient leaked information single time understand never mentioned word name israel trump said never mentioned conversation saying trump said gesturing reporter another story wrong never mentioned word israel may said word israel according report israeli intelligence official shouting counterpart leaked informationnow accidentallyperhapsonpurpose confirmed came fromwatch happen belowpresident trump say never mentioned word israel oval office meeting russian official cnn politics cnnpolitics may featured image via screengrab"
        ],
        [
         "4",
         "GLASGOW, Scotland (Reuters) - Most U.S. presidential candidates go abroad to sharpen their foreign policy credentials. Donald Trump arrives in Scotland on Friday to reopen a golf resort. The presumptive Republican nominee, 70, visits his family’s ancestral homeland to showcase his far-flung business empire. His mother was born on Scotland’s Isle of Lewis. With a throng of reporters watching, he will make a dramatic arrival by helicopter at his seaside Trump Turnberry resort. He has scheduled a news conference on the 9th hole at noon (7 a.m. ET/1100 GMT). His visit to Turnberry, to be followed by a stop at his resort in Aberdeen on Saturday, will allow him to comment on the outcome of Britain’s vote on Thursday on whether to remain in the European Union. “I don’t think opening a golf resort gets you many foreign policy chops,” said Saul Anuzis, former chairman of the Michigan Republican Party. “But since he’s there right in the middle of the EU vote, it may end up being a PR bonanza for him.” The risk is that the real-estate tycoon, who has yet to hold public office and rates unfavorably with 70 percent of Americans in an opinion poll, will make a foreign policy misstep at a time when Republican leaders are urging a more serious demeanor. Trump has said he would be inclined to leave the EU. He has exchanged insults with British Prime Minister David Cameron, who has called the New Yorker’s anti-immigrant policy ideas divisive and wrong. There are no plans for the two to meet. His trip has baffled Republican officials who say he should concentrate on strengthening his campaign and taking the fight to the presumptive Democratic nominee, former U.S. Secretary of State Hillary Clinton, who is 68. Trump defeated a crowded field of opponents for the Republican nomination but has faced one controversy after another, the latest over his firing of his campaign manager this week, a month before the party convention. “His campaign has got all kinds of growing pains and it doesn’t make sense that he would spend any kind of time going out of the country,” said David Yepsen, director of the Paul Simon Public Policy Institute at Southern Illinois University.  Turnberry is a storied course where the Open Championship has been staged four times. Trump invested $290 million in renovating the resort and golf course on Scotland’s West Coast 85 km (53 miles) southwest of Glasgow. He has portrayed his determination to build up courses in Turnberry and Aberdeen and overcome local opposition as an example of the type of leadership skills that Americans would get if he wins the White House on Nov. 8. “Well, Scotland has already been won – and so will the United States,” Trump wrote in a column for The Press and Journal newspaper in Aberdeen. An Aberdeen family opposed to his development there has threatened to raise a Mexican flag as a reminder of his proposal to build a wall along the U.S. southern border to keep out immigrants who enter illegally. The last Republican presidential nominee, former Massachusetts Governor Mitt Romney, in 2012 made a gaffe-filled campaign trip to London, Jerusalem and Poland. ",
         "1",
         "glasgow scotland reuters presidential candidate abroad sharpen foreign policy credential donald trump arrives scotland friday reopen golf resort presumptive republican nominee visit family ancestral homeland showcase farflung business empire mother born scotland isle lewis throng reporter watching make dramatic arrival helicopter seaside trump turnberry resort scheduled news conference hole noon gmt visit turnberry followed stop resort aberdeen saturday allow comment outcome britain vote thursday whether remain european union think opening golf resort get many foreign policy chop said saul anuzis former chairman michigan republican party since right middle vote may end bonanza risk realestate tycoon yet hold public office rate unfavorably percent american opinion poll make foreign policy misstep time republican leader urging serious demeanor trump said would inclined leave exchanged insult british prime minister david cameron called new yorker antiimmigrant policy idea divisive wrong plan two meet trip baffled republican official say concentrate strengthening campaign taking fight presumptive democratic nominee former secretary state hillary clinton trump defeated crowded field opponent republican nomination faced one controversy another latest firing campaign manager week month party convention campaign got kind growing pain make sense would spend kind time going country said david yepsen director paul simon public policy institute southern illinois university turnberry storied course open championship staged four time trump invested million renovating resort golf course scotland west coast mile southwest glasgow portrayed determination build course turnberry aberdeen overcome local opposition example type leadership skill american would get win white house nov well scotland already united state trump wrote column press journal newspaper aberdeen aberdeen family opposed development threatened raise mexican flag reminder proposal build wall along southern border keep immigrant enter illegally last republican presidential nominee former massachusetts governor mitt romney made gaffefilled campaign trip london jerusalem poland"
        ]
       ],
       "shape": {
        "columns": 3,
        "rows": 5
       }
      },
      "text/html": [
       "<div>\n",
       "<style scoped>\n",
       "    .dataframe tbody tr th:only-of-type {\n",
       "        vertical-align: middle;\n",
       "    }\n",
       "\n",
       "    .dataframe tbody tr th {\n",
       "        vertical-align: top;\n",
       "    }\n",
       "\n",
       "    .dataframe thead th {\n",
       "        text-align: right;\n",
       "    }\n",
       "</style>\n",
       "<table border=\"1\" class=\"dataframe\">\n",
       "  <thead>\n",
       "    <tr style=\"text-align: right;\">\n",
       "      <th></th>\n",
       "      <th>text</th>\n",
       "      <th>label</th>\n",
       "      <th>clean_text</th>\n",
       "    </tr>\n",
       "  </thead>\n",
       "  <tbody>\n",
       "    <tr>\n",
       "      <th>0</th>\n",
       "      <td>21st Century Wire says Ben Stein, reputable pr...</td>\n",
       "      <td>0</td>\n",
       "      <td>century wire say ben stein reputable professor...</td>\n",
       "    </tr>\n",
       "    <tr>\n",
       "      <th>1</th>\n",
       "      <td>WASHINGTON (Reuters) - U.S. President Donald T...</td>\n",
       "      <td>1</td>\n",
       "      <td>washington reuters president donald trump remo...</td>\n",
       "    </tr>\n",
       "    <tr>\n",
       "      <th>2</th>\n",
       "      <td>(Reuters) - Puerto Rico Governor Ricardo Rosse...</td>\n",
       "      <td>1</td>\n",
       "      <td>reuters puerto rico governor ricardo rossello ...</td>\n",
       "    </tr>\n",
       "    <tr>\n",
       "      <th>3</th>\n",
       "      <td>On Monday, Donald Trump once again embarrassed...</td>\n",
       "      <td>0</td>\n",
       "      <td>monday donald trump embarrassed country accide...</td>\n",
       "    </tr>\n",
       "    <tr>\n",
       "      <th>4</th>\n",
       "      <td>GLASGOW, Scotland (Reuters) - Most U.S. presid...</td>\n",
       "      <td>1</td>\n",
       "      <td>glasgow scotland reuters presidential candidat...</td>\n",
       "    </tr>\n",
       "  </tbody>\n",
       "</table>\n",
       "</div>"
      ],
      "text/plain": [
       "                                                text  label  \\\n",
       "0  21st Century Wire says Ben Stein, reputable pr...      0   \n",
       "1  WASHINGTON (Reuters) - U.S. President Donald T...      1   \n",
       "2  (Reuters) - Puerto Rico Governor Ricardo Rosse...      1   \n",
       "3  On Monday, Donald Trump once again embarrassed...      0   \n",
       "4  GLASGOW, Scotland (Reuters) - Most U.S. presid...      1   \n",
       "\n",
       "                                          clean_text  \n",
       "0  century wire say ben stein reputable professor...  \n",
       "1  washington reuters president donald trump remo...  \n",
       "2  reuters puerto rico governor ricardo rossello ...  \n",
       "3  monday donald trump embarrassed country accide...  \n",
       "4  glasgow scotland reuters presidential candidat...  "
      ]
     },
     "execution_count": 2,
     "metadata": {},
     "output_type": "execute_result"
    }
   ],
   "source": [
    "# LOAD DATASET CONTAINING 'clean_text' AND 'label'\n",
    "df = pd.read_csv(\"../DATA/DATA[C].csv\")  # CLEANED TEXT DATA\n",
    "\n",
    "# DISPLAY BASIC INFO\n",
    "print(\"SHAPE:\", df.shape)\n",
    "print(\"COLUMNS:\", df.columns)\n",
    "df.head()"
   ]
  },
  {
   "cell_type": "markdown",
   "id": "04124b64",
   "metadata": {},
   "source": [
    "### SPLIT FEATURES (TEXT) AND TARGET (LABEL)"
   ]
  },
  {
   "cell_type": "code",
   "execution_count": 3,
   "id": "7809576b",
   "metadata": {},
   "outputs": [],
   "source": [
    "# SET INDEPENDENT VARIABLE: CLEANED TEXT\n",
    "X = df['clean_text']\n",
    "\n",
    "# SET TARGET VARIABLE: LABEL (0 = FAKE, 1 = REAL)\n",
    "y = df['label']"
   ]
  },
  {
   "cell_type": "markdown",
   "id": "371bc0ae",
   "metadata": {},
   "source": [
    "### TRAIN-TEST SPLIT"
   ]
  },
  {
   "cell_type": "code",
   "execution_count": 4,
   "id": "1e28a954",
   "metadata": {},
   "outputs": [
    {
     "name": "stdout",
     "output_type": "stream",
     "text": [
      "X_train SHAPE: (30917,)\n",
      "X_test SHAPE: (7730,)\n"
     ]
    }
   ],
   "source": [
    "# SPLIT INTO TRAIN AND TEST SETS — 80% TRAIN, 20% TEST\n",
    "X_train, X_test, y_train, y_test = train_test_split(\n",
    "    X, y, test_size=0.2, random_state=42, stratify=y)\n",
    "\n",
    "# DISPLAY SHAPES\n",
    "print(\"X_train SHAPE:\", X_train.shape)\n",
    "print(\"X_test SHAPE:\", X_test.shape)"
   ]
  },
  {
   "cell_type": "markdown",
   "id": "034d82de",
   "metadata": {},
   "source": [
    "### COUNT VECTORIZER — WORD FREQUENCY BASED"
   ]
  },
  {
   "cell_type": "code",
   "execution_count": 7,
   "id": "0129909b",
   "metadata": {},
   "outputs": [
    {
     "name": "stdout",
     "output_type": "stream",
     "text": [
      "COUNT VECTORIZER - X_train SHAPE: (30917, 5000)\n",
      "COUNT VECTORIZER - X_test SHAPE: (7730, 5000)\n"
     ]
    }
   ],
   "source": [
    "# FILL MISSING VALUES (NaN) IN TRAIN AND TEST TEXT DATA WITH EMPTY STRINGS\n",
    "X_train = X_train.fillna('')\n",
    "X_test = X_test.fillna('')\n",
    "\n",
    "# INITIALIZE COUNT VECTORIZER WITH A LIMIT OF TOP 5000 FEATURES\n",
    "count_vectorizer = CountVectorizer(max_features=5000)\n",
    "\n",
    "# FIT THE COUNT VECTORIZER ON TRAINING DATA AND TRANSFORM TRAINING DATA\n",
    "X_train_count = count_vectorizer.fit_transform(X_train)\n",
    "\n",
    "# TRANSFORM TEST DATA USING THE FITTED COUNT VECTORIZER\n",
    "X_test_count = count_vectorizer.transform(X_test)\n",
    "\n",
    "# DISPLAY THE SHAPE OF THE TRANSFORMED TRAINING AND TEST DATA\n",
    "print(\"COUNT VECTORIZER - X_train SHAPE:\", X_train_count.shape)\n",
    "print(\"COUNT VECTORIZER - X_test SHAPE:\", X_test_count.shape)"
   ]
  },
  {
   "cell_type": "markdown",
   "id": "7b916630",
   "metadata": {},
   "source": [
    "### TF-IDF VECTORIZER — TERM FREQUENCY-INVERSE DOCUMENT FREQUENCY"
   ]
  },
  {
   "cell_type": "code",
   "execution_count": 8,
   "id": "2ecfde07",
   "metadata": {},
   "outputs": [
    {
     "name": "stdout",
     "output_type": "stream",
     "text": [
      "TF-IDF VECTORIZER - X_train SHAPE: (30917, 5000)\n",
      "TF-IDF VECTORIZER - X_test SHAPE: (7730, 5000)\n"
     ]
    }
   ],
   "source": [
    "# FILL MISSING VALUES IN TRAIN AND TEST TEXT DATA WITH EMPTY STRINGS\n",
    "X_train = X_train.fillna('')\n",
    "X_test = X_test.fillna('')\n",
    "\n",
    "# INITIALIZE TF-IDF VECTORIZER WITH A LIMIT OF TOP 5000 FEATURES\n",
    "tfidf_vectorizer = TfidfVectorizer(max_features=5000)\n",
    "\n",
    "# FIT THE TF-IDF VECTORIZER ON TRAINING TEXT AND TRANSFORM TRAINING TEXT\n",
    "X_train_tfidf = tfidf_vectorizer.fit_transform(X_train)\n",
    "\n",
    "# TRANSFORM TEST TEXT USING THE FITTED TF-IDF VECTORIZER\n",
    "X_test_tfidf = tfidf_vectorizer.transform(X_test)\n",
    "\n",
    "# DISPLAY THE SHAPE OF THE TRANSFORMED TRAINING AND TEST DATA\n",
    "print(\"TF-IDF VECTORIZER - X_train SHAPE:\", X_train_tfidf.shape)\n",
    "print(\"TF-IDF VECTORIZER - X_test SHAPE:\", X_test_tfidf.shape)"
   ]
  }
 ],
 "metadata": {
  "kernelspec": {
   "display_name": "VENV",
   "language": "python",
   "name": "python3"
  },
  "language_info": {
   "codemirror_mode": {
    "name": "ipython",
    "version": 3
   },
   "file_extension": ".py",
   "mimetype": "text/x-python",
   "name": "python",
   "nbconvert_exporter": "python",
   "pygments_lexer": "ipython3",
   "version": "3.12.7"
  }
 },
 "nbformat": 4,
 "nbformat_minor": 5
}
