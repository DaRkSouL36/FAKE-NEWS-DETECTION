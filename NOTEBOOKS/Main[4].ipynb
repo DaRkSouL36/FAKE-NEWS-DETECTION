{
 "cells": [
  {
   "cell_type": "markdown",
   "id": "ab5e36b6",
   "metadata": {},
   "source": [
    "# DEEP LEARNING MODELS — TEXT CLASSIFICATION WITH TENSORFLOW/KERAS"
   ]
  },
  {
   "cell_type": "markdown",
   "id": "7d714ec1",
   "metadata": {},
   "source": [
    "### LIBRARY"
   ]
  },
  {
   "cell_type": "code",
   "execution_count": 1,
   "id": "287d16b4",
   "metadata": {},
   "outputs": [],
   "source": [
    "import pandas as pd\n",
    "import numpy as np\n",
    "from sklearn.model_selection import train_test_split\n",
    "from tensorflow.keras.preprocessing.text import Tokenizer\n",
    "from tensorflow.keras.preprocessing.sequence import pad_sequences\n",
    "from tensorflow.keras.models import Sequential\n",
    "from tensorflow.keras.layers import Embedding, Dense, LSTM, Conv1D, GlobalMaxPooling1D, Dropout\n",
    "from tensorflow.keras.callbacks import EarlyStopping\n",
    "from sklearn.metrics import classification_report, accuracy_score"
   ]
  },
  {
   "cell_type": "markdown",
   "id": "b48c109a",
   "metadata": {},
   "source": [
    "### LOAD CLEANED DATA"
   ]
  },
  {
   "cell_type": "code",
   "execution_count": 2,
   "id": "d6b09f6a",
   "metadata": {},
   "outputs": [],
   "source": [
    "df = pd.read_csv(\"../DATA/DATA[C].csv\")  # CLEANED TEXT DATASET\n",
    "X = df['clean_text']\n",
    "y = df['label']"
   ]
  },
  {
   "cell_type": "markdown",
   "id": "5d51c834",
   "metadata": {},
   "source": [
    "### TOKENIZATION & PADDING"
   ]
  },
  {
   "cell_type": "code",
   "execution_count": 4,
   "id": "c3769c6e",
   "metadata": {},
   "outputs": [
    {
     "name": "stdout",
     "output_type": "stream",
     "text": [
      "VOCAB SIZE: 198633\n",
      "X_train SHAPE: (30917, 200)\n"
     ]
    }
   ],
   "source": [
    "# MAKE SURE X IS ALL STRINGS AND NO NaNs\n",
    "X = X.fillna(\"\").astype(str)\n",
    "\n",
    "# HYPERPARAMETERS\n",
    "MAX_WORDS = 5000\n",
    "MAX_LEN = 200\n",
    "\n",
    "# TOKENIZATION\n",
    "tokenizer = Tokenizer(num_words=MAX_WORDS)\n",
    "tokenizer.fit_on_texts(X)\n",
    "\n",
    "# SEQUENCES AND PADDING\n",
    "X_seq = tokenizer.texts_to_sequences(X)\n",
    "X_pad = pad_sequences(X_seq, maxlen=MAX_LEN)\n",
    "\n",
    "# SPLIT\n",
    "X_train, X_test, y_train, y_test = train_test_split(X_pad, y, test_size=0.2, random_state=42, stratify=y)\n",
    "\n",
    "# INFO\n",
    "print(\"VOCAB SIZE:\", len(tokenizer.word_index))\n",
    "print(\"X_train SHAPE:\", X_train.shape)"
   ]
  },
  {
   "cell_type": "markdown",
   "id": "945b4402",
   "metadata": {},
   "source": [
    "### DENSE NEURAL NETWORK"
   ]
  },
  {
   "cell_type": "code",
   "execution_count": 5,
   "id": "260954bb",
   "metadata": {},
   "outputs": [
    {
     "name": "stderr",
     "output_type": "stream",
     "text": [
      "c:\\FAKE NEWS DETECTION\\VENV\\Lib\\site-packages\\keras\\src\\layers\\core\\embedding.py:97: UserWarning: Argument `input_length` is deprecated. Just remove it.\n",
      "  warnings.warn(\n"
     ]
    },
    {
     "name": "stdout",
     "output_type": "stream",
     "text": [
      "Epoch 1/5\n",
      "\u001b[1m218/218\u001b[0m \u001b[32m━━━━━━━━━━━━━━━━━━━━\u001b[0m\u001b[37m\u001b[0m \u001b[1m4s\u001b[0m 12ms/step - accuracy: 0.7567 - loss: 0.4839 - val_accuracy: 0.9764 - val_loss: 0.0704\n",
      "Epoch 2/5\n",
      "\u001b[1m218/218\u001b[0m \u001b[32m━━━━━━━━━━━━━━━━━━━━\u001b[0m\u001b[37m\u001b[0m \u001b[1m3s\u001b[0m 12ms/step - accuracy: 0.9823 - loss: 0.0604 - val_accuracy: 0.9822 - val_loss: 0.0498\n",
      "Epoch 3/5\n",
      "\u001b[1m218/218\u001b[0m \u001b[32m━━━━━━━━━━━━━━━━━━━━\u001b[0m\u001b[37m\u001b[0m \u001b[1m3s\u001b[0m 13ms/step - accuracy: 0.9890 - loss: 0.0401 - val_accuracy: 0.9848 - val_loss: 0.0441\n",
      "Epoch 4/5\n",
      "\u001b[1m218/218\u001b[0m \u001b[32m━━━━━━━━━━━━━━━━━━━━\u001b[0m\u001b[37m\u001b[0m \u001b[1m3s\u001b[0m 13ms/step - accuracy: 0.9911 - loss: 0.0299 - val_accuracy: 0.9854 - val_loss: 0.0404\n",
      "Epoch 5/5\n",
      "\u001b[1m218/218\u001b[0m \u001b[32m━━━━━━━━━━━━━━━━━━━━\u001b[0m\u001b[37m\u001b[0m \u001b[1m3s\u001b[0m 13ms/step - accuracy: 0.9951 - loss: 0.0184 - val_accuracy: 0.9848 - val_loss: 0.0415\n"
     ]
    },
    {
     "data": {
      "text/plain": [
       "<keras.src.callbacks.history.History at 0x1d6d1bcb1d0>"
      ]
     },
     "execution_count": 5,
     "metadata": {},
     "output_type": "execute_result"
    }
   ],
   "source": [
    "model_dense = Sequential([\n",
    "    Embedding(MAX_WORDS, 64, input_length=MAX_LEN),\n",
    "    GlobalMaxPooling1D(),\n",
    "    Dense(64, activation='relu'),\n",
    "    Dropout(0.5),\n",
    "    Dense(1, activation='sigmoid')\n",
    "])\n",
    "\n",
    "model_dense.compile(loss='binary_crossentropy', optimizer='adam', metrics=['accuracy'])\n",
    "\n",
    "# TRAIN\n",
    "model_dense.fit(X_train, y_train, validation_split=0.1, epochs=5, batch_size=128, callbacks=[EarlyStopping(patience=2)])"
   ]
  },
  {
   "cell_type": "markdown",
   "id": "74687972",
   "metadata": {},
   "source": [
    "### EVALUATE DENSE MODEL"
   ]
  },
  {
   "cell_type": "code",
   "execution_count": 6,
   "id": "096e395d",
   "metadata": {},
   "outputs": [
    {
     "name": "stdout",
     "output_type": "stream",
     "text": [
      "\u001b[1m242/242\u001b[0m \u001b[32m━━━━━━━━━━━━━━━━━━━━\u001b[0m\u001b[37m\u001b[0m \u001b[1m1s\u001b[0m 2ms/step\n",
      "DENSE NN ACCURACY --> 0.98745148771022\n",
      "              precision    recall  f1-score   support\n",
      "\n",
      "        Fake       0.99      0.98      0.99      3491\n",
      "        Real       0.99      0.99      0.99      4239\n",
      "\n",
      "    accuracy                           0.99      7730\n",
      "   macro avg       0.99      0.99      0.99      7730\n",
      "weighted avg       0.99      0.99      0.99      7730\n",
      "\n"
     ]
    }
   ],
   "source": [
    "y_pred_dense = model_dense.predict(X_test)\n",
    "y_pred_dense = (y_pred_dense > 0.5).astype(int)\n",
    "\n",
    "print(\"DENSE NN ACCURACY -->\", accuracy_score(y_test, y_pred_dense))\n",
    "print(classification_report(y_test, y_pred_dense, target_names=[\"Fake\", \"Real\"]))"
   ]
  },
  {
   "cell_type": "markdown",
   "id": "3e9eb0be",
   "metadata": {},
   "source": [
    "### LSTM NETWORK"
   ]
  },
  {
   "cell_type": "code",
   "execution_count": 7,
   "id": "da74e51b",
   "metadata": {},
   "outputs": [
    {
     "name": "stdout",
     "output_type": "stream",
     "text": [
      "Epoch 1/5\n"
     ]
    },
    {
     "name": "stderr",
     "output_type": "stream",
     "text": [
      "c:\\FAKE NEWS DETECTION\\VENV\\Lib\\site-packages\\keras\\src\\layers\\core\\embedding.py:97: UserWarning: Argument `input_length` is deprecated. Just remove it.\n",
      "  warnings.warn(\n"
     ]
    },
    {
     "name": "stdout",
     "output_type": "stream",
     "text": [
      "\u001b[1m218/218\u001b[0m \u001b[32m━━━━━━━━━━━━━━━━━━━━\u001b[0m\u001b[37m\u001b[0m \u001b[1m81s\u001b[0m 355ms/step - accuracy: 0.8961 - loss: 0.2954 - val_accuracy: 0.9735 - val_loss: 0.0863\n",
      "Epoch 2/5\n",
      "\u001b[1m218/218\u001b[0m \u001b[32m━━━━━━━━━━━━━━━━━━━━\u001b[0m\u001b[37m\u001b[0m \u001b[1m82s\u001b[0m 354ms/step - accuracy: 0.9682 - loss: 0.0944 - val_accuracy: 0.9719 - val_loss: 0.0741\n",
      "Epoch 3/5\n",
      "\u001b[1m218/218\u001b[0m \u001b[32m━━━━━━━━━━━━━━━━━━━━\u001b[0m\u001b[37m\u001b[0m \u001b[1m74s\u001b[0m 340ms/step - accuracy: 0.9572 - loss: 0.1115 - val_accuracy: 0.9780 - val_loss: 0.0734\n",
      "Epoch 4/5\n",
      "\u001b[1m218/218\u001b[0m \u001b[32m━━━━━━━━━━━━━━━━━━━━\u001b[0m\u001b[37m\u001b[0m \u001b[1m58s\u001b[0m 265ms/step - accuracy: 0.9814 - loss: 0.0578 - val_accuracy: 0.9764 - val_loss: 0.0747\n",
      "Epoch 5/5\n",
      "\u001b[1m218/218\u001b[0m \u001b[32m━━━━━━━━━━━━━━━━━━━━\u001b[0m\u001b[37m\u001b[0m \u001b[1m59s\u001b[0m 272ms/step - accuracy: 0.9765 - loss: 0.0762 - val_accuracy: 0.9767 - val_loss: 0.0810\n"
     ]
    },
    {
     "data": {
      "text/plain": [
       "<keras.src.callbacks.history.History at 0x1d6e15910a0>"
      ]
     },
     "execution_count": 7,
     "metadata": {},
     "output_type": "execute_result"
    }
   ],
   "source": [
    "model_lstm = Sequential([\n",
    "    Embedding(MAX_WORDS, 128, input_length=MAX_LEN),\n",
    "    LSTM(64, dropout=0.2, recurrent_dropout=0.2),\n",
    "    Dense(1, activation='sigmoid')\n",
    "])\n",
    "\n",
    "model_lstm.compile(loss='binary_crossentropy', optimizer='adam', metrics=['accuracy'])\n",
    "\n",
    "# TRAIN\n",
    "model_lstm.fit(X_train, y_train, validation_split=0.1, epochs=5, batch_size=128, callbacks=[EarlyStopping(patience=2)])"
   ]
  },
  {
   "cell_type": "markdown",
   "id": "521fbc3b",
   "metadata": {},
   "source": [
    "### EVALUATE LSTM"
   ]
  },
  {
   "cell_type": "code",
   "execution_count": 8,
   "id": "6e0805fb",
   "metadata": {},
   "outputs": [
    {
     "name": "stdout",
     "output_type": "stream",
     "text": [
      "\u001b[1m242/242\u001b[0m \u001b[32m━━━━━━━━━━━━━━━━━━━━\u001b[0m\u001b[37m\u001b[0m \u001b[1m9s\u001b[0m 33ms/step\n",
      "LSTM ACCURACY --> 0.9751617076326002\n",
      "              precision    recall  f1-score   support\n",
      "\n",
      "        Fake       0.99      0.96      0.97      3491\n",
      "        Real       0.97      0.99      0.98      4239\n",
      "\n",
      "    accuracy                           0.98      7730\n",
      "   macro avg       0.98      0.97      0.97      7730\n",
      "weighted avg       0.98      0.98      0.98      7730\n",
      "\n"
     ]
    }
   ],
   "source": [
    "y_pred_lstm = model_lstm.predict(X_test)\n",
    "y_pred_lstm = (y_pred_lstm > 0.5).astype(int)\n",
    "\n",
    "print(\"LSTM ACCURACY -->\", accuracy_score(y_test, y_pred_lstm))\n",
    "print(classification_report(y_test, y_pred_lstm, target_names=[\"Fake\", \"Real\"]))"
   ]
  },
  {
   "cell_type": "markdown",
   "id": "ddd572f8",
   "metadata": {},
   "source": [
    "### 1D CONVOLUTIONAL NEURAL NETWORK"
   ]
  },
  {
   "cell_type": "code",
   "execution_count": 9,
   "id": "7afbca34",
   "metadata": {},
   "outputs": [
    {
     "name": "stdout",
     "output_type": "stream",
     "text": [
      "Epoch 1/5\n"
     ]
    },
    {
     "name": "stderr",
     "output_type": "stream",
     "text": [
      "c:\\FAKE NEWS DETECTION\\VENV\\Lib\\site-packages\\keras\\src\\layers\\core\\embedding.py:97: UserWarning: Argument `input_length` is deprecated. Just remove it.\n",
      "  warnings.warn(\n"
     ]
    },
    {
     "name": "stdout",
     "output_type": "stream",
     "text": [
      "\u001b[1m218/218\u001b[0m \u001b[32m━━━━━━━━━━━━━━━━━━━━\u001b[0m\u001b[37m\u001b[0m \u001b[1m12s\u001b[0m 46ms/step - accuracy: 0.7948 - loss: 0.3825 - val_accuracy: 0.9835 - val_loss: 0.0509\n",
      "Epoch 2/5\n",
      "\u001b[1m218/218\u001b[0m \u001b[32m━━━━━━━━━━━━━━━━━━━━\u001b[0m\u001b[37m\u001b[0m \u001b[1m10s\u001b[0m 45ms/step - accuracy: 0.9906 - loss: 0.0336 - val_accuracy: 0.9858 - val_loss: 0.0428\n",
      "Epoch 3/5\n",
      "\u001b[1m218/218\u001b[0m \u001b[32m━━━━━━━━━━━━━━━━━━━━\u001b[0m\u001b[37m\u001b[0m \u001b[1m10s\u001b[0m 47ms/step - accuracy: 0.9979 - loss: 0.0107 - val_accuracy: 0.9854 - val_loss: 0.0462\n",
      "Epoch 4/5\n",
      "\u001b[1m218/218\u001b[0m \u001b[32m━━━━━━━━━━━━━━━━━━━━\u001b[0m\u001b[37m\u001b[0m \u001b[1m13s\u001b[0m 58ms/step - accuracy: 0.9994 - loss: 0.0047 - val_accuracy: 0.9877 - val_loss: 0.0501\n"
     ]
    },
    {
     "data": {
      "text/plain": [
       "<keras.src.callbacks.history.History at 0x1d6ff62b050>"
      ]
     },
     "execution_count": 9,
     "metadata": {},
     "output_type": "execute_result"
    }
   ],
   "source": [
    "model_cnn = Sequential([\n",
    "    Embedding(MAX_WORDS, 128, input_length=MAX_LEN),\n",
    "    Conv1D(64, kernel_size=5, activation='relu'),\n",
    "    GlobalMaxPooling1D(),\n",
    "    Dense(64, activation='relu'),\n",
    "    Dropout(0.5),\n",
    "    Dense(1, activation='sigmoid')\n",
    "])\n",
    "\n",
    "model_cnn.compile(loss='binary_crossentropy', optimizer='adam', metrics=['accuracy'])\n",
    "\n",
    "# TRAIN\n",
    "model_cnn.fit(X_train, y_train, validation_split=0.1, epochs=5, batch_size=128, callbacks=[EarlyStopping(patience=2)])"
   ]
  },
  {
   "cell_type": "markdown",
   "id": "12fab389",
   "metadata": {},
   "source": [
    "### EVALUATE CNN"
   ]
  },
  {
   "cell_type": "code",
   "execution_count": 10,
   "id": "26eeb2f2",
   "metadata": {},
   "outputs": [
    {
     "name": "stdout",
     "output_type": "stream",
     "text": [
      "\u001b[1m242/242\u001b[0m \u001b[32m━━━━━━━━━━━━━━━━━━━━\u001b[0m\u001b[37m\u001b[0m \u001b[1m2s\u001b[0m 7ms/step\n",
      "CNN ACCURACY: 0.9873221216041397\n",
      "              precision    recall  f1-score   support\n",
      "\n",
      "        Fake       0.99      0.98      0.99      3491\n",
      "        Real       0.98      0.99      0.99      4239\n",
      "\n",
      "    accuracy                           0.99      7730\n",
      "   macro avg       0.99      0.99      0.99      7730\n",
      "weighted avg       0.99      0.99      0.99      7730\n",
      "\n"
     ]
    }
   ],
   "source": [
    "y_pred_cnn = model_cnn.predict(X_test)\n",
    "y_pred_cnn = (y_pred_cnn > 0.5).astype(int)\n",
    "\n",
    "print(\"CNN ACCURACY:\", accuracy_score(y_test, y_pred_cnn))\n",
    "print(classification_report(y_test, y_pred_cnn, target_names=[\"Fake\", \"Real\"]))"
   ]
  }
 ],
 "metadata": {
  "kernelspec": {
   "display_name": "VENV",
   "language": "python",
   "name": "python3"
  },
  "language_info": {
   "codemirror_mode": {
    "name": "ipython",
    "version": 3
   },
   "file_extension": ".py",
   "mimetype": "text/x-python",
   "name": "python",
   "nbconvert_exporter": "python",
   "pygments_lexer": "ipython3",
   "version": "3.12.7"
  }
 },
 "nbformat": 4,
 "nbformat_minor": 5
}
