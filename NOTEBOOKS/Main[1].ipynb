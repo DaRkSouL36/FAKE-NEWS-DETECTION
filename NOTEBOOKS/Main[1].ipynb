{
 "cells": [
  {
   "cell_type": "markdown",
   "id": "71c9c352",
   "metadata": {},
   "source": [
    "### LIBRARY"
   ]
  },
  {
   "cell_type": "code",
   "execution_count": null,
   "id": "d9b12d13",
   "metadata": {},
   "outputs": [],
   "source": [
    "import pandas as pd              # IMPORTS THE PANDAS LIBRARY FOR DATA HANDLING AND ANALYSIS"
   ]
  },
  {
   "cell_type": "markdown",
   "id": "493c8c66",
   "metadata": {},
   "source": [
    "### DATA READING"
   ]
  },
  {
   "cell_type": "code",
   "execution_count": 2,
   "id": "079e4c84",
   "metadata": {},
   "outputs": [],
   "source": [
    "FAKE_PATH = \"../DATA/FAKE.csv\"        # DEFINES THE FILE PATH TO THE FAKE NEWS CSV FILE\n",
    "TRUE_PATH = \"../DATA/TRUE.csv\"        # DEFINES THE FILE PATH TO THE TRUE NEWS CSV FILE\n",
    "\n",
    "fake_df = pd.read_csv(FAKE_PATH)      # READS THE FAKE NEWS CSV INTO A PANDAS DATAFRAME NAMED fake_df\n",
    "true_df = pd.read_csv(TRUE_PATH)      # READS THE TRUE NEWS CSV INTO A PANDAS DATAFRAME NAMED true_df"
   ]
  },
  {
   "cell_type": "code",
   "execution_count": 17,
   "id": "b22a74cf",
   "metadata": {},
   "outputs": [
    {
     "data": {
      "application/vnd.microsoft.datawrangler.viewer.v0+json": {
       "columns": [
        {
         "name": "index",
         "rawType": "int64",
         "type": "integer"
        },
        {
         "name": "title",
         "rawType": "object",
         "type": "string"
        },
        {
         "name": "text",
         "rawType": "object",
         "type": "string"
        },
        {
         "name": "subject",
         "rawType": "object",
         "type": "string"
        },
        {
         "name": "date",
         "rawType": "object",
         "type": "string"
        }
       ],
       "conversionMethod": "pd.DataFrame",
       "ref": "fdf64b55-9264-4623-98fc-d54ca01dc67a",
       "rows": [
        [
         "0",
         " Donald Trump Sends Out Embarrassing New Year’s Eve Message; This is Disturbing",
         "Donald Trump just couldn t wish all Americans a Happy New Year and leave it at that. Instead, he had to give a shout out to his enemies, haters and  the very dishonest fake news media.  The former reality show star had just one job to do and he couldn t do it. As our Country rapidly grows stronger and smarter, I want to wish all of my friends, supporters, enemies, haters, and even the very dishonest Fake News Media, a Happy and Healthy New Year,  President Angry Pants tweeted.  2018 will be a great year for America! As our Country rapidly grows stronger and smarter, I want to wish all of my friends, supporters, enemies, haters, and even the very dishonest Fake News Media, a Happy and Healthy New Year. 2018 will be a great year for America!  Donald J. Trump (@realDonaldTrump) December 31, 2017Trump s tweet went down about as welll as you d expect.What kind of president sends a New Year s greeting like this despicable, petty, infantile gibberish? Only Trump! His lack of decency won t even allow him to rise above the gutter long enough to wish the American citizens a happy new year!  Bishop Talbert Swan (@TalbertSwan) December 31, 2017no one likes you  Calvin (@calvinstowell) December 31, 2017Your impeachment would make 2018 a great year for America, but I ll also accept regaining control of Congress.  Miranda Yaver (@mirandayaver) December 31, 2017Do you hear yourself talk? When you have to include that many people that hate you you have to wonder? Why do the they all hate me?  Alan Sandoval (@AlanSandoval13) December 31, 2017Who uses the word Haters in a New Years wish??  Marlene (@marlene399) December 31, 2017You can t just say happy new year?  Koren pollitt (@Korencarpenter) December 31, 2017Here s Trump s New Year s Eve tweet from 2016.Happy New Year to all, including to my many enemies and those who have fought me and lost so badly they just don t know what to do. Love!  Donald J. Trump (@realDonaldTrump) December 31, 2016This is nothing new for Trump. He s been doing this for years.Trump has directed messages to his  enemies  and  haters  for New Year s, Easter, Thanksgiving, and the anniversary of 9/11. pic.twitter.com/4FPAe2KypA  Daniel Dale (@ddale8) December 31, 2017Trump s holiday tweets are clearly not presidential.How long did he work at Hallmark before becoming President?  Steven Goodine (@SGoodine) December 31, 2017He s always been like this . . . the only difference is that in the last few years, his filter has been breaking down.  Roy Schulze (@thbthttt) December 31, 2017Who, apart from a teenager uses the term haters?  Wendy (@WendyWhistles) December 31, 2017he s a fucking 5 year old  Who Knows (@rainyday80) December 31, 2017So, to all the people who voted for this a hole thinking he would change once he got into power, you were wrong! 70-year-old men don t change and now he s a year older.Photo by Andrew Burton/Getty Images.",
         "News",
         "December 31, 2017"
        ],
        [
         "1",
         " Drunk Bragging Trump Staffer Started Russian Collusion Investigation",
         "House Intelligence Committee Chairman Devin Nunes is going to have a bad day. He s been under the assumption, like many of us, that the Christopher Steele-dossier was what prompted the Russia investigation so he s been lashing out at the Department of Justice and the FBI in order to protect Trump. As it happens, the dossier is not what started the investigation, according to documents obtained by the New York Times.Former Trump campaign adviser George Papadopoulos was drunk in a wine bar when he revealed knowledge of Russian opposition research on Hillary Clinton.On top of that, Papadopoulos wasn t just a covfefe boy for Trump, as his administration has alleged. He had a much larger role, but none so damning as being a drunken fool in a wine bar. Coffee boys  don t help to arrange a New York meeting between Trump and President Abdel Fattah el-Sisi of Egypt two months before the election. It was known before that the former aide set up meetings with world leaders for Trump, but team Trump ran with him being merely a coffee boy.In May 2016, Papadopoulos revealed to Australian diplomat Alexander Downer that Russian officials were shopping around possible dirt on then-Democratic presidential nominee Hillary Clinton. Exactly how much Mr. Papadopoulos said that night at the Kensington Wine Rooms with the Australian, Alexander Downer, is unclear,  the report states.  But two months later, when leaked Democratic emails began appearing online, Australian officials passed the information about Mr. Papadopoulos to their American counterparts, according to four current and former American and foreign officials with direct knowledge of the Australians  role. Papadopoulos pleaded guilty to lying to the F.B.I. and is now a cooperating witness with Special Counsel Robert Mueller s team.This isn t a presidency. It s a badly scripted reality TV show.Photo by Win McNamee/Getty Images.",
         "News",
         "December 31, 2017"
        ],
        [
         "2",
         " Sheriff David Clarke Becomes An Internet Joke For Threatening To Poke People ‘In The Eye’",
         "On Friday, it was revealed that former Milwaukee Sheriff David Clarke, who was being considered for Homeland Security Secretary in Donald Trump s administration, has an email scandal of his own.In January, there was a brief run-in on a plane between Clarke and fellow passenger Dan Black, who he later had detained by the police for no reason whatsoever, except that maybe his feelings were hurt. Clarke messaged the police to stop Black after he deplaned, and now, a search warrant has been executed by the FBI to see the exchanges.Clarke is calling it fake news even though copies of the search warrant are on the Internet. I am UNINTIMIDATED by lib media attempts to smear and discredit me with their FAKE NEWS reports designed to silence me,  the former sheriff tweeted.  I will continue to poke them in the eye with a sharp stick and bitch slap these scum bags til they get it. I have been attacked by better people than them #MAGA I am UNINTIMIDATED by lib media attempts to smear and discredit me with their FAKE NEWS reports designed to silence me. I will continue to poke them in the eye with a sharp stick and bitch slap these scum bags til they get it. I have been attacked by better people than them #MAGA pic.twitter.com/XtZW5PdU2b  David A. Clarke, Jr. (@SheriffClarke) December 30, 2017He didn t stop there.BREAKING NEWS! When LYING LIB MEDIA makes up FAKE NEWS to smear me, the ANTIDOTE is go right at them. Punch them in the nose & MAKE THEM TASTE THEIR OWN BLOOD. Nothing gets a bully like LYING LIB MEDIA S attention better than to give them a taste of their own blood #neverbackdown pic.twitter.com/T2NY2psHCR  David A. Clarke, Jr. (@SheriffClarke) December 30, 2017The internet called him out.This is your local newspaper and that search warrant isn t fake, and just because the chose not to file charges at the time doesn t mean they won t! Especially if you continue to lie. Months after decision not to charge Clarke, email search warrant filed https://t.co/zcbyc4Wp5b  KeithLeBlanc (@KeithLeBlanc63) December 30, 2017I just hope the rest of the Village People aren t implicated.  Kirk Ketchum (@kirkketchum) December 30, 2017Slaw, baked potatoes, or French fries? pic.twitter.com/fWfXsZupxy  ALT- Immigration   (@ALT_uscis) December 30, 2017pic.twitter.com/ymsOBLjfxU  Pendulum Swinger (@PendulumSwngr) December 30, 2017you called your police friends to stand up for you when someone made fun of your hat  Chris Jackson (@ChrisCJackson) December 30, 2017Is it me, with this masterful pshop of your hat, which I seem to never tire of. I think it s the steely resolve in your one visible eye pic.twitter.com/dWr5k8ZEZV  Chris Mohney (@chrismohney) December 30, 2017Are you indicating with your fingers how many people died in your jail? I think you re a few fingers short, dipshit  Ike Barinholtz (@ikebarinholtz) December 30, 2017ROFL. Internet tough guy with fake flair. pic.twitter.com/ulCFddhkdy  KellMeCrazy (@Kel_MoonFace) December 30, 2017You re so edgy, buddy.  Mrs. SMH (@MRSSMH2) December 30, 2017Is his break over at Applebees?  Aaron (@feltrrr2) December 30, 2017Are you trying to earn your  still relevant  badge?  CircusRebel (@CircusDrew) December 30, 2017make sure to hydrate, drink lots of water. It s rumored that prisoners can be denied water by prison officials.  Robert Klinc (@RobertKlinc1) December 30, 2017Terrill Thomas, the 38-year-old black man who died of thirst in Clarke s Milwaukee County Jail cell this April, was a victim of homicide. We just thought we should point that out. It can t be repeated enough.Photo by Spencer Platt/Getty Images.",
         "News",
         "December 30, 2017"
        ],
        [
         "3",
         " Trump Is So Obsessed He Even Has Obama’s Name Coded Into His Website (IMAGES)",
         "On Christmas day, Donald Trump announced that he would  be back to work  the following day, but he is golfing for the fourth day in a row. The former reality show star blasted former President Barack Obama for playing golf and now Trump is on track to outpace the number of golf games his predecessor played.Updated my tracker of Trump s appearances at Trump properties.71 rounds of golf including today s. At this pace, he ll pass Obama s first-term total by July 24 next year. https://t.co/Fg7VacxRtJ pic.twitter.com/5gEMcjQTbH  Philip Bump (@pbump) December 29, 2017 That makes what a Washington Post reporter discovered on Trump s website really weird, but everything about this administration is bizarre AF. The coding contained a reference to Obama and golf:  Unlike Obama, we are working to fix the problem   and not on the golf course.  However, the coding wasn t done correctly.The website of Donald Trump, who has spent several days in a row at the golf course, is coded to serve up the following message in the event of an internal server error: https://t.co/zrWpyMXRcz pic.twitter.com/wiQSQNNzw0  Christopher Ingraham (@_cingraham) December 28, 2017That snippet of code appears to be on all https://t.co/dkhw0AlHB4 pages, which the footer says is paid for by the RNC? pic.twitter.com/oaZDT126B3  Christopher Ingraham (@_cingraham) December 28, 2017It s also all over https://t.co/ayBlGmk65Z. As others have noted in this thread, this is weird code and it s not clear it would ever actually display, but who knows.  Christopher Ingraham (@_cingraham) December 28, 2017After the coding was called out, the reference to Obama was deleted.UPDATE: The golf error message has been removed from the Trump and GOP websites. They also fixed the javascript  =  vs  ==  problem. Still not clear when these messages would actually display, since the actual 404 (and presumably 500) page displays a different message pic.twitter.com/Z7dmyQ5smy  Christopher Ingraham (@_cingraham) December 29, 2017That suggests someone at either RNC or the Trump admin is sensitive enough to Trump s golf problem to make this issue go away quickly once people noticed. You have no idea how much I d love to see the email exchange that led us here.  Christopher Ingraham (@_cingraham) December 29, 2017 The code was f-cked up.The best part about this is that they are using the  =  (assignment) operator which means that bit of code will never get run. If you look a few lines up  errorCode  will always be  404          (@tw1trsux) December 28, 2017trump s coders can t code. Nobody is surprised.  Tim Peterson (@timrpeterson) December 28, 2017Donald Trump is obsessed with Obama that his name was even in the coding of his website while he played golf again.Photo by Joe Raedle/Getty Images.",
         "News",
         "December 29, 2017"
        ],
        [
         "4",
         " Pope Francis Just Called Out Donald Trump During His Christmas Speech",
         "Pope Francis used his annual Christmas Day message to rebuke Donald Trump without even mentioning his name. The Pope delivered his message just days after members of the United Nations condemned Trump s move to recognize Jerusalem as the capital of Israel. The Pontiff prayed on Monday for the  peaceful coexistence of two states within mutually agreed and internationally recognized borders. We see Jesus in the children of the Middle East who continue to suffer because of growing tensions between Israelis and Palestinians,  Francis said.  On this festive day, let us ask the Lord for peace for Jerusalem and for all the Holy Land. Let us pray that the will to resume dialogue may prevail between the parties and that a negotiated solution can finally be reached. The Pope went on to plead for acceptance of refugees who have been forced from their homes, and that is an issue Trump continues to fight against. Francis used Jesus for which there was  no place in the inn  as an analogy. Today, as the winds of war are blowing in our world and an outdated model of development continues to produce human, societal and environmental decline, Christmas invites us to focus on the sign of the Child and to recognize him in the faces of little children, especially those for whom, like Jesus,  there is no place in the inn,  he said. Jesus knows well the pain of not being welcomed and how hard it is not to have a place to lay one s head,  he added.  May our hearts not be closed as they were in the homes of Bethlehem. The Pope said that Mary and Joseph were immigrants who struggled to find a safe place to stay in Bethlehem. They had to leave their people, their home, and their land,  Francis said.  This was no comfortable or easy journey for a young couple about to have a child.   At heart, they were full of hope and expectation because of the child about to be born; yet their steps were weighed down by the uncertainties and dangers that attend those who have to leave their home behind. So many other footsteps are hidden in the footsteps of Joseph and Mary,  Francis said Sunday. We see the tracks of entire families forced to set out in our own day. We see the tracks of millions of persons who do not choose to go away, but driven from their land, leave behind their dear ones. Amen to that.Photo by Christopher Furlong/Getty Images.",
         "News",
         "December 25, 2017"
        ]
       ],
       "shape": {
        "columns": 4,
        "rows": 5
       }
      },
      "text/html": [
       "<div>\n",
       "<style scoped>\n",
       "    .dataframe tbody tr th:only-of-type {\n",
       "        vertical-align: middle;\n",
       "    }\n",
       "\n",
       "    .dataframe tbody tr th {\n",
       "        vertical-align: top;\n",
       "    }\n",
       "\n",
       "    .dataframe thead th {\n",
       "        text-align: right;\n",
       "    }\n",
       "</style>\n",
       "<table border=\"1\" class=\"dataframe\">\n",
       "  <thead>\n",
       "    <tr style=\"text-align: right;\">\n",
       "      <th></th>\n",
       "      <th>title</th>\n",
       "      <th>text</th>\n",
       "      <th>subject</th>\n",
       "      <th>date</th>\n",
       "    </tr>\n",
       "  </thead>\n",
       "  <tbody>\n",
       "    <tr>\n",
       "      <th>0</th>\n",
       "      <td>Donald Trump Sends Out Embarrassing New Year’...</td>\n",
       "      <td>Donald Trump just couldn t wish all Americans ...</td>\n",
       "      <td>News</td>\n",
       "      <td>December 31, 2017</td>\n",
       "    </tr>\n",
       "    <tr>\n",
       "      <th>1</th>\n",
       "      <td>Drunk Bragging Trump Staffer Started Russian ...</td>\n",
       "      <td>House Intelligence Committee Chairman Devin Nu...</td>\n",
       "      <td>News</td>\n",
       "      <td>December 31, 2017</td>\n",
       "    </tr>\n",
       "    <tr>\n",
       "      <th>2</th>\n",
       "      <td>Sheriff David Clarke Becomes An Internet Joke...</td>\n",
       "      <td>On Friday, it was revealed that former Milwauk...</td>\n",
       "      <td>News</td>\n",
       "      <td>December 30, 2017</td>\n",
       "    </tr>\n",
       "    <tr>\n",
       "      <th>3</th>\n",
       "      <td>Trump Is So Obsessed He Even Has Obama’s Name...</td>\n",
       "      <td>On Christmas day, Donald Trump announced that ...</td>\n",
       "      <td>News</td>\n",
       "      <td>December 29, 2017</td>\n",
       "    </tr>\n",
       "    <tr>\n",
       "      <th>4</th>\n",
       "      <td>Pope Francis Just Called Out Donald Trump Dur...</td>\n",
       "      <td>Pope Francis used his annual Christmas Day mes...</td>\n",
       "      <td>News</td>\n",
       "      <td>December 25, 2017</td>\n",
       "    </tr>\n",
       "  </tbody>\n",
       "</table>\n",
       "</div>"
      ],
      "text/plain": [
       "                                               title  \\\n",
       "0   Donald Trump Sends Out Embarrassing New Year’...   \n",
       "1   Drunk Bragging Trump Staffer Started Russian ...   \n",
       "2   Sheriff David Clarke Becomes An Internet Joke...   \n",
       "3   Trump Is So Obsessed He Even Has Obama’s Name...   \n",
       "4   Pope Francis Just Called Out Donald Trump Dur...   \n",
       "\n",
       "                                                text subject  \\\n",
       "0  Donald Trump just couldn t wish all Americans ...    News   \n",
       "1  House Intelligence Committee Chairman Devin Nu...    News   \n",
       "2  On Friday, it was revealed that former Milwauk...    News   \n",
       "3  On Christmas day, Donald Trump announced that ...    News   \n",
       "4  Pope Francis used his annual Christmas Day mes...    News   \n",
       "\n",
       "                date  \n",
       "0  December 31, 2017  \n",
       "1  December 31, 2017  \n",
       "2  December 30, 2017  \n",
       "3  December 29, 2017  \n",
       "4  December 25, 2017  "
      ]
     },
     "execution_count": 17,
     "metadata": {},
     "output_type": "execute_result"
    }
   ],
   "source": [
    "fake_df.head()"
   ]
  },
  {
   "cell_type": "markdown",
   "id": "3d09cd69",
   "metadata": {},
   "source": [
    "### ADD LABELS"
   ]
  },
  {
   "cell_type": "code",
   "execution_count": 3,
   "id": "358af56b",
   "metadata": {},
   "outputs": [],
   "source": [
    "fake_df[\"label\"] = 0      # ADDS A NEW COLUMN 'label' TO fake_df AND ASSIGNS 0 TO INDICATE FAKE NEWS\n",
    "true_df[\"label\"] = 1      # ADDS A NEW COLUMN 'label' TO true_df AND ASSIGNS 1 TO INDICATE TRUE NEWS"
   ]
  },
  {
   "cell_type": "code",
   "execution_count": null,
   "id": "1980746f",
   "metadata": {},
   "outputs": [
    {
     "data": {
      "application/vnd.microsoft.datawrangler.viewer.v0+json": {
       "columns": [
        {
         "name": "index",
         "rawType": "int64",
         "type": "integer"
        },
        {
         "name": "title",
         "rawType": "object",
         "type": "string"
        },
        {
         "name": "text",
         "rawType": "object",
         "type": "string"
        },
        {
         "name": "subject",
         "rawType": "object",
         "type": "string"
        },
        {
         "name": "date",
         "rawType": "object",
         "type": "string"
        },
        {
         "name": "label",
         "rawType": "int64",
         "type": "integer"
        }
       ],
       "conversionMethod": "pd.DataFrame",
       "ref": "5407549a-7c95-4e5c-9132-e1fdcca02d70",
       "rows": [
        [
         "0",
         "As U.S. budget fight looms, Republicans flip their fiscal script",
         "WASHINGTON (Reuters) - The head of a conservative Republican faction in the U.S. Congress, who voted this month for a huge expansion of the national debt to pay for tax cuts, called himself a “fiscal conservative” on Sunday and urged budget restraint in 2018. In keeping with a sharp pivot under way among Republicans, U.S. Representative Mark Meadows, speaking on CBS’ “Face the Nation,” drew a hard line on federal spending, which lawmakers are bracing to do battle over in January. When they return from the holidays on Wednesday, lawmakers will begin trying to pass a federal budget in a fight likely to be linked to other issues, such as immigration policy, even as the November congressional election campaigns approach in which Republicans will seek to keep control of Congress. President Donald Trump and his Republicans want a big budget increase in military spending, while Democrats also want proportional increases for non-defense “discretionary” spending on programs that support education, scientific research, infrastructure, public health and environmental protection. “The (Trump) administration has already been willing to say: ‘We’re going to increase non-defense discretionary spending ... by about 7 percent,’” Meadows, chairman of the small but influential House Freedom Caucus, said on the program. “Now, Democrats are saying that’s not enough, we need to give the government a pay raise of 10 to 11 percent. For a fiscal conservative, I don’t see where the rationale is. ... Eventually you run out of other people’s money,” he said. Meadows was among Republicans who voted in late December for their party’s debt-financed tax overhaul, which is expected to balloon the federal budget deficit and add about $1.5 trillion over 10 years to the $20 trillion national debt. “It’s interesting to hear Mark talk about fiscal responsibility,” Democratic U.S. Representative Joseph Crowley said on CBS. Crowley said the Republican tax bill would require the  United States to borrow $1.5 trillion, to be paid off by future generations, to finance tax cuts for corporations and the rich. “This is one of the least ... fiscally responsible bills we’ve ever seen passed in the history of the House of Representatives. I think we’re going to be paying for this for many, many years to come,” Crowley said. Republicans insist the tax package, the biggest U.S. tax overhaul in more than 30 years,  will boost the economy and job growth. House Speaker Paul Ryan, who also supported the tax bill, recently went further than Meadows, making clear in a radio interview that welfare or “entitlement reform,” as the party often calls it, would be a top Republican priority in 2018. In Republican parlance, “entitlement” programs mean food stamps, housing assistance, Medicare and Medicaid health insurance for the elderly, poor and disabled, as well as other programs created by Washington to assist the needy. Democrats seized on Ryan’s early December remarks, saying they showed Republicans would try to pay for their tax overhaul by seeking spending cuts for social programs. But the goals of House Republicans may have to take a back seat to the Senate, where the votes of some Democrats will be needed to approve a budget and prevent a government shutdown. Democrats will use their leverage in the Senate, which Republicans narrowly control, to defend both discretionary non-defense programs and social spending, while tackling the issue of the “Dreamers,” people brought illegally to the country as children. Trump in September put a March 2018 expiration date on the Deferred Action for Childhood Arrivals, or DACA, program, which protects the young immigrants from deportation and provides them with work permits. The president has said in recent Twitter messages he wants funding for his proposed Mexican border wall and other immigration law changes in exchange for agreeing to help the Dreamers. Representative Debbie Dingell told CBS she did not favor linking that issue to other policy objectives, such as wall funding. “We need to do DACA clean,” she said.  On Wednesday, Trump aides will meet with congressional leaders to discuss those issues. That will be followed by a weekend of strategy sessions for Trump and Republican leaders on Jan. 6 and 7, the White House said. Trump was also scheduled to meet on Sunday with Florida Republican Governor Rick Scott, who wants more emergency aid. The House has passed an $81 billion aid package after hurricanes in Florida, Texas and Puerto Rico, and wildfires in California. The package far exceeded the $44 billion requested by the Trump administration. The Senate has not yet voted on the aid. ",
         "politicsNews",
         "December 31, 2017 ",
         "1"
        ],
        [
         "1",
         "U.S. military to accept transgender recruits on Monday: Pentagon",
         "WASHINGTON (Reuters) - Transgender people will be allowed for the first time to enlist in the U.S. military starting on Monday as ordered by federal courts, the Pentagon said on Friday, after President Donald Trump’s administration decided not to appeal rulings that blocked his transgender ban. Two federal appeals courts, one in Washington and one in Virginia, last week rejected the administration’s request to put on hold orders by lower court judges requiring the military to begin accepting transgender recruits on Jan. 1. A Justice Department official said the administration will not challenge those rulings. “The Department of Defense has announced that it will be releasing an independent study of these issues in the coming weeks. So rather than litigate this interim appeal before that occurs, the administration has decided to wait for DOD’s study and will continue to defend the president’s lawful authority in District Court in the meantime,” the official said, speaking on condition of anonymity. In September, the Pentagon said it had created a panel of senior officials to study how to implement a directive by Trump to prohibit transgender individuals from serving. The Defense Department has until Feb. 21 to submit a plan to Trump. Lawyers representing currently-serving transgender service members and aspiring recruits said they had expected the administration to appeal the rulings to the conservative-majority Supreme Court, but were hoping that would not happen. Pentagon spokeswoman Heather Babb said in a statement: “As mandated by court order, the Department of Defense is prepared to begin accessing transgender applicants for military service Jan. 1. All applicants must meet all accession standards.” Jennifer Levi, a lawyer with gay, lesbian and transgender advocacy group GLAD, called the decision not to appeal “great news.” “I’m hoping it means the government has come to see that there is no way to justify a ban and that it’s not good for the military or our country,” Levi said. Both GLAD and the American Civil Liberties Union represent plaintiffs in the lawsuits filed against the administration. In a move that appealed to his hard-line conservative supporters, Trump announced in July that he would prohibit transgender people from serving in the military, reversing Democratic President Barack Obama’s policy of accepting them. Trump said on Twitter at the time that the military “cannot be burdened with the tremendous medical costs and disruption that transgender in the military would entail.” Four federal judges - in Baltimore, Washington, D.C., Seattle and Riverside, California - have issued rulings blocking Trump’s ban while legal challenges to the Republican president’s policy proceed. The judges said the ban would likely violate the right under the U.S. Constitution to equal protection under the law. The Pentagon on Dec. 8 issued guidelines to recruitment personnel in order to enlist transgender applicants by Jan. 1. The memo outlined medical requirements and specified how the applicants’ sex would be identified and even which undergarments they would wear. The Trump administration previously said in legal papers that the armed forces were not prepared to train thousands of personnel on the medical standards needed to process transgender applicants and might have to accept “some individuals who are not medically fit for service.” The Obama administration had set a deadline of July 1, 2017, to begin accepting transgender recruits. But Trump’s defense secretary, James Mattis, postponed that date to Jan. 1, 2018, which the president’s ban then put off indefinitely. Trump has taken other steps aimed at rolling back transgender rights. In October, his administration said a federal law banning gender-based workplace discrimination does not protect transgender employees, reversing another Obama-era position. In February, Trump rescinded guidance issued by the Obama administration saying that public schools should allow transgender students to use the restroom that corresponds to their gender identity. ",
         "politicsNews",
         "December 29, 2017 ",
         "1"
        ],
        [
         "2",
         "Senior U.S. Republican senator: 'Let Mr. Mueller do his job'",
         "WASHINGTON (Reuters) - The special counsel investigation of links between Russia and President Trump’s 2016 election campaign should continue without interference in 2018, despite calls from some Trump administration allies and Republican lawmakers to shut it down, a prominent Republican senator said on Sunday. Lindsey Graham, who serves on the Senate armed forces and judiciary committees, said Department of Justice Special Counsel Robert Mueller needs to carry on with his Russia investigation without political interference. “This investigation will go forward. It will be an investigation conducted without political influence,” Graham said on CBS’s Face the Nation news program. “And we all need to let Mr. Mueller do his job. I think he’s the right guy at the right time.”  The question of how Russia may have interfered in the election, and how Trump’s campaign may have had links with or co-ordinated any such effort, has loomed over the White House since Trump took office in January. It shows no sign of receding as Trump prepares for his second year in power, despite intensified rhetoric from some Trump allies in recent weeks accusing Mueller’s team of bias against the Republican president. Trump himself seemed to undercut his supporters in an interview last week with the New York Times in which he said he expected Mueller was “going to be fair.”    Russia’s role in the election and the question of possible links to the Trump campaign are the focus of multiple inquiries in Washington. Three committees of the Senate and the House of Representatives are investigating, as well as Mueller, whose team in May took over an earlier probe launched by the U.S. Federal Bureau of Investigation (FBI). Several members of the Trump campaign and administration have been convicted or indicted in the investigation.  Trump and his allies deny any collusion with Russia during the campaign, and the Kremlin has denied meddling in the election. Graham said he still wants an examination of the FBI’s use of a dossier on links between Trump and Russia that was compiled by a former British spy, Christopher Steele, which prompted Trump allies and some Republicans to question Mueller’s inquiry.   On Saturday, the New York Times reported that it was not that dossier that triggered an early FBI probe, but a tip from former Trump campaign foreign policy adviser George Papadopoulos to an Australian diplomat that Russia had damaging information about former Trump rival Hillary Clinton.  “I want somebody to look at the way the Department of Justice used this dossier. It bothers me greatly the way they used it, and I want somebody to look at it,” Graham said. But he said the Russia investigation must continue. “As a matter of fact, it would hurt us if we ignored it,” he said. ",
         "politicsNews",
         "December 31, 2017 ",
         "1"
        ],
        [
         "3",
         "FBI Russia probe helped by Australian diplomat tip-off: NYT",
         "WASHINGTON (Reuters) - Trump campaign adviser George Papadopoulos told an Australian diplomat in May 2016 that Russia had political dirt on Democratic presidential candidate Hillary Clinton, the New York Times reported on Saturday. The conversation between Papadopoulos and the diplomat, Alexander Downer, in London was a driving factor behind the FBI’s decision to open a counter-intelligence investigation of Moscow’s contacts with the Trump campaign, the Times reported. Two months after the meeting, Australian officials passed the information that came from Papadopoulos to their American counterparts when leaked Democratic emails began appearing online, according to the newspaper, which cited four current and former U.S. and foreign officials. Besides the information from the Australians, the probe by the Federal Bureau of Investigation was also propelled by intelligence from other friendly governments, including the British and Dutch, the Times said. Papadopoulos, a Chicago-based international energy lawyer, pleaded guilty on Oct. 30 to lying to FBI agents about contacts with people who claimed to have ties to top Russian officials. It was the first criminal charge alleging links between the Trump campaign and Russia. The White House has played down the former aide’s campaign role, saying it was “extremely limited” and that any actions he took would have been on his own. The New York Times, however, reported that Papadopoulos helped set up a meeting between then-candidate Donald Trump and Egyptian President Abdel Fattah al-Sisi and edited the outline of Trump’s first major foreign policy speech in April 2016. The federal investigation, which is now being led by Special Counsel Robert Mueller, has hung over Trump’s White House since he took office almost a year ago. Some Trump allies have recently accused Mueller’s team of being biased against the Republican president. Lawyers for Papadopoulos did not immediately respond to requests by Reuters for comment. Mueller’s office declined to comment. Trump’s White House attorney, Ty Cobb, declined to comment on the New York Times report. “Out of respect for the special counsel and his process, we are not commenting on matters such as this,” he said in a statement. Mueller has charged four Trump associates, including Papadopoulos, in his investigation. Russia has denied interfering in the U.S. election and Trump has said there was no collusion between his campaign and Moscow. ",
         "politicsNews",
         "December 30, 2017 ",
         "1"
        ],
        [
         "4",
         "Trump wants Postal Service to charge 'much more' for Amazon shipments",
         "SEATTLE/WASHINGTON (Reuters) - President Donald Trump called on the U.S. Postal Service on Friday to charge “much more” to ship packages for Amazon (AMZN.O), picking another fight with an online retail giant he has criticized in the past.     “Why is the United States Post Office, which is losing many billions of dollars a year, while charging Amazon and others so little to deliver their packages, making Amazon richer and the Post Office dumber and poorer? Should be charging MUCH MORE!” Trump wrote on Twitter.  The president’s tweet drew fresh attention to the fragile finances of the Postal Service at a time when tens of millions of parcels have just been shipped all over the country for the holiday season.  The U.S. Postal Service, which runs at a big loss, is an independent agency within the federal government and does not receive tax dollars for operating expenses, according to its website.  Package delivery has become an increasingly important part of its business as the Internet has led to a sharp decline in the amount of first-class letters. The president does not determine postal rates. They are set by the Postal Regulatory Commission, an independent government agency with commissioners selected by the president from both political parties. That panel raised prices on packages by almost 2 percent in November.  Amazon was founded by Jeff Bezos, who remains the chief executive officer of the retail company and is the richest person in the world, according to Bloomberg News. Bezos also owns The Washington Post, a newspaper Trump has repeatedly railed against in his criticisms of the news media. In tweets over the past year, Trump has said the “Amazon Washington Post” fabricated stories. He has said Amazon does not pay sales tax, which is not true, and so hurts other retailers, part of a pattern by the former businessman and reality television host of periodically turning his ire on big American companies since he took office in January. Daniel Ives, a research analyst at GBH Insights, said Trump’s comment could be taken as a warning to the retail giant. However, he said he was not concerned for Amazon. “We do not see any price hikes in the future. However, that is a risk that Amazon is clearly aware of and (it) is building out its distribution (system) aggressively,” he said. Amazon has shown interest in the past in shifting into its own delivery service, including testing drones for deliveries. In 2015, the company spent $11.5 billion on shipping, 46 percent of its total operating expenses that year.  Amazon shares were down 0.86 percent to $1,175.90 by early afternoon. Overall, U.S. stock prices were down slightly on Friday.  Satish Jindel, president of ShipMatrix Inc, which analyzes shipping data, disputed the idea that the Postal Service charges less than United Parcel Service Inc (UPS.N) and FedEx Corp (FDX.N), the other biggest players in the parcel delivery business in the United States. Many customers get lower rates from UPS and FedEx than they would get from the post office for comparable services, he said. The Postal Service delivers about 62 percent of Amazon packages, for about 3.5 to 4 million a day during the current peak year-end holiday shipping season, Jindel said. The Seattle-based company and the post office have an agreement in which mail carriers take Amazon packages on the last leg of their journeys, from post offices to customers’ doorsteps. Amazon’s No. 2 carrier is UPS, at 21 percent, and FedEx is third, with 8 percent or so, according to Jindel. Trump’s comment tapped into a debate over whether Postal Service pricing has kept pace with the rise of e-commerce, which has flooded the mail with small packages.Private companies like UPS have long claimed the current system unfairly undercuts their business. Steve Gaut, a spokesman for UPS, noted that the company values its “productive relationship” with the postal service, but that it has filed with the Postal Regulatory Commission its concerns about the postal service’s methods for covering costs. Representatives for Amazon, the White House, the U.S. Postal Service and FedEx declined comment or were not immediately available for comment on Trump’s tweet. According to its annual report, the Postal Service lost $2.74 billion this year, and its deficit has ballooned to $61.86 billion.  While the Postal Service’s revenue for first class mail, marketing mail and periodicals is flat or declining, revenue from package delivery is up 44 percent since 2014 to $19.5 billion in the fiscal year ended Sept. 30, 2017. But it also lost about $2 billion in revenue when a temporary surcharge expired in April 2016. According to a Government Accountability Office report in February, the service is facing growing personnel expenses, particularly $73.4 billion in unfunded pension and benefits liabilities. The Postal Service has not announced any plans to cut costs. By law, the Postal Service has to set prices for package delivery to cover the costs attributable to that service. But the postal service allocates only 5.5 percent of its total costs to its business of shipping packages even though that line of business is 28 percent of its total revenue. ",
         "politicsNews",
         "December 29, 2017 ",
         "1"
        ]
       ],
       "shape": {
        "columns": 5,
        "rows": 5
       }
      },
      "text/html": [
       "<div>\n",
       "<style scoped>\n",
       "    .dataframe tbody tr th:only-of-type {\n",
       "        vertical-align: middle;\n",
       "    }\n",
       "\n",
       "    .dataframe tbody tr th {\n",
       "        vertical-align: top;\n",
       "    }\n",
       "\n",
       "    .dataframe thead th {\n",
       "        text-align: right;\n",
       "    }\n",
       "</style>\n",
       "<table border=\"1\" class=\"dataframe\">\n",
       "  <thead>\n",
       "    <tr style=\"text-align: right;\">\n",
       "      <th></th>\n",
       "      <th>title</th>\n",
       "      <th>text</th>\n",
       "      <th>subject</th>\n",
       "      <th>date</th>\n",
       "      <th>label</th>\n",
       "    </tr>\n",
       "  </thead>\n",
       "  <tbody>\n",
       "    <tr>\n",
       "      <th>0</th>\n",
       "      <td>As U.S. budget fight looms, Republicans flip t...</td>\n",
       "      <td>WASHINGTON (Reuters) - The head of a conservat...</td>\n",
       "      <td>politicsNews</td>\n",
       "      <td>December 31, 2017</td>\n",
       "      <td>1</td>\n",
       "    </tr>\n",
       "    <tr>\n",
       "      <th>1</th>\n",
       "      <td>U.S. military to accept transgender recruits o...</td>\n",
       "      <td>WASHINGTON (Reuters) - Transgender people will...</td>\n",
       "      <td>politicsNews</td>\n",
       "      <td>December 29, 2017</td>\n",
       "      <td>1</td>\n",
       "    </tr>\n",
       "    <tr>\n",
       "      <th>2</th>\n",
       "      <td>Senior U.S. Republican senator: 'Let Mr. Muell...</td>\n",
       "      <td>WASHINGTON (Reuters) - The special counsel inv...</td>\n",
       "      <td>politicsNews</td>\n",
       "      <td>December 31, 2017</td>\n",
       "      <td>1</td>\n",
       "    </tr>\n",
       "    <tr>\n",
       "      <th>3</th>\n",
       "      <td>FBI Russia probe helped by Australian diplomat...</td>\n",
       "      <td>WASHINGTON (Reuters) - Trump campaign adviser ...</td>\n",
       "      <td>politicsNews</td>\n",
       "      <td>December 30, 2017</td>\n",
       "      <td>1</td>\n",
       "    </tr>\n",
       "    <tr>\n",
       "      <th>4</th>\n",
       "      <td>Trump wants Postal Service to charge 'much mor...</td>\n",
       "      <td>SEATTLE/WASHINGTON (Reuters) - President Donal...</td>\n",
       "      <td>politicsNews</td>\n",
       "      <td>December 29, 2017</td>\n",
       "      <td>1</td>\n",
       "    </tr>\n",
       "  </tbody>\n",
       "</table>\n",
       "</div>"
      ],
      "text/plain": [
       "                                               title  \\\n",
       "0  As U.S. budget fight looms, Republicans flip t...   \n",
       "1  U.S. military to accept transgender recruits o...   \n",
       "2  Senior U.S. Republican senator: 'Let Mr. Muell...   \n",
       "3  FBI Russia probe helped by Australian diplomat...   \n",
       "4  Trump wants Postal Service to charge 'much mor...   \n",
       "\n",
       "                                                text       subject  \\\n",
       "0  WASHINGTON (Reuters) - The head of a conservat...  politicsNews   \n",
       "1  WASHINGTON (Reuters) - Transgender people will...  politicsNews   \n",
       "2  WASHINGTON (Reuters) - The special counsel inv...  politicsNews   \n",
       "3  WASHINGTON (Reuters) - Trump campaign adviser ...  politicsNews   \n",
       "4  SEATTLE/WASHINGTON (Reuters) - President Donal...  politicsNews   \n",
       "\n",
       "                 date  label  \n",
       "0  December 31, 2017       1  \n",
       "1  December 29, 2017       1  \n",
       "2  December 31, 2017       1  \n",
       "3  December 30, 2017       1  \n",
       "4  December 29, 2017       1  "
      ]
     },
     "execution_count": 12,
     "metadata": {},
     "output_type": "execute_result"
    }
   ],
   "source": [
    "fake_df.head()"
   ]
  },
  {
   "cell_type": "code",
   "execution_count": 13,
   "id": "37efd185",
   "metadata": {},
   "outputs": [
    {
     "data": {
      "application/vnd.microsoft.datawrangler.viewer.v0+json": {
       "columns": [
        {
         "name": "index",
         "rawType": "int64",
         "type": "integer"
        },
        {
         "name": "title",
         "rawType": "object",
         "type": "string"
        },
        {
         "name": "text",
         "rawType": "object",
         "type": "string"
        },
        {
         "name": "subject",
         "rawType": "object",
         "type": "string"
        },
        {
         "name": "date",
         "rawType": "object",
         "type": "string"
        },
        {
         "name": "label",
         "rawType": "int64",
         "type": "integer"
        }
       ],
       "conversionMethod": "pd.DataFrame",
       "ref": "a367b106-8d8f-464a-9453-9a18becf3eab",
       "rows": [
        [
         "0",
         "As U.S. budget fight looms, Republicans flip their fiscal script",
         "WASHINGTON (Reuters) - The head of a conservative Republican faction in the U.S. Congress, who voted this month for a huge expansion of the national debt to pay for tax cuts, called himself a “fiscal conservative” on Sunday and urged budget restraint in 2018. In keeping with a sharp pivot under way among Republicans, U.S. Representative Mark Meadows, speaking on CBS’ “Face the Nation,” drew a hard line on federal spending, which lawmakers are bracing to do battle over in January. When they return from the holidays on Wednesday, lawmakers will begin trying to pass a federal budget in a fight likely to be linked to other issues, such as immigration policy, even as the November congressional election campaigns approach in which Republicans will seek to keep control of Congress. President Donald Trump and his Republicans want a big budget increase in military spending, while Democrats also want proportional increases for non-defense “discretionary” spending on programs that support education, scientific research, infrastructure, public health and environmental protection. “The (Trump) administration has already been willing to say: ‘We’re going to increase non-defense discretionary spending ... by about 7 percent,’” Meadows, chairman of the small but influential House Freedom Caucus, said on the program. “Now, Democrats are saying that’s not enough, we need to give the government a pay raise of 10 to 11 percent. For a fiscal conservative, I don’t see where the rationale is. ... Eventually you run out of other people’s money,” he said. Meadows was among Republicans who voted in late December for their party’s debt-financed tax overhaul, which is expected to balloon the federal budget deficit and add about $1.5 trillion over 10 years to the $20 trillion national debt. “It’s interesting to hear Mark talk about fiscal responsibility,” Democratic U.S. Representative Joseph Crowley said on CBS. Crowley said the Republican tax bill would require the  United States to borrow $1.5 trillion, to be paid off by future generations, to finance tax cuts for corporations and the rich. “This is one of the least ... fiscally responsible bills we’ve ever seen passed in the history of the House of Representatives. I think we’re going to be paying for this for many, many years to come,” Crowley said. Republicans insist the tax package, the biggest U.S. tax overhaul in more than 30 years,  will boost the economy and job growth. House Speaker Paul Ryan, who also supported the tax bill, recently went further than Meadows, making clear in a radio interview that welfare or “entitlement reform,” as the party often calls it, would be a top Republican priority in 2018. In Republican parlance, “entitlement” programs mean food stamps, housing assistance, Medicare and Medicaid health insurance for the elderly, poor and disabled, as well as other programs created by Washington to assist the needy. Democrats seized on Ryan’s early December remarks, saying they showed Republicans would try to pay for their tax overhaul by seeking spending cuts for social programs. But the goals of House Republicans may have to take a back seat to the Senate, where the votes of some Democrats will be needed to approve a budget and prevent a government shutdown. Democrats will use their leverage in the Senate, which Republicans narrowly control, to defend both discretionary non-defense programs and social spending, while tackling the issue of the “Dreamers,” people brought illegally to the country as children. Trump in September put a March 2018 expiration date on the Deferred Action for Childhood Arrivals, or DACA, program, which protects the young immigrants from deportation and provides them with work permits. The president has said in recent Twitter messages he wants funding for his proposed Mexican border wall and other immigration law changes in exchange for agreeing to help the Dreamers. Representative Debbie Dingell told CBS she did not favor linking that issue to other policy objectives, such as wall funding. “We need to do DACA clean,” she said.  On Wednesday, Trump aides will meet with congressional leaders to discuss those issues. That will be followed by a weekend of strategy sessions for Trump and Republican leaders on Jan. 6 and 7, the White House said. Trump was also scheduled to meet on Sunday with Florida Republican Governor Rick Scott, who wants more emergency aid. The House has passed an $81 billion aid package after hurricanes in Florida, Texas and Puerto Rico, and wildfires in California. The package far exceeded the $44 billion requested by the Trump administration. The Senate has not yet voted on the aid. ",
         "politicsNews",
         "December 31, 2017 ",
         "1"
        ],
        [
         "1",
         "U.S. military to accept transgender recruits on Monday: Pentagon",
         "WASHINGTON (Reuters) - Transgender people will be allowed for the first time to enlist in the U.S. military starting on Monday as ordered by federal courts, the Pentagon said on Friday, after President Donald Trump’s administration decided not to appeal rulings that blocked his transgender ban. Two federal appeals courts, one in Washington and one in Virginia, last week rejected the administration’s request to put on hold orders by lower court judges requiring the military to begin accepting transgender recruits on Jan. 1. A Justice Department official said the administration will not challenge those rulings. “The Department of Defense has announced that it will be releasing an independent study of these issues in the coming weeks. So rather than litigate this interim appeal before that occurs, the administration has decided to wait for DOD’s study and will continue to defend the president’s lawful authority in District Court in the meantime,” the official said, speaking on condition of anonymity. In September, the Pentagon said it had created a panel of senior officials to study how to implement a directive by Trump to prohibit transgender individuals from serving. The Defense Department has until Feb. 21 to submit a plan to Trump. Lawyers representing currently-serving transgender service members and aspiring recruits said they had expected the administration to appeal the rulings to the conservative-majority Supreme Court, but were hoping that would not happen. Pentagon spokeswoman Heather Babb said in a statement: “As mandated by court order, the Department of Defense is prepared to begin accessing transgender applicants for military service Jan. 1. All applicants must meet all accession standards.” Jennifer Levi, a lawyer with gay, lesbian and transgender advocacy group GLAD, called the decision not to appeal “great news.” “I’m hoping it means the government has come to see that there is no way to justify a ban and that it’s not good for the military or our country,” Levi said. Both GLAD and the American Civil Liberties Union represent plaintiffs in the lawsuits filed against the administration. In a move that appealed to his hard-line conservative supporters, Trump announced in July that he would prohibit transgender people from serving in the military, reversing Democratic President Barack Obama’s policy of accepting them. Trump said on Twitter at the time that the military “cannot be burdened with the tremendous medical costs and disruption that transgender in the military would entail.” Four federal judges - in Baltimore, Washington, D.C., Seattle and Riverside, California - have issued rulings blocking Trump’s ban while legal challenges to the Republican president’s policy proceed. The judges said the ban would likely violate the right under the U.S. Constitution to equal protection under the law. The Pentagon on Dec. 8 issued guidelines to recruitment personnel in order to enlist transgender applicants by Jan. 1. The memo outlined medical requirements and specified how the applicants’ sex would be identified and even which undergarments they would wear. The Trump administration previously said in legal papers that the armed forces were not prepared to train thousands of personnel on the medical standards needed to process transgender applicants and might have to accept “some individuals who are not medically fit for service.” The Obama administration had set a deadline of July 1, 2017, to begin accepting transgender recruits. But Trump’s defense secretary, James Mattis, postponed that date to Jan. 1, 2018, which the president’s ban then put off indefinitely. Trump has taken other steps aimed at rolling back transgender rights. In October, his administration said a federal law banning gender-based workplace discrimination does not protect transgender employees, reversing another Obama-era position. In February, Trump rescinded guidance issued by the Obama administration saying that public schools should allow transgender students to use the restroom that corresponds to their gender identity. ",
         "politicsNews",
         "December 29, 2017 ",
         "1"
        ],
        [
         "2",
         "Senior U.S. Republican senator: 'Let Mr. Mueller do his job'",
         "WASHINGTON (Reuters) - The special counsel investigation of links between Russia and President Trump’s 2016 election campaign should continue without interference in 2018, despite calls from some Trump administration allies and Republican lawmakers to shut it down, a prominent Republican senator said on Sunday. Lindsey Graham, who serves on the Senate armed forces and judiciary committees, said Department of Justice Special Counsel Robert Mueller needs to carry on with his Russia investigation without political interference. “This investigation will go forward. It will be an investigation conducted without political influence,” Graham said on CBS’s Face the Nation news program. “And we all need to let Mr. Mueller do his job. I think he’s the right guy at the right time.”  The question of how Russia may have interfered in the election, and how Trump’s campaign may have had links with or co-ordinated any such effort, has loomed over the White House since Trump took office in January. It shows no sign of receding as Trump prepares for his second year in power, despite intensified rhetoric from some Trump allies in recent weeks accusing Mueller’s team of bias against the Republican president. Trump himself seemed to undercut his supporters in an interview last week with the New York Times in which he said he expected Mueller was “going to be fair.”    Russia’s role in the election and the question of possible links to the Trump campaign are the focus of multiple inquiries in Washington. Three committees of the Senate and the House of Representatives are investigating, as well as Mueller, whose team in May took over an earlier probe launched by the U.S. Federal Bureau of Investigation (FBI). Several members of the Trump campaign and administration have been convicted or indicted in the investigation.  Trump and his allies deny any collusion with Russia during the campaign, and the Kremlin has denied meddling in the election. Graham said he still wants an examination of the FBI’s use of a dossier on links between Trump and Russia that was compiled by a former British spy, Christopher Steele, which prompted Trump allies and some Republicans to question Mueller’s inquiry.   On Saturday, the New York Times reported that it was not that dossier that triggered an early FBI probe, but a tip from former Trump campaign foreign policy adviser George Papadopoulos to an Australian diplomat that Russia had damaging information about former Trump rival Hillary Clinton.  “I want somebody to look at the way the Department of Justice used this dossier. It bothers me greatly the way they used it, and I want somebody to look at it,” Graham said. But he said the Russia investigation must continue. “As a matter of fact, it would hurt us if we ignored it,” he said. ",
         "politicsNews",
         "December 31, 2017 ",
         "1"
        ],
        [
         "3",
         "FBI Russia probe helped by Australian diplomat tip-off: NYT",
         "WASHINGTON (Reuters) - Trump campaign adviser George Papadopoulos told an Australian diplomat in May 2016 that Russia had political dirt on Democratic presidential candidate Hillary Clinton, the New York Times reported on Saturday. The conversation between Papadopoulos and the diplomat, Alexander Downer, in London was a driving factor behind the FBI’s decision to open a counter-intelligence investigation of Moscow’s contacts with the Trump campaign, the Times reported. Two months after the meeting, Australian officials passed the information that came from Papadopoulos to their American counterparts when leaked Democratic emails began appearing online, according to the newspaper, which cited four current and former U.S. and foreign officials. Besides the information from the Australians, the probe by the Federal Bureau of Investigation was also propelled by intelligence from other friendly governments, including the British and Dutch, the Times said. Papadopoulos, a Chicago-based international energy lawyer, pleaded guilty on Oct. 30 to lying to FBI agents about contacts with people who claimed to have ties to top Russian officials. It was the first criminal charge alleging links between the Trump campaign and Russia. The White House has played down the former aide’s campaign role, saying it was “extremely limited” and that any actions he took would have been on his own. The New York Times, however, reported that Papadopoulos helped set up a meeting between then-candidate Donald Trump and Egyptian President Abdel Fattah al-Sisi and edited the outline of Trump’s first major foreign policy speech in April 2016. The federal investigation, which is now being led by Special Counsel Robert Mueller, has hung over Trump’s White House since he took office almost a year ago. Some Trump allies have recently accused Mueller’s team of being biased against the Republican president. Lawyers for Papadopoulos did not immediately respond to requests by Reuters for comment. Mueller’s office declined to comment. Trump’s White House attorney, Ty Cobb, declined to comment on the New York Times report. “Out of respect for the special counsel and his process, we are not commenting on matters such as this,” he said in a statement. Mueller has charged four Trump associates, including Papadopoulos, in his investigation. Russia has denied interfering in the U.S. election and Trump has said there was no collusion between his campaign and Moscow. ",
         "politicsNews",
         "December 30, 2017 ",
         "1"
        ],
        [
         "4",
         "Trump wants Postal Service to charge 'much more' for Amazon shipments",
         "SEATTLE/WASHINGTON (Reuters) - President Donald Trump called on the U.S. Postal Service on Friday to charge “much more” to ship packages for Amazon (AMZN.O), picking another fight with an online retail giant he has criticized in the past.     “Why is the United States Post Office, which is losing many billions of dollars a year, while charging Amazon and others so little to deliver their packages, making Amazon richer and the Post Office dumber and poorer? Should be charging MUCH MORE!” Trump wrote on Twitter.  The president’s tweet drew fresh attention to the fragile finances of the Postal Service at a time when tens of millions of parcels have just been shipped all over the country for the holiday season.  The U.S. Postal Service, which runs at a big loss, is an independent agency within the federal government and does not receive tax dollars for operating expenses, according to its website.  Package delivery has become an increasingly important part of its business as the Internet has led to a sharp decline in the amount of first-class letters. The president does not determine postal rates. They are set by the Postal Regulatory Commission, an independent government agency with commissioners selected by the president from both political parties. That panel raised prices on packages by almost 2 percent in November.  Amazon was founded by Jeff Bezos, who remains the chief executive officer of the retail company and is the richest person in the world, according to Bloomberg News. Bezos also owns The Washington Post, a newspaper Trump has repeatedly railed against in his criticisms of the news media. In tweets over the past year, Trump has said the “Amazon Washington Post” fabricated stories. He has said Amazon does not pay sales tax, which is not true, and so hurts other retailers, part of a pattern by the former businessman and reality television host of periodically turning his ire on big American companies since he took office in January. Daniel Ives, a research analyst at GBH Insights, said Trump’s comment could be taken as a warning to the retail giant. However, he said he was not concerned for Amazon. “We do not see any price hikes in the future. However, that is a risk that Amazon is clearly aware of and (it) is building out its distribution (system) aggressively,” he said. Amazon has shown interest in the past in shifting into its own delivery service, including testing drones for deliveries. In 2015, the company spent $11.5 billion on shipping, 46 percent of its total operating expenses that year.  Amazon shares were down 0.86 percent to $1,175.90 by early afternoon. Overall, U.S. stock prices were down slightly on Friday.  Satish Jindel, president of ShipMatrix Inc, which analyzes shipping data, disputed the idea that the Postal Service charges less than United Parcel Service Inc (UPS.N) and FedEx Corp (FDX.N), the other biggest players in the parcel delivery business in the United States. Many customers get lower rates from UPS and FedEx than they would get from the post office for comparable services, he said. The Postal Service delivers about 62 percent of Amazon packages, for about 3.5 to 4 million a day during the current peak year-end holiday shipping season, Jindel said. The Seattle-based company and the post office have an agreement in which mail carriers take Amazon packages on the last leg of their journeys, from post offices to customers’ doorsteps. Amazon’s No. 2 carrier is UPS, at 21 percent, and FedEx is third, with 8 percent or so, according to Jindel. Trump’s comment tapped into a debate over whether Postal Service pricing has kept pace with the rise of e-commerce, which has flooded the mail with small packages.Private companies like UPS have long claimed the current system unfairly undercuts their business. Steve Gaut, a spokesman for UPS, noted that the company values its “productive relationship” with the postal service, but that it has filed with the Postal Regulatory Commission its concerns about the postal service’s methods for covering costs. Representatives for Amazon, the White House, the U.S. Postal Service and FedEx declined comment or were not immediately available for comment on Trump’s tweet. According to its annual report, the Postal Service lost $2.74 billion this year, and its deficit has ballooned to $61.86 billion.  While the Postal Service’s revenue for first class mail, marketing mail and periodicals is flat or declining, revenue from package delivery is up 44 percent since 2014 to $19.5 billion in the fiscal year ended Sept. 30, 2017. But it also lost about $2 billion in revenue when a temporary surcharge expired in April 2016. According to a Government Accountability Office report in February, the service is facing growing personnel expenses, particularly $73.4 billion in unfunded pension and benefits liabilities. The Postal Service has not announced any plans to cut costs. By law, the Postal Service has to set prices for package delivery to cover the costs attributable to that service. But the postal service allocates only 5.5 percent of its total costs to its business of shipping packages even though that line of business is 28 percent of its total revenue. ",
         "politicsNews",
         "December 29, 2017 ",
         "1"
        ]
       ],
       "shape": {
        "columns": 5,
        "rows": 5
       }
      },
      "text/html": [
       "<div>\n",
       "<style scoped>\n",
       "    .dataframe tbody tr th:only-of-type {\n",
       "        vertical-align: middle;\n",
       "    }\n",
       "\n",
       "    .dataframe tbody tr th {\n",
       "        vertical-align: top;\n",
       "    }\n",
       "\n",
       "    .dataframe thead th {\n",
       "        text-align: right;\n",
       "    }\n",
       "</style>\n",
       "<table border=\"1\" class=\"dataframe\">\n",
       "  <thead>\n",
       "    <tr style=\"text-align: right;\">\n",
       "      <th></th>\n",
       "      <th>title</th>\n",
       "      <th>text</th>\n",
       "      <th>subject</th>\n",
       "      <th>date</th>\n",
       "      <th>label</th>\n",
       "    </tr>\n",
       "  </thead>\n",
       "  <tbody>\n",
       "    <tr>\n",
       "      <th>0</th>\n",
       "      <td>As U.S. budget fight looms, Republicans flip t...</td>\n",
       "      <td>WASHINGTON (Reuters) - The head of a conservat...</td>\n",
       "      <td>politicsNews</td>\n",
       "      <td>December 31, 2017</td>\n",
       "      <td>1</td>\n",
       "    </tr>\n",
       "    <tr>\n",
       "      <th>1</th>\n",
       "      <td>U.S. military to accept transgender recruits o...</td>\n",
       "      <td>WASHINGTON (Reuters) - Transgender people will...</td>\n",
       "      <td>politicsNews</td>\n",
       "      <td>December 29, 2017</td>\n",
       "      <td>1</td>\n",
       "    </tr>\n",
       "    <tr>\n",
       "      <th>2</th>\n",
       "      <td>Senior U.S. Republican senator: 'Let Mr. Muell...</td>\n",
       "      <td>WASHINGTON (Reuters) - The special counsel inv...</td>\n",
       "      <td>politicsNews</td>\n",
       "      <td>December 31, 2017</td>\n",
       "      <td>1</td>\n",
       "    </tr>\n",
       "    <tr>\n",
       "      <th>3</th>\n",
       "      <td>FBI Russia probe helped by Australian diplomat...</td>\n",
       "      <td>WASHINGTON (Reuters) - Trump campaign adviser ...</td>\n",
       "      <td>politicsNews</td>\n",
       "      <td>December 30, 2017</td>\n",
       "      <td>1</td>\n",
       "    </tr>\n",
       "    <tr>\n",
       "      <th>4</th>\n",
       "      <td>Trump wants Postal Service to charge 'much mor...</td>\n",
       "      <td>SEATTLE/WASHINGTON (Reuters) - President Donal...</td>\n",
       "      <td>politicsNews</td>\n",
       "      <td>December 29, 2017</td>\n",
       "      <td>1</td>\n",
       "    </tr>\n",
       "  </tbody>\n",
       "</table>\n",
       "</div>"
      ],
      "text/plain": [
       "                                               title  \\\n",
       "0  As U.S. budget fight looms, Republicans flip t...   \n",
       "1  U.S. military to accept transgender recruits o...   \n",
       "2  Senior U.S. Republican senator: 'Let Mr. Muell...   \n",
       "3  FBI Russia probe helped by Australian diplomat...   \n",
       "4  Trump wants Postal Service to charge 'much mor...   \n",
       "\n",
       "                                                text       subject  \\\n",
       "0  WASHINGTON (Reuters) - The head of a conservat...  politicsNews   \n",
       "1  WASHINGTON (Reuters) - Transgender people will...  politicsNews   \n",
       "2  WASHINGTON (Reuters) - The special counsel inv...  politicsNews   \n",
       "3  WASHINGTON (Reuters) - Trump campaign adviser ...  politicsNews   \n",
       "4  SEATTLE/WASHINGTON (Reuters) - President Donal...  politicsNews   \n",
       "\n",
       "                 date  label  \n",
       "0  December 31, 2017       1  \n",
       "1  December 29, 2017       1  \n",
       "2  December 31, 2017       1  \n",
       "3  December 30, 2017       1  \n",
       "4  December 29, 2017       1  "
      ]
     },
     "execution_count": 13,
     "metadata": {},
     "output_type": "execute_result"
    }
   ],
   "source": [
    "true_df.head()"
   ]
  },
  {
   "cell_type": "markdown",
   "id": "bb05deda",
   "metadata": {},
   "source": [
    "### MERGE DATASETS"
   ]
  },
  {
   "cell_type": "code",
   "execution_count": 4,
   "id": "6a4bfb0f",
   "metadata": {},
   "outputs": [],
   "source": [
    "df = pd.concat([fake_df, true_df], axis=0)      # COMBINES fake_df AND true_df VERTICALLY INTO ONE DATAFRAME df\n",
    "df = df.reset_index(drop=True)                  # RESETS THE INDEX OF df AND DROPS THE OLD INDEX COLUMN"
   ]
  },
  {
   "cell_type": "markdown",
   "id": "6e63c392",
   "metadata": {},
   "source": [
    "### SHUFFLE DATA"
   ]
  },
  {
   "cell_type": "code",
   "execution_count": 6,
   "id": "b09fe13d",
   "metadata": {},
   "outputs": [],
   "source": [
    "df = df.sample(frac=1.0, random_state=42)       # RANDOMLY SHUFFLES ALL ROWS IN df TO AVOID ORDER BIAS\n",
    "df = df.reset_index(drop=True)                  # RESETS THE INDEX AGAIN AFTER SHUFFLING"
   ]
  },
  {
   "cell_type": "code",
   "execution_count": null,
   "id": "a08b4fc3",
   "metadata": {},
   "outputs": [
    {
     "name": "stdout",
     "output_type": "stream",
     "text": [
      "SHAPE --> (44898, 5)\n",
      "\n",
      "HEAD -->\n",
      "                                               title  \\\n",
      "0  Ben Stein Calls Out 9th Circuit Court: Committ...   \n",
      "1  Trump drops Steve Bannon from National Securit...   \n",
      "2  Puerto Rico expects U.S. to lift Jones Act shi...   \n",
      "3   OOPS: Trump Just Accidentally Confirmed He Le...   \n",
      "4  Donald Trump heads for Scotland to reopen a go...   \n",
      "\n",
      "                                                text       subject  \\\n",
      "0  21st Century Wire says Ben Stein, reputable pr...       US_News   \n",
      "1  WASHINGTON (Reuters) - U.S. President Donald T...  politicsNews   \n",
      "2  (Reuters) - Puerto Rico Governor Ricardo Rosse...  politicsNews   \n",
      "3  On Monday, Donald Trump once again embarrassed...          News   \n",
      "4  GLASGOW, Scotland (Reuters) - Most U.S. presid...  politicsNews   \n",
      "\n",
      "                  date  label  \n",
      "0    February 13, 2017      0  \n",
      "1       April 5, 2017       1  \n",
      "2  September 27, 2017       1  \n",
      "3         May 22, 2017      0  \n",
      "4       June 24, 2016       1  \n"
     ]
    }
   ],
   "source": [
    "print(f\"SHAPE --> {df.shape}\")   # PRINTS THE NUMBER OF ROWS AND COLUMNS IN THE DATAFRAME\n",
    "\n",
    "print(\"\\nHEAD -->\")             \n",
    "\n",
    "print(df.head())                 # DISPLAYS THE FIRST 5 ROWS OF THE DATAFRAME"
   ]
  },
  {
   "cell_type": "code",
   "execution_count": null,
   "id": "975e8b6e",
   "metadata": {},
   "outputs": [
    {
     "data": {
      "application/vnd.microsoft.datawrangler.viewer.v0+json": {
       "columns": [
        {
         "name": "index",
         "rawType": "int64",
         "type": "integer"
        },
        {
         "name": "title",
         "rawType": "object",
         "type": "string"
        },
        {
         "name": "text",
         "rawType": "object",
         "type": "string"
        },
        {
         "name": "subject",
         "rawType": "object",
         "type": "string"
        },
        {
         "name": "date",
         "rawType": "object",
         "type": "string"
        },
        {
         "name": "label",
         "rawType": "int64",
         "type": "integer"
        }
       ],
       "conversionMethod": "pd.DataFrame",
       "ref": "97bd46fe-5416-48bf-a84e-71fba9564b50",
       "rows": [
        [
         "0",
         "Ben Stein Calls Out 9th Circuit Court: Committed a ‘Coup d’état’ Against the Constitution",
         "21st Century Wire says Ben Stein, reputable professor from, Pepperdine University (also of some Hollywood fame appearing in TV shows and films such as Ferris Bueller s Day Off) made some provocative statements on Judge Jeanine Pirro s show recently. While discussing the halt that was imposed on President Trump s Executive Order on travel. Stein referred to the judgement by the 9th Circuit Court in Washington state as a  Coup d tat against the executive branch and against the constitution.  Stein went on to call the Judges in Seattle  political puppets  and the judiciary  political pawns. Watch the interview below for the complete statements and note the stark contrast to the rhetoric of the leftist media and pundits who neglect to note that no court has ever blocked any Presidential orders in immigration in the past or discuss the legal efficacy of the halt or the actual text of the Executive Order.READ MORE TRUMP NEWS AT: 21st Century Wire Trump FilesSUPPORT OUR WORK BY SUBSCRIBING & BECOMING A MEMBER @21WIRE.TV",
         "US_News",
         "February 13, 2017",
         "0"
        ],
        [
         "1",
         "Trump drops Steve Bannon from National Security Council",
         "WASHINGTON (Reuters) - U.S. President Donald Trump removed his chief strategist Steve Bannon from the National Security Council on Wednesday, reversing his controversial decision early this year to give a political adviser an unprecedented role in security discussions. Trump’s overhaul of the NSC, confirmed by a White House official, also elevated General Joseph Dunford, chairman of the Joint Chiefs of Staff and Dan Coats, the director of National Intelligence who heads all 17 U.S. intelligence agencies. The official said the change moves the NSC “back to its core function of what it’s supposed to do.” It also appears to mark a victory for national security adviser H.R. McMaster, who had told some national security experts he felt he was in a “battle to the death” with Bannon and others on the White House staff. Vice President Mike Pence said Bannon would continue to play an important role in policy and played down the shake-up as routine. “This is just a natural evolution to ensure the National Security Council is organized in a way that best serves the president in resolving and making those difficult decisions,” Pence said on Fox News.  Bannon said in a statement he had succeeded in returning the NSC back to its traditional role of coordinating foreign policy rather than running it. He cited President Barack Obama’s national security adviser, Susan Rice, for why he advocated a change. “Susan Rice operationalized the NSC during the last administration so I was put on NSC to ensure it was ‘de-operationalized.’ General McMaster has NSC back to its proper function,” he said. Trump’s White House team has grappled with infighting and intrigue that has hobbled his young presidency. In recent days, several other senior U.S. foreign policy and national security officials have said the mechanisms for shaping the Trump administration’s response to pressing challenges such as Syria, North Korea and Iran still were not in place.  Critics of Bannon’s role on the NSC said it gave too much weight in decision-making to someone who lacked foreign policy expertise. Bannon, who was chief executive of Trump’s presidential campaign in the months leading to his election in November, in some respects represents Trump’s “America First” nationalistic voice, helping fuel his anti-Washington fervor and pushing for the president to part ways at times with mainstream Republicans. Before joining the Trump administration, Bannon headed Breitbart News, a right-wing website. U.S. Representative Adam Schiff, ranking Democrat on the House of Representatives Intelligence Committee, called the shift in the NSC a positive step that will help McMaster “gain control over a body that was being politicized by Bannon’s involvement.” “As the administration’s policy over North Korea, China, Russia and Syria continues to drift, we can only hope this shake-up brings some level of strategic vision to the body,” he said. Bannon’s removal from the NSC was a potential setback for his sphere of influence in the Trump White House, where he has a voice in most major decisions. But a Trump confidant said Bannon remained as influential as ever. “He is still involved in everything and still has the full confidence of the president but to be fair he can only do so much stuff,” the confidant said, speaking on condition of anonymity. The White House official said Bannon was no longer needed on the NSC after the departure of Trump’s first national security adviser, Michael Flynn. Flynn was forced to resign on Feb. 13 over his contacts with Russia’s ambassador to the United States, Sergei Kislyak, prior to Trump taking office on Jan. 20. The official said Bannon had been placed on the NSC originally as a check on Flynn and had only attended one of the NSC’s regular meetings. The official dismissed questions about a power struggle between Bannon and McMaster, saying they shared the same world view. However, two current national security officials rejected the White House explanation, noting that two months have passed since Flynn’s departure. McMaster, they said, speaking on the condition of anonymity, also has dueled with Bannon and others over direct access to Trump; the future of deputy national security adviser K.T. McFarland, a former Fox News commentator; intelligence director Ezra Cohen-Watnick, a Flynn appointee; and other staffing decisions. Trump is preparing for his first face-to-face meeting on Thursday and Friday with Chinese President Xi Jinping with the threat of North Korea’s nuclear and missile programs a key component of their talks. Bannon’s seat on the NSC’s “principals’ committee,” a group that includes the secretaries of state, defense and other ranking aides, was taken by Rick Perry, who as energy secretary is charged with overseeing the U.S. nuclear weapons arsenal. ",
         "politicsNews",
         "April 5, 2017 ",
         "1"
        ],
        [
         "2",
         "Puerto Rico expects U.S. to lift Jones Act shipping restrictions",
         "(Reuters) - Puerto Rico Governor Ricardo Rossello said on Wednesday he expected the federal government to waive the Jones Act, which would lift restrictions on ships that can provide aid to the island devastated by Hurricane Maria. He said he has been speaking with members of Congress from both parties who have supported an emergency waiver.      “We expect them to waive it,” Rossello said in an interview with CNN. He noted there was a seven-day waiver after Hurricane Irma, which was much less devastating to the island.     On Tuesday, the Trump administration said there was no need to waive shipping restrictions to help get fuel and supplies to storm-ravaged Puerto Rico, saying it would do nothing to address the island’s damaged ports, the main impediment to shipping. A waiver would allow Puerto Rico to get help not only from U.S. ships but from any ships that can bring aid.     “That is critical, particularly for fuel,” he said. “One of the considerations right now is the priority of getting fuel, diesel, gasoline, all across the island. Right now we have enough fuel. We’re limited by the transportation logistics, but at some point of course, getting fuel into the island is going to be critical so that we can have the major functions of telecoms, hospitals, water, to be running appropriately.”     The Jones Act requires that all goods shipped between U.S. ports be carried by American owned-and-operated ships. U.S. Senator John McCain asked acting Department of Homeland Security Secretary Elaine Duke on Tuesday to grant an emergency waiver of the law. He said that Puerto Rican residents would have to pay at least twice as much for food, drinking water and other supplies without the waiver. (This corrected version of the story fixes paragraph four to show the administration has not formally denied a waiver request). ",
         "politicsNews",
         "September 27, 2017 ",
         "1"
        ],
        [
         "3",
         " OOPS: Trump Just Accidentally Confirmed He Leaked Israeli Intelligence To Russia (VIDEO)",
         "On Monday, Donald Trump once again embarrassed himself and his country by accidentally revealing the source of the extremely classified information he leaked to Russia earlier this month.While it was speculated that the source of the information was Israel, Trump made things crystal clear during a press conference with Prime Minister Benjamin Netanyahu. President Pussygrabber explained that he never   not once   said  Israel  during his conversation with the Russian recipients of the leaked information. Not a single time. Just so you understand I never mentioned the word or the name  Israel,  Trump said.  I never mentioned it during that conversation. They were all saying I did,  Trump said, gesturing to reporters.  So you had another story wrong. Never mentioned the word  Israel . He may not have said the word Israel,  but according to reports Israeli intelligence officials  were shouting at US counterparts  over the leaked information.Now, he accidentally-perhaps-on-purpose confirmed where it came from.Watch it happen below:President Trump says he  never mentioned the word Israel  in his Oval Office meeting with Russian officials https://t.co/84ZCW64hcE  CNN Politics (@CNNPolitics) May 22, 2017Featured image via screengrab",
         "News",
         "May 22, 2017",
         "0"
        ],
        [
         "4",
         "Donald Trump heads for Scotland to reopen a golf resort",
         "GLASGOW, Scotland (Reuters) - Most U.S. presidential candidates go abroad to sharpen their foreign policy credentials. Donald Trump arrives in Scotland on Friday to reopen a golf resort. The presumptive Republican nominee, 70, visits his family’s ancestral homeland to showcase his far-flung business empire. His mother was born on Scotland’s Isle of Lewis. With a throng of reporters watching, he will make a dramatic arrival by helicopter at his seaside Trump Turnberry resort. He has scheduled a news conference on the 9th hole at noon (7 a.m. ET/1100 GMT). His visit to Turnberry, to be followed by a stop at his resort in Aberdeen on Saturday, will allow him to comment on the outcome of Britain’s vote on Thursday on whether to remain in the European Union. “I don’t think opening a golf resort gets you many foreign policy chops,” said Saul Anuzis, former chairman of the Michigan Republican Party. “But since he’s there right in the middle of the EU vote, it may end up being a PR bonanza for him.” The risk is that the real-estate tycoon, who has yet to hold public office and rates unfavorably with 70 percent of Americans in an opinion poll, will make a foreign policy misstep at a time when Republican leaders are urging a more serious demeanor. Trump has said he would be inclined to leave the EU. He has exchanged insults with British Prime Minister David Cameron, who has called the New Yorker’s anti-immigrant policy ideas divisive and wrong. There are no plans for the two to meet. His trip has baffled Republican officials who say he should concentrate on strengthening his campaign and taking the fight to the presumptive Democratic nominee, former U.S. Secretary of State Hillary Clinton, who is 68. Trump defeated a crowded field of opponents for the Republican nomination but has faced one controversy after another, the latest over his firing of his campaign manager this week, a month before the party convention. “His campaign has got all kinds of growing pains and it doesn’t make sense that he would spend any kind of time going out of the country,” said David Yepsen, director of the Paul Simon Public Policy Institute at Southern Illinois University.  Turnberry is a storied course where the Open Championship has been staged four times. Trump invested $290 million in renovating the resort and golf course on Scotland’s West Coast 85 km (53 miles) southwest of Glasgow. He has portrayed his determination to build up courses in Turnberry and Aberdeen and overcome local opposition as an example of the type of leadership skills that Americans would get if he wins the White House on Nov. 8. “Well, Scotland has already been won – and so will the United States,” Trump wrote in a column for The Press and Journal newspaper in Aberdeen. An Aberdeen family opposed to his development there has threatened to raise a Mexican flag as a reminder of his proposal to build a wall along the U.S. southern border to keep out immigrants who enter illegally. The last Republican presidential nominee, former Massachusetts Governor Mitt Romney, in 2012 made a gaffe-filled campaign trip to London, Jerusalem and Poland. ",
         "politicsNews",
         "June 24, 2016 ",
         "1"
        ]
       ],
       "shape": {
        "columns": 5,
        "rows": 5
       }
      },
      "text/html": [
       "<div>\n",
       "<style scoped>\n",
       "    .dataframe tbody tr th:only-of-type {\n",
       "        vertical-align: middle;\n",
       "    }\n",
       "\n",
       "    .dataframe tbody tr th {\n",
       "        vertical-align: top;\n",
       "    }\n",
       "\n",
       "    .dataframe thead th {\n",
       "        text-align: right;\n",
       "    }\n",
       "</style>\n",
       "<table border=\"1\" class=\"dataframe\">\n",
       "  <thead>\n",
       "    <tr style=\"text-align: right;\">\n",
       "      <th></th>\n",
       "      <th>title</th>\n",
       "      <th>text</th>\n",
       "      <th>subject</th>\n",
       "      <th>date</th>\n",
       "      <th>label</th>\n",
       "    </tr>\n",
       "  </thead>\n",
       "  <tbody>\n",
       "    <tr>\n",
       "      <th>0</th>\n",
       "      <td>Ben Stein Calls Out 9th Circuit Court: Committ...</td>\n",
       "      <td>21st Century Wire says Ben Stein, reputable pr...</td>\n",
       "      <td>US_News</td>\n",
       "      <td>February 13, 2017</td>\n",
       "      <td>0</td>\n",
       "    </tr>\n",
       "    <tr>\n",
       "      <th>1</th>\n",
       "      <td>Trump drops Steve Bannon from National Securit...</td>\n",
       "      <td>WASHINGTON (Reuters) - U.S. President Donald T...</td>\n",
       "      <td>politicsNews</td>\n",
       "      <td>April 5, 2017</td>\n",
       "      <td>1</td>\n",
       "    </tr>\n",
       "    <tr>\n",
       "      <th>2</th>\n",
       "      <td>Puerto Rico expects U.S. to lift Jones Act shi...</td>\n",
       "      <td>(Reuters) - Puerto Rico Governor Ricardo Rosse...</td>\n",
       "      <td>politicsNews</td>\n",
       "      <td>September 27, 2017</td>\n",
       "      <td>1</td>\n",
       "    </tr>\n",
       "    <tr>\n",
       "      <th>3</th>\n",
       "      <td>OOPS: Trump Just Accidentally Confirmed He Le...</td>\n",
       "      <td>On Monday, Donald Trump once again embarrassed...</td>\n",
       "      <td>News</td>\n",
       "      <td>May 22, 2017</td>\n",
       "      <td>0</td>\n",
       "    </tr>\n",
       "    <tr>\n",
       "      <th>4</th>\n",
       "      <td>Donald Trump heads for Scotland to reopen a go...</td>\n",
       "      <td>GLASGOW, Scotland (Reuters) - Most U.S. presid...</td>\n",
       "      <td>politicsNews</td>\n",
       "      <td>June 24, 2016</td>\n",
       "      <td>1</td>\n",
       "    </tr>\n",
       "  </tbody>\n",
       "</table>\n",
       "</div>"
      ],
      "text/plain": [
       "                                               title  \\\n",
       "0  Ben Stein Calls Out 9th Circuit Court: Committ...   \n",
       "1  Trump drops Steve Bannon from National Securit...   \n",
       "2  Puerto Rico expects U.S. to lift Jones Act shi...   \n",
       "3   OOPS: Trump Just Accidentally Confirmed He Le...   \n",
       "4  Donald Trump heads for Scotland to reopen a go...   \n",
       "\n",
       "                                                text       subject  \\\n",
       "0  21st Century Wire says Ben Stein, reputable pr...       US_News   \n",
       "1  WASHINGTON (Reuters) - U.S. President Donald T...  politicsNews   \n",
       "2  (Reuters) - Puerto Rico Governor Ricardo Rosse...  politicsNews   \n",
       "3  On Monday, Donald Trump once again embarrassed...          News   \n",
       "4  GLASGOW, Scotland (Reuters) - Most U.S. presid...  politicsNews   \n",
       "\n",
       "                  date  label  \n",
       "0    February 13, 2017      0  \n",
       "1       April 5, 2017       1  \n",
       "2  September 27, 2017       1  \n",
       "3         May 22, 2017      0  \n",
       "4       June 24, 2016       1  "
      ]
     },
     "execution_count": 173,
     "metadata": {},
     "output_type": "execute_result"
    }
   ],
   "source": [
    "df.head()"
   ]
  },
  {
   "cell_type": "code",
   "execution_count": null,
   "id": "f184a210",
   "metadata": {},
   "outputs": [
    {
     "name": "stdout",
     "output_type": "stream",
     "text": [
      "<class 'pandas.core.frame.DataFrame'>\n",
      "RangeIndex: 44898 entries, 0 to 44897\n",
      "Data columns (total 5 columns):\n",
      " #   Column   Non-Null Count  Dtype \n",
      "---  ------   --------------  ----- \n",
      " 0   title    44898 non-null  object\n",
      " 1   text     44898 non-null  object\n",
      " 2   subject  44898 non-null  object\n",
      " 3   date     44898 non-null  object\n",
      " 4   label    44898 non-null  int64 \n",
      "dtypes: int64(1), object(4)\n",
      "memory usage: 1.7+ MB\n"
     ]
    }
   ],
   "source": [
    "# DISPLAYS A SUMMARY OF THE DATAFRAME\n",
    "df.info()"
   ]
  },
  {
   "cell_type": "markdown",
   "id": "11b690d4",
   "metadata": {},
   "source": [
    "### DATA INSPECTION"
   ]
  },
  {
   "cell_type": "code",
   "execution_count": null,
   "id": "49a1a291",
   "metadata": {},
   "outputs": [
    {
     "name": "stdout",
     "output_type": "stream",
     "text": [
      "RATIO OF REAL AND FAKE NEWS\n"
     ]
    },
    {
     "data": {
      "text/plain": [
       "label\n",
       "FAKE    0.522985\n",
       "REAL    0.477015\n",
       "Name: proportion, dtype: float64"
      ]
     },
     "execution_count": 175,
     "metadata": {},
     "output_type": "execute_result"
    }
   ],
   "source": [
    "y = df.label  # EXTRACTS THE LABEL COLUMN (0 = FAKE, 1 = REAL)\n",
    "print('RATIO OF REAL AND FAKE NEWS') \n",
    "\n",
    "(\n",
    "    y.value_counts(normalize=True)   # RETURNS PROPORTION (RATIO) OF EACH CLASS\n",
    "    .rename({1: 'REAL', 0: 'FAKE'})  # RENAMES VALUES TO MAKE THE OUTPUT HUMAN-READABLE\n",
    ")"
   ]
  },
  {
   "cell_type": "code",
   "execution_count": 177,
   "id": "99e4d41e",
   "metadata": {},
   "outputs": [
    {
     "name": "stdout",
     "output_type": "stream",
     "text": [
      "\n",
      "COLUMN NAMES\n",
      "  - title\n",
      "  - text\n",
      "  - subject\n",
      "  - date\n",
      "  - label\n"
     ]
    }
   ],
   "source": [
    "print(\"\\nCOLUMN NAMES\")\n",
    "\n",
    "# DISPLAYS EACH COLUMN NAME \n",
    "for col in df.columns:\n",
    "    print(f\"  - {col}\") "
   ]
  },
  {
   "cell_type": "code",
   "execution_count": null,
   "id": "7dae721a",
   "metadata": {},
   "outputs": [
    {
     "name": "stdout",
     "output_type": "stream",
     "text": [
      "\n",
      "NULL VALUE PER COLUMNS -->\n",
      "title      0\n",
      "text       0\n",
      "subject    0\n",
      "date       0\n",
      "label      0\n",
      "dtype: int64\n",
      "\n",
      "NUMBER OF DUPLICATE ROWS -->\n",
      "209\n",
      "\n",
      "UNIQUE 'SUBJECTS' --> ['US_News' 'politicsNews' 'News' 'Government News' 'left-news' 'worldnews'\n",
      " 'politics' 'Middle-east']\n",
      "DATE RANGE -->  14-Feb-18 → https://fedup.wpengine.com/wp-content/uploads/2015/04/hillarystreetart.jpg\n"
     ]
    }
   ],
   "source": [
    "print(\"\\nNULL VALUE PER COLUMNS -->\")           \n",
    "\n",
    "print(df.isnull().sum())                        # DISPLAYS THE NUMBER OF NULL VALUES IN EACH COLUMN\n",
    "\n",
    "print(\"\\nNUMBER OF DUPLICATE ROWS -->\")     \n",
    "\n",
    "print(df.duplicated().sum())                    # DISPLAYS THE TOTAL NUMBER OF DUPLICATE ROWS\n",
    "\n",
    "print(\"\\nUNIQUE 'SUBJECTS' -->\", df['subject'].unique())           # PRINTS ALL UNIQUE SUBJECT CATEGORIES IN THE 'subject' COLUMN\n",
    "\n",
    "print(\"DATE RANGE --> \", df['date'].min(), \"→\", df['date'].max())  # PRINTS THE EARLIEST AND LATEST DATES IN THE 'date' COLUMN"
   ]
  },
  {
   "cell_type": "code",
   "execution_count": null,
   "id": "880f3c69",
   "metadata": {},
   "outputs": [
    {
     "name": "stdout",
     "output_type": "stream",
     "text": [
      "TOTAL DUPLICATE ROWS FOUND: 209\n",
      "\n",
      "SAMPLE DUPLICATE ROWS:\n"
     ]
    },
    {
     "data": {
      "application/vnd.microsoft.datawrangler.viewer.v0+json": {
       "columns": [
        {
         "name": "index",
         "rawType": "int64",
         "type": "integer"
        },
        {
         "name": "title",
         "rawType": "object",
         "type": "string"
        },
        {
         "name": "text",
         "rawType": "object",
         "type": "string"
        },
        {
         "name": "subject",
         "rawType": "object",
         "type": "string"
        },
        {
         "name": "date",
         "rawType": "object",
         "type": "string"
        },
        {
         "name": "label",
         "rawType": "int64",
         "type": "integer"
        }
       ],
       "conversionMethod": "pd.DataFrame",
       "ref": "e7149166-5d3c-4db7-8c08-1fb005680ebf",
       "rows": [
        [
         "4106",
         "Islamic State claims responsibility for Aden car bomb: Amaq",
         "CAIRO (Reuters) - Militant group Islamic State claimed responsibility for a car bomb attack outside the offices of the Yemeni finance ministry in the southern port city of Aden, the group s news agency Amaq said on Wednesday.   Hospital officials said at least two people were killed in the explosion.  ",
         "worldnews",
         "November 29, 2017 ",
         "1"
        ],
        [
         "5547",
         "Turkey seeks life sentences for 60 ex-military over 1997 'post-modern coup'",
         "ISTANBUL (Reuters) - Sixty people including a former military chief faced demands for life jail terms over a 1997 campaign of army pressure, known in Turkey as the  post-modern  coup, that toppled the country s first Islamist-led government, state media said on Thursday. Coups in 1960 and 1980 and a failed 2016 putsch involved overt army use of force, but the resignation of prime minister Necmettin Erbakan followed warnings and only a brief appearance of tanks in a provincial town. It is an action that has long rankled with current Islamist-rooted President Tayyip Erdogan.  In his final opinion on the case, the prosecutor said the army action, which did not result in any direct military rule, constituted a real coup attempt and could not be defined as  post-modern , broadcaster NTV reported. Among those facing life sentences are General Ismail Hakki Karadayi, 85, who was chief of general staff between 1994 and 1998, and his deputy at the time General Cevik Bir, state-run Anadolu news agency said. The investigation into the unseating of Erbakan, who led a coalition government, is one of a series of court cases that have targeted the formerly all powerful secularist military in recent years. The army s influence has been curbed drastically under  Erdogan, who first came to power in 2003 and who was a member of Erbakan s Welfare Party at the time of the government s ouster. A total of 103 people, mostly retired generals, had been named in the trial s 1,300-page indictment, accused of  overthrowing by force, and participating in the overthrow  of a government. While aggravated life sentences were sought for 60 defendants, the prosecutor asked for the acquittal of 39 other defendants, NTV reported. The four other defendants have died since the court case began in 2013. Last year, rogue soldiers commandeered warplanes, tanks and helicopters in a failed coup which killed 250 people and which Ankara has blamed on U.S.-based Islamic preacher Fethullah Gulen. He has denied involvement. Erbakan, who died in 2011, pioneered Islamist politics in Turkey, a Muslim country with a secular state system, paving the way for the later success of Erdogan s AK Party. ",
         "worldnews",
         "December 21, 2017 ",
         "1"
        ],
        [
         "5909",
         "Highlights: The Trump presidency on March 31 at 6:19 p.m. EDT",
         "(Reuters) - Highlights of the day for U.S. President Donald Trump’s administration on Friday: Trump backs a decision by his former national security adviser, Michael Flynn, to seek immunity in congressional investigations of possible ties between his campaign and Russia, but there is no immediate sign the request will be granted.  The Trump administration slams China on a range of trade issues from its chronic industrial overcapacity to forced technology transfers and longstanding bans on U.S. beef and electronic payment services. Beijing seeks to play down tensions with the United States and put on a positive face ahead of President Xi Jinping’s first meeting with Trump next week. Senate Democrats step closer to having enough votes to block a confirmation vote on Trump’s Supreme Court nominee with three more Democratic senators coming out against Neil Gorsuch for the lifetime job as a justice. Trump seeks to push his plan for fair trade and more manufacturing jobs back to the top of his agenda by ordering a study into the causes of U.S. trade deficits and a clampdown on import duty evasion. Trump has neither a clear White House tax plan nor adequate staff yet to see through a planned tax overhaul, according to interviews with people in the administration, in Congress and among U.S. tax experts. Democrats are trying to counter Trump’s boldest move yet to defang the U.S. consumer financial watchdog, with 40 current and former lawmakers defending the agency in court. The U.S. Environmental Protection Agency’s scientific integrity watchdog is reviewing whether EPA chief Scott Pruitt violated the agency’s policies when he said in a television interview he does not believe carbon dioxide is driving global climate change, according to an email seen by Reuters. Trump will seek to rebuild the U.S. relationship with Egypt at a meeting on Monday with Egyptian President Abdel Fattah al-Sisi focused on security issues and military aid, a senior White House official says. Trump will host Jordan’s King Abdullah at the White House next week to discuss the fight against Islamic State militants, the Syria crisis and advancing peace between Israelis and Palestinians, the White House says. A U.S. judge approves a $25 million settlement to resolve a class action lawsuit that claimed fraud against Trump and his Trump University real estate seminars. ",
         "politicsNews",
         "March 31, 2017 ",
         "1"
        ],
        [
         "6382",
         "Britain preparing to transfer 400 million pounds to Iran - Telegraph newspaper",
         "LONDON (Reuters) - Britain is preparing to transfer over 400 million pounds ($527 million) to Iran as it seeks the release of a jailed Iranian-British aid worker, The Telegraph newspaper reported, citing unidentified British sources. Nazanin Zaghari-Ratcliffe, a project manager with the Thomson Reuters Foundation, was sentenced to five years after being convicted by an Iranian court of plotting to overthrow the clerical establishment. She denies the charges. Britain has sought legal advice over whether it could transfer the funds which it owes as a result of a disputed arms deal in the 1970s. Diplomats told the newspaper that any payment should not be linked to the fate of Zaghari-Ratcliffe. The Thomson Reuters Foundation is a charity organization that is independent of Thomson Reuters. It operates independently of Reuters News.  A spokesman for Britain s Foreign Office could not be reached for comment out of normal business hours. ",
         "worldnews",
         "November 16, 2017 ",
         "1"
        ],
        [
         "6779",
         "Israel ambassador asks to meet New Zealand pop star Lorde over canceled show",
         "WELLINGTON (Reuters) - Israel s ambassador to New Zealand on Wednesday appealed to the pop star Lorde to meet him after she canceled a show in Tel Aviv after appeals from activists for her to shun Israel as a protest against its treatment of Palestinians. Itzhak Gerberg, Israel s ambassador to New Zealand, said in a public letter it was  regrettable  that the concert had been called off and the boycott of his country represented  hostility and intolerance .    I invite you to meet me in person to discuss Israel, its achievements and its role as the only democracy in the Middle East,  Gerberg said on the Embassy of Israel s Facebook page.               Lorde s representatives did not immediately respond to request for comment on her response or whether she planned to meet the ambassador. The 21-year-old New Zealand singer had been slated to perform in Tel Aviv in June as part of a global tour to promote her chart-topping second album  Melodrama .   Campaigners have been urging her to scrap the show, calling in an open letter on Dec. 21 for her to pull out as part of a boycott to oppose Israel s occupation of the Palestinian territories.  Playing in Tel Aviv will be seen as giving support to the policies of the Israeli government, even if you make no comment on the political situation,  campaigners Justine Sachs and Nadia Abu-Shanab, wrote on news website The Spinoff.  We believe that an economic, intellectual and artistic boycott is an effective way of speaking out,  they said. Lorde said on Twitter at the time she was speaking with  many people about this and considering all options .   Eran Arielli, the promoter of the concert, said on Facebook on Sunday that the show was off.    The truth is I was naive to think that an artist of her age would be able to absorb the pressure involved in coming to Israel,  he wrote in Hebrew.    The Boycott, Divestment and Sanctions (BDS) movement was launched in 2005 as a non-violent campaign to press Israel to heed international law and end its occupation of territory Palestinians seek for a state.  Artists who have boycotted Israel include Pink Floyd s Roger Waters and Elvis Costello.  Other major stars, such as Elton John, Aerosmith, Guns and Roses, the Rolling Stones, Justin Bieber and Rihanna have performed in recent years in Israel.  Prime Minister Benjamin Netanyahu s right-wing government has long campaigned against the BDS movement, describing it as anti-Semitic and an attempt to erase Israel s legitimacy. (This story has been refiled to show Eran Arielli was sole promoter, paragraph 10.) ",
         "worldnews",
         "December 27, 2017 ",
         "1"
        ]
       ],
       "shape": {
        "columns": 5,
        "rows": 5
       }
      },
      "text/html": [
       "<div>\n",
       "<style scoped>\n",
       "    .dataframe tbody tr th:only-of-type {\n",
       "        vertical-align: middle;\n",
       "    }\n",
       "\n",
       "    .dataframe tbody tr th {\n",
       "        vertical-align: top;\n",
       "    }\n",
       "\n",
       "    .dataframe thead th {\n",
       "        text-align: right;\n",
       "    }\n",
       "</style>\n",
       "<table border=\"1\" class=\"dataframe\">\n",
       "  <thead>\n",
       "    <tr style=\"text-align: right;\">\n",
       "      <th></th>\n",
       "      <th>title</th>\n",
       "      <th>text</th>\n",
       "      <th>subject</th>\n",
       "      <th>date</th>\n",
       "      <th>label</th>\n",
       "    </tr>\n",
       "  </thead>\n",
       "  <tbody>\n",
       "    <tr>\n",
       "      <th>4106</th>\n",
       "      <td>Islamic State claims responsibility for Aden c...</td>\n",
       "      <td>CAIRO (Reuters) - Militant group Islamic State...</td>\n",
       "      <td>worldnews</td>\n",
       "      <td>November 29, 2017</td>\n",
       "      <td>1</td>\n",
       "    </tr>\n",
       "    <tr>\n",
       "      <th>5547</th>\n",
       "      <td>Turkey seeks life sentences for 60 ex-military...</td>\n",
       "      <td>ISTANBUL (Reuters) - Sixty people including a ...</td>\n",
       "      <td>worldnews</td>\n",
       "      <td>December 21, 2017</td>\n",
       "      <td>1</td>\n",
       "    </tr>\n",
       "    <tr>\n",
       "      <th>5909</th>\n",
       "      <td>Highlights: The Trump presidency on March 31 a...</td>\n",
       "      <td>(Reuters) - Highlights of the day for U.S. Pre...</td>\n",
       "      <td>politicsNews</td>\n",
       "      <td>March 31, 2017</td>\n",
       "      <td>1</td>\n",
       "    </tr>\n",
       "    <tr>\n",
       "      <th>6382</th>\n",
       "      <td>Britain preparing to transfer 400 million poun...</td>\n",
       "      <td>LONDON (Reuters) - Britain is preparing to tra...</td>\n",
       "      <td>worldnews</td>\n",
       "      <td>November 16, 2017</td>\n",
       "      <td>1</td>\n",
       "    </tr>\n",
       "    <tr>\n",
       "      <th>6779</th>\n",
       "      <td>Israel ambassador asks to meet New Zealand pop...</td>\n",
       "      <td>WELLINGTON (Reuters) - Israel s ambassador to ...</td>\n",
       "      <td>worldnews</td>\n",
       "      <td>December 27, 2017</td>\n",
       "      <td>1</td>\n",
       "    </tr>\n",
       "  </tbody>\n",
       "</table>\n",
       "</div>"
      ],
      "text/plain": [
       "                                                  title  \\\n",
       "4106  Islamic State claims responsibility for Aden c...   \n",
       "5547  Turkey seeks life sentences for 60 ex-military...   \n",
       "5909  Highlights: The Trump presidency on March 31 a...   \n",
       "6382  Britain preparing to transfer 400 million poun...   \n",
       "6779  Israel ambassador asks to meet New Zealand pop...   \n",
       "\n",
       "                                                   text       subject  \\\n",
       "4106  CAIRO (Reuters) - Militant group Islamic State...     worldnews   \n",
       "5547  ISTANBUL (Reuters) - Sixty people including a ...     worldnews   \n",
       "5909  (Reuters) - Highlights of the day for U.S. Pre...  politicsNews   \n",
       "6382  LONDON (Reuters) - Britain is preparing to tra...     worldnews   \n",
       "6779  WELLINGTON (Reuters) - Israel s ambassador to ...     worldnews   \n",
       "\n",
       "                    date  label  \n",
       "4106  November 29, 2017       1  \n",
       "5547  December 21, 2017       1  \n",
       "5909     March 31, 2017       1  \n",
       "6382  November 16, 2017       1  \n",
       "6779  December 27, 2017       1  "
      ]
     },
     "metadata": {},
     "output_type": "display_data"
    }
   ],
   "source": [
    "# COUNTS THE TOTAL NUMBER OF DUPLICATE ROWS IN THE DATAFRAME\n",
    "duplicate_count = df.duplicated().sum()\n",
    "print(f\"TOTAL DUPLICATE ROWS FOUND: {duplicate_count}\")\n",
    "\n",
    "# CHECKS IF THERE ARE ANY DUPLICATE ROWS\n",
    "if duplicate_count > 0:\n",
    "    print(\"\\nSAMPLE DUPLICATE ROWS:\")\n",
    "    display(df[df.duplicated()].head())\n",
    "    \n",
    "else:\n",
    "    print(\"NO DUPLICATES PRESENT IN THE DATAFRAME.\")"
   ]
  },
  {
   "cell_type": "code",
   "execution_count": 180,
   "id": "342d9a38",
   "metadata": {},
   "outputs": [
    {
     "name": "stdout",
     "output_type": "stream",
     "text": [
      "\n",
      "TOP 10 REPEATED TITLES:\n",
      "title\n",
      "Factbox: Trump fills top jobs for his administration                                                     14\n",
      "Factbox: Contenders for senior jobs in Trump's administration                                             8\n",
      "Highlights: The Trump presidency on April 13 at 9:30 P.M. EDT/0130 GMT on Friday                          8\n",
      "MEDIA IGNORES Time That Bill Clinton FIRED His FBI Director On Day Before Vince Foster Was Found Dead     6\n",
      "Factbox: International reaction to arrest of Reuters reporters in Myanmar                                 6\n",
      "Highlights: The Trump presidency on March 31 at 6:19 p.m. EDT                                             5\n",
      "Highlights: The Trump presidency on April 21 at 6:12 p.m. EDT/2212 GMT                                    5\n",
      "Factbox: Contenders, picks for key jobs in Trump's administration                                         5\n",
      "Factbox: Why the Zika virus is causing alarm                                                              4\n",
      "FORMER FBI ASST DIRECTOR: “Jim Comey ‘Danced With The Devil’…I’m Glad He’s Gone” [VIDEO]                  4\n",
      "Name: count, dtype: int64\n"
     ]
    }
   ],
   "source": [
    "# CHECK FOR MOST FREQUENT DUPLICATE TITLES\n",
    "print(\"\\nTOP 10 REPEATED TITLES:\")\n",
    "print(df['title'].value_counts().head(10))"
   ]
  },
  {
   "cell_type": "markdown",
   "id": "aae05508",
   "metadata": {},
   "source": [
    "# CLEAN 'SUBJECTS'"
   ]
  },
  {
   "cell_type": "markdown",
   "id": "62e34c64",
   "metadata": {},
   "source": [
    "### SUBJECT DISTRIBUTION"
   ]
  },
  {
   "cell_type": "code",
   "execution_count": 7,
   "id": "9375857f",
   "metadata": {},
   "outputs": [
    {
     "name": "stdout",
     "output_type": "stream",
     "text": [
      "UNIQUE SUBJECTS --> ['News' 'politicsNews' 'Government News' 'politics' 'worldnews'\n",
      " 'left-news' 'Middle-east' 'US_News']\n",
      "\n",
      "SUBJECT DISTRIBUTION -->\n",
      " subject\n",
      "politicsNews       11272\n",
      "worldnews          10145\n",
      "News                9050\n",
      "politics            6841\n",
      "left-news           4459\n",
      "Government News     1570\n",
      "US_News              783\n",
      "Middle-east          778\n",
      "Name: count, dtype: int64\n"
     ]
    }
   ],
   "source": [
    "# CHECK UNIQUE SUBJECTS\n",
    "print(\"UNIQUE SUBJECTS -->\", df['subject'].unique())\n",
    "\n",
    "# COUNT VALUES PER SUBJECT\n",
    "print(\"\\nSUBJECT DISTRIBUTION -->\\n\", df['subject'].value_counts())"
   ]
  },
  {
   "cell_type": "markdown",
   "id": "9b0da3b4",
   "metadata": {},
   "source": [
    "### MAPPING"
   ]
  },
  {
   "cell_type": "code",
   "execution_count": 8,
   "id": "5ee79318",
   "metadata": {},
   "outputs": [
    {
     "name": "stdout",
     "output_type": "stream",
     "text": [
      "MAPPED SUBJECTS --> \n",
      " subject\n",
      "politics       19683\n",
      "world          10145\n",
      "general         9050\n",
      "left-wing       4459\n",
      "domestic         783\n",
      "middle-east      778\n",
      "Name: count, dtype: int64\n",
      "UNIQUE SUBJECTS --> ['general' 'politics' 'world' 'left-wing' 'middle-east' 'domestic']\n",
      "\n",
      "CHECK FOR NULLS IN SUBJECT COLUMN:\n",
      "0\n"
     ]
    }
   ],
   "source": [
    "# DEFINE A SUBJECT MAPPING DICTIONARY\n",
    "subject_mapping = {\n",
    "    'politicsNews': 'politics',\n",
    "    'Government News': 'politics',\n",
    "    'US_News': 'domestic',\n",
    "    'worldnews': 'world',\n",
    "    'left-news': 'left-wing',\n",
    "    'News': 'general',\n",
    "    'politics': 'politics',       \n",
    "    'Middle-east': 'middle-east'  \n",
    "}\n",
    "\n",
    "# APPLY MAPPING TO 'subject' COLUMN\n",
    "df['subject'] = df['subject'].map(subject_mapping)\n",
    "\n",
    "# CHECK REMAPPED VALUES\n",
    "print(\"MAPPED SUBJECTS --> \\n\", df['subject'].value_counts(dropna=False))\n",
    "\n",
    "# CHECK UNIQUE SUBJECTS\n",
    "print(\"UNIQUE SUBJECTS -->\", df['subject'].unique())\n",
    "\n",
    "print(\"\\nCHECK FOR NULLS IN SUBJECT COLUMN:\")\n",
    "print(df['subject'].isnull().sum())"
   ]
  },
  {
   "cell_type": "code",
   "execution_count": null,
   "id": "e2a936f5",
   "metadata": {},
   "outputs": [
    {
     "name": "stdout",
     "output_type": "stream",
     "text": [
      "SHAPE --> (44898, 5)\n",
      "<class 'pandas.core.frame.DataFrame'>\n",
      "RangeIndex: 44898 entries, 0 to 44897\n",
      "Data columns (total 5 columns):\n",
      " #   Column   Non-Null Count  Dtype \n",
      "---  ------   --------------  ----- \n",
      " 0   title    44898 non-null  object\n",
      " 1   text     44898 non-null  object\n",
      " 2   subject  44898 non-null  object\n",
      " 3   date     44898 non-null  object\n",
      " 4   label    44898 non-null  int64 \n",
      "dtypes: int64(1), object(4)\n",
      "memory usage: 1.7+ MB\n",
      "None\n",
      "                                                   title  \\\n",
      "31774   EXPLOSIVE New Report PROVES Trump Hotel Linke...   \n",
      "36139  Trump administration may seek NAFTA currency p...   \n",
      "30666   WATCH: MSNBC Host TORCHES Trump Campaign Mana...   \n",
      "1830    Ann Coulter: Trump Doesn’t Need GOP’s Support...   \n",
      "1202   Vietnam court jails blogger for seven years fo...   \n",
      "\n",
      "                                                    text   subject  \\\n",
      "31774  Donald Trump likes to talk tough on terror. Ho...   general   \n",
      "36139  WASHINGTON (Reuters) - U.S. Treasury Secretary...  politics   \n",
      "30666  Defending Satan is hard. That s what Kellyanne...   general   \n",
      "1830   Conservative columnist Ann Coulter took her vo...   general   \n",
      "1202   (Reuters) - A court in Vietnam jailed a blogge...     world   \n",
      "\n",
      "                     date  label  \n",
      "31774       March 6, 2017      0  \n",
      "36139      July 27, 2017       1  \n",
      "30666    October 19, 2016      0  \n",
      "1830         May 11, 2016      0  \n",
      "1202   November 27, 2017       1  \n"
     ]
    }
   ],
   "source": [
    "# DIMENSIONS OF THE DATAFRAME (NUMBER OF ROWS AND COLUMNS)\n",
    "print(f\"SHAPE --> {df.shape}\")\n",
    "\n",
    "# SUMMARY OF THE DATAFRAME INCLUDING COLUMN NAMES, NON-NULL COUNTS, AND DATA TYPES\n",
    "print(df.info())\n",
    "\n",
    "# RANDOM SAMPLE OF 5 ROWS FROM THE DATAFRAME\n",
    "print(df.sample(5))"
   ]
  },
  {
   "cell_type": "markdown",
   "id": "827c7ff2",
   "metadata": {},
   "source": [
    "### CLEAN 'DATE'"
   ]
  },
  {
   "cell_type": "code",
   "execution_count": 9,
   "id": "fb12d1ea",
   "metadata": {},
   "outputs": [
    {
     "name": "stdout",
     "output_type": "stream",
     "text": [
      "1466           July 3, 2017 \n",
      "7349             Oct 9, 2015\n",
      "9127            Apr 17, 2016\n",
      "7752           May 23, 2016 \n",
      "12926           May 19, 2015\n",
      "35273           May 10, 2017\n",
      "29371      December 5, 2017 \n",
      "43028    September 27, 2017 \n",
      "22080     December 12, 2017 \n",
      "32812           Sep 18, 2016\n",
      "Name: date, dtype: object\n",
      "INVALID DATES FOUND --> 33030\n",
      "                  date                                              title\n",
      "1  September 11, 2017   Republican attempt to deflect Trump-Russia pro...\n",
      "2   September 9, 2017   Trump says churches should get FEMA funds for ...\n",
      "4      March 24, 2017   House Speaker Ryan briefed Trump on healthcare...\n",
      "5      March 15, 2017   Government leakers are 'enemies to our state,'...\n",
      "6         Nov 20, 2016  DELUSIONAL OBAMA BLAMES “Fake News” For Hillar...\n",
      "DATE RANGE --> 2015-05-01 00:00:00 → 2017-12-31 00:00:00\n"
     ]
    }
   ],
   "source": [
    "# MAKE A COPY OF THE ORIGINAL DATAFRAME\n",
    "df_copy = df.copy()\n",
    "\n",
    "# CHECK SAMPLE VALUES IN 'date' COLUMN\n",
    "print(df_copy['date'].sample(10))  \n",
    "\n",
    "# CONVERT TO DATETIME IN THE COPY\n",
    "df_copy['date_converted'] = pd.to_datetime(df_copy['date'], errors='coerce')\n",
    "\n",
    "# CHECK HOW MANY FAILED TO CONVERT\n",
    "invalid_dates = df_copy['date_converted'].isnull().sum()\n",
    "print(f\"INVALID DATES FOUND --> {invalid_dates}\")\n",
    "\n",
    "# DISPLAY THOSE INVALID DATES\n",
    "print(df_copy[df_copy['date_converted'].isnull()][['date', 'title']].head())\n",
    "\n",
    "# REMOVE ROWS WITH INVALID DATES \n",
    "df_copy = df_copy[~df_copy['date_converted'].isnull()].reset_index(drop=True)\n",
    "\n",
    "# DISPLAY DATE RANGE\n",
    "print(\"DATE RANGE -->\", df_copy['date_converted'].min(), \"→\", df_copy['date_converted'].max())"
   ]
  },
  {
   "cell_type": "code",
   "execution_count": null,
   "id": "3df37f24",
   "metadata": {},
   "outputs": [
    {
     "name": "stdout",
     "output_type": "stream",
     "text": [
      "DF SHAPE --> (44689, 5)\n",
      "DF_COPY SHAPE --> (11868, 6)\n"
     ]
    }
   ],
   "source": [
    "# SHAPE OF ORIGINAL DATAFRAME \n",
    "print(f\"DF SHAPE --> {df.shape}\")\n",
    "\n",
    "# SHAPE OF COPIED DATAFRAME \n",
    "print(f\"DF_COPY SHAPE --> {df_copy.shape}\")"
   ]
  },
  {
   "cell_type": "markdown",
   "id": "e40b1c7d",
   "metadata": {},
   "source": [
    "### REMOVE DUPLICATES"
   ]
  },
  {
   "cell_type": "code",
   "execution_count": 10,
   "id": "a5eb1c75",
   "metadata": {},
   "outputs": [
    {
     "name": "stdout",
     "output_type": "stream",
     "text": [
      "\n",
      "NUMBER OF DUPLICATE ROWS -->\n",
      "1246\n"
     ]
    }
   ],
   "source": [
    "# NUMBER OF DUPLICATE ROWS IN THE DATAFRAME\n",
    "print(\"\\nNUMBER OF DUPLICATE ROWS -->\")     \n",
    "\n",
    "# COUNT OF DUPLICATE ROWS IN THE DATAFRAME\n",
    "print(df.duplicated().sum())"
   ]
  },
  {
   "cell_type": "code",
   "execution_count": 11,
   "id": "d7aa5c83",
   "metadata": {},
   "outputs": [],
   "source": [
    "# REMOVE DUPLICATE ROWS COMPLETELY\n",
    "df = df.drop_duplicates()\n",
    "\n",
    "# RESET INDEX AFTER REMOVAL\n",
    "df = df.reset_index(drop=True)"
   ]
  },
  {
   "cell_type": "code",
   "execution_count": null,
   "id": "7c3c5c94",
   "metadata": {},
   "outputs": [
    {
     "name": "stdout",
     "output_type": "stream",
     "text": [
      "DATAFRAME SHAPE --> (43652, 5)\n",
      "REMAINING DUPLICATES --> 0\n",
      "\n",
      "CHECK FOR NULL VALUES -->\n",
      "title      0\n",
      "text       0\n",
      "subject    0\n",
      "date       0\n",
      "label      0\n",
      "dtype: int64\n",
      "\n",
      "UNIQUE SUBJECT VALUES AFTER CLEANUP --> \n",
      "subject\n",
      "politics       18591\n",
      "world           9991\n",
      "general         9050\n",
      "left-wing       4459\n",
      "domestic         783\n",
      "middle-east      778\n",
      "Name: count, dtype: int64\n",
      "\n",
      "DATE RANGE IN 'date_converted' -->\n",
      "2015-05-01 00:00:00 TO 2017-12-31 00:00:00\n"
     ]
    }
   ],
   "source": [
    "# SHAPE OF THE DATAFRAME (ROWS AND COLUMNS)\n",
    "print(\"DATAFRAME SHAPE -->\", df.shape)\n",
    "\n",
    "# NUMBER OF REMAINING DUPLICATE ROWS IN THE DATAFRAME\n",
    "print(\"REMAINING DUPLICATES -->\", df.duplicated().sum())\n",
    "\n",
    "# CHECK FOR NULL VALUES IN EACH COLUMN OF THE DATAFRAME\n",
    "print(\"\\nCHECK FOR NULL VALUES -->\")\n",
    "print(df.isnull().sum())\n",
    "\n",
    "# COUNT OF UNIQUE VALUES IN THE 'subject' COLUMN AFTER CLEANUP\n",
    "print(\"\\nUNIQUE SUBJECT VALUES AFTER CLEANUP --> \")\n",
    "print(df['subject'].value_counts(dropna=False))\n",
    "\n",
    "# DATE RANGE IN THE 'date_converted' COLUMN\n",
    "print(\"\\nDATE RANGE IN 'date_converted' -->\")\n",
    "print(df_copy['date_converted'].min(), \"TO\", df_copy['date_converted'].max())"
   ]
  },
  {
   "cell_type": "code",
   "execution_count": 13,
   "id": "c5418ae1",
   "metadata": {},
   "outputs": [
    {
     "name": "stdout",
     "output_type": "stream",
     "text": [
      "MERGED DATASET SAVED SUCCESSFULLY.\n",
      "SHAPE-->  (43652, 6)\n"
     ]
    },
    {
     "data": {
      "application/vnd.microsoft.datawrangler.viewer.v0+json": {
       "columns": [
        {
         "name": "index",
         "rawType": "int64",
         "type": "integer"
        },
        {
         "name": "title",
         "rawType": "object",
         "type": "string"
        },
        {
         "name": "text",
         "rawType": "object",
         "type": "string"
        },
        {
         "name": "label",
         "rawType": "int64",
         "type": "integer"
        },
        {
         "name": "subject",
         "rawType": "object",
         "type": "string"
        },
        {
         "name": "date",
         "rawType": "object",
         "type": "string"
        },
        {
         "name": "date_converted",
         "rawType": "datetime64[ns]",
         "type": "datetime"
        }
       ],
       "conversionMethod": "pd.DataFrame",
       "ref": "94afa73d-f7b0-4e8d-acd9-691c8f79c389",
       "rows": [
        [
         "0",
         " It’s Really Happening: Trump Adviser Lays Out Plan For National Muslim Registry",
         "Well, that didn t take long. In the short time since Americans kinda-sorta elected Donald Trump to be Pussygrabber-in-Chief, Trump has appointed a bona fide white nationalist to a high-level position and perform numerous other actions that months ago were considered extremely unlikely nightmare scenarios   and the latest seems to be that the Muslim registry the media told us Trump was not serious about might actually happen.Under the Trump regime, Muslim immigrants coming to the United States from what Trump and Pals call  terror-prone  countries will soon have to register and check in regularly with the government if Trump adviser and Kansas Secretary of State, Kris Kobach, has his way.Kobach says that the Trump administration aims to quickly waste taxpayer dollars on The Wall and that they are moving forward on a proposal to get things rolling with a registry for immigrants from Muslim countries. Reuters reports:Kansas Secretary of State Kris Kobach, who helped write tough immigration laws in Arizona and elsewhere, said in an interview that Trump s policy advisers had also discussed drafting a proposal for his consideration to reinstate a registry for immigrants from Muslim countries.Kobach, who media reports say is a key member of Trump s transition team, said he had participated in regular conference calls with about a dozen Trump immigration advisers for the past two to three months.Trump s transition team did not respond to requests for confirmation of Kobach s role. The president-elect has not committed to following any specific recommendations from advisory groups.The National Security Entry-Exit Registration System, designed in part by Kovach under the Bush administration, was an ineffective program that singled out Muslims and did not manage to convict a single person of anything related to terrorism.During his campaign, Trump suggested not only monitoring mosques but added that there would need to be a  lot of systems  that extend  beyond databases  to keep an eye on Muslims.Kobach says that he and other advisers are also looking into how to get the construction of the border wall moving without approval from Congress. He says it can happen by reappropriating existing funds, but acknowledges  that future fiscal years will require additional appropriations. Trump has shown us his character in whom he chooses to be part of his administration and through his actions since he has been elected. Some say to give him a chance, to see how he governs, but the answer is  no.  President-elect Pussygrabber has repeatedly demonstrated that he is completely lacking in morals, compassion, decency, and hand size.It is up to each of us to oppose Donald Trump at every turn, to protect what we can of the progress America has made over the last fifty years, to defend our nation in every way we can against this internal enemy. Recently, John Oliver reminded us not to allow what we are about to live through to become normalized. Keep reminding yourself this is not normal,  Oliver said.  A Klan-backed misogynist internet troll is going to be delivering the next State of the Union address, and that is not normal. Truer words have never been spoken.Featured image via Getty Images/Matthew Busch",
         "0",
         "general",
         "November 16, 2016",
         "2016-11-16 00:00:00"
        ],
        [
         "1",
         "Republican attempt to deflect Trump-Russia probes could backfire: sources",
         "(Reuters) - Republican lawmaker Devin Nunes’ investigation into whether Obama administration officials used classified intelligence reports to discredit Donald Trump’s 2016 campaign team could backfire on the congressman - and the president, sources familiar with the reports said. The reports contain no evidence that any aides to former Democratic President Barack Obama acted improperly, the sources said, but they do indicate some Trump associates may have violated an obscure 1799 law, the Logan Act, which prohibits unauthorized U.S. citizens from negotiating with a foreign government that has a dispute with the United States. The spying reports also are relevant to the investigation by special counsel Robert Mueller into conclusions by U.S. intelligence agencies that Russia worked to tilt last November’s election in Republican Trump’s favor, said the sources, who spoke on the condition of anonymity. Mueller’s office declined to comment. Russia, under U.S. sanctions for rights abuses and its 2014 annexation of Crimea, has repeatedly denied allegations of election meddling. Trump has denied any possible collusion between his campaign and Moscow, an issue that has loomed over the new presidency. Nunes, chairman of the U.S. House Intelligence Committee and a Trump ally, met secretly earlier this year with a White House intelligence aide and then accused Obama officials of having requested the names of U.S. citizens seen in intercepts of communications with Russians and other foreigners. The White House did not respond to requests for comment. The names would have been routinely censored from intelligence agency intercepts, but Nunes charged that Obama’s aides had leaked the information to try to undermine Trump while he was running for president. A spokesman for then-United Nations ambassador Samantha Power, whom Nunes and other Republicans accused of digging for political dirt, said she read intelligence reports only as part of her normal duties. A spokesman for former Obama national security adviser Susan Rice, whom Republicans also accused of misusing intelligence, did not respond to requests for comment. Mueller is investigating meetings and conversations between Trump associates and Russian and other foreign officials and businessmen. They include Trump’s adviser and son-in-law Jared Kushner; the president’s eldest son Donald Trump, Jr.; former Trump campaign chairman Paul Manafort and former national security adviser Michael Flynn.  “An obvious question is how all these meetings and conversations were set up,” said one of the sources. “Who set them up? What was their purpose? What were the agendas? Who approved them? Who was briefed on them afterward? Signals intelligence might shed some light on that.” Representatives for the Trump associates did not respond to requests for comment. Democratic lawmakers have said that Nunes and others have made the assertions about the leaks to distract attention from two congressional investigations and Mueller’s probe into the Russian matter. The National Security Agency masks the names of U.S. citizens in intercepts, but officials with the necessary security clearances can request them for intelligence purposes.         “Unmasking Americans is extremely sensitive, and unmasking political opponents is really problematic,” said a congressional official, also speaking on the condition of anonymity. If Obama officials asked for the names or failed to justify any requests, that warranted investigation, the official said.   Asked for hard evidence that Power or other aides misused intelligence for political purposes or leaked such information to the media, the official declined to comment. ",
         "1",
         "politics",
         "September 11, 2017 ",
         "2017-08-07 00:00:00"
        ],
        [
         "2",
         "Trump says churches should get FEMA funds for hurricane relief",
         "WASHINGTON (Reuters) - President Donald Trump said on Friday that churches in Texas should be able to receive money from the Federal Emergency Management Agency for helping victims of Hurricane Harvey. Trump tweeted: “Churches in Texas should be entitled to reimbursement from FEMA Relief Funds for helping victims of Hurricane Harvey (just like others)”.  Trump’s tweet followed a lawsuit filed by three Texas Churches seeking federal aid to repair severe damage to their structures by Harvey. It was not clear whether the churches had provided aid to victims. In the complaint filed on Monday in federal court in Houston, the Texas churches said they would like to apply for aid but it would be “futile” because FEMA’s public assistance program “categorically” excluded their claims, violating their constitutional right to freely exercise their religion. They said FEMA’s ban on providing relief where at least half a building’s space is used for religious purposes, a policy also enforced after Hurricane Katrina in 2005 and Hurricane Sandy in 2012, contradicted a recent U.S. Supreme Court decision making it easier for religious groups to get public aid. Becket, a nonprofit that advocates for religious freedoms and represents the churches, said the same principle should apply to federal FEMA relief for Harvey victims. “The principle is that governments can’t discriminate on the basis of religious status, and that is unapologetically what FEMA is doing here,” Daniel Blomberg, a lawyer for Becket, said in a phone interview. A FEMA spokeswoman said in an email it would be inappropriate to discuss pending litigation. The Texas churches that sued are the Rockport First Assembly of God in Rockport, which lost its roof and steeple and suffered other structural damage, and the Harvest Family Church in Cypress and Hi-Way Tabernacle in Cleveland, which were flooded. The case is Harvest Family Church et al v Federal Emergency Management Agency et al, U.S, District Court, Southern District of Texas, No. 17-02662. ",
         "1",
         "politics",
         "September 9, 2017 ",
         "2016-02-25 00:00:00"
        ],
        [
         "3",
         " Trump Loves To Say The New York Times Is ‘Failing’ – So They Just Effortlessly Embarrassed Him With Simple Numbers",
         "Print journalism and longstanding papers have been struggling since the advent of the internet and increased competition faced by blogs and op-ed sites. That, combined with poor understanding of marketing on new platforms, has combined to really cause a struggle in the journalism industry.So, on a certain level, journalists can thank Trump. Despite unleashing a war on freedom of the press never before seen in our nation s history, he s been a boon to business, with massive public backlash against Trump and his fake news army resulting in a thirst for facts and information.Take the New York Times, for example. In the first quarter of 2017, the NYT signed on more new subscribers than any other period in history. Stock is up 50 percent. Digital advertising revenue went up nearly 20 percent. So when Donald Trump says  when is the failing NYT going to go out of business,  as he did today, the answer is  not soon.  They ve been around for 160 years and don t look to be going anyplace anytime soon.Here s the specific tweet in question:How much longer will the failing nytimes, with its big losses and massive unfunded liability (and non-existent sources), remain in business?  Donald J. Trump (@realDonaldTrump) August 7, 2017And here s the reply by the New York Times, completely demolishing whatever little remnants of dignity Trump has left at this point:That is incorrect. NYT s business is thriving. Most ever paid subs: 3.3 million; and growing profit, income and revenues. (1/2) pic.twitter.com/NE5fqu8RVW  NYTCo Communications (@NYTimesComm) August 7, 2017They went on to establish the veracity, at length, of a particular article Trump took issue with. Unfortunately for the NYT, Trump won t (or can t) read anything over 140 characters, so it seems somewhat unlikely they will have broken through.Read more:Featured image via Zach Gibson   Pool/Getty Images",
         "0",
         "general",
         "August 7, 2017",
         "2016-12-01 00:00:00"
        ],
        [
         "4",
         "House Speaker Ryan briefed Trump on healthcare bill voting: White House",
         "WASHINGTON (Reuters) - President Donald Trump was being briefed on Friday by House Speaker Paul Ryan about the status of voting on the Republican bill to replace Obamacare, the White House said amid signs the measure might not have enough support to pass. “The president ... had Speaker Ryan come up here and visit with him to update him on the bill,” White House spokesman Sean Spicer told a briefing. “They are continuing to discuss the way forward on this. The speaker is updating him on these efforts.” Spicer said the vote was scheduled for 3:30 p.m. EDT/1930 GMT and he downplayed the prospects that a loss might undermine Trump’s effort to push tax reform through the U.S. Congress. ",
         "1",
         "politics",
         "March 24, 2017 ",
         "2016-09-27 00:00:00"
        ]
       ],
       "shape": {
        "columns": 6,
        "rows": 5
       }
      },
      "text/html": [
       "<div>\n",
       "<style scoped>\n",
       "    .dataframe tbody tr th:only-of-type {\n",
       "        vertical-align: middle;\n",
       "    }\n",
       "\n",
       "    .dataframe tbody tr th {\n",
       "        vertical-align: top;\n",
       "    }\n",
       "\n",
       "    .dataframe thead th {\n",
       "        text-align: right;\n",
       "    }\n",
       "</style>\n",
       "<table border=\"1\" class=\"dataframe\">\n",
       "  <thead>\n",
       "    <tr style=\"text-align: right;\">\n",
       "      <th></th>\n",
       "      <th>title</th>\n",
       "      <th>text</th>\n",
       "      <th>label</th>\n",
       "      <th>subject</th>\n",
       "      <th>date</th>\n",
       "      <th>date_converted</th>\n",
       "    </tr>\n",
       "  </thead>\n",
       "  <tbody>\n",
       "    <tr>\n",
       "      <th>0</th>\n",
       "      <td>It’s Really Happening: Trump Adviser Lays Out...</td>\n",
       "      <td>Well, that didn t take long. In the short time...</td>\n",
       "      <td>0</td>\n",
       "      <td>general</td>\n",
       "      <td>November 16, 2016</td>\n",
       "      <td>2016-11-16</td>\n",
       "    </tr>\n",
       "    <tr>\n",
       "      <th>1</th>\n",
       "      <td>Republican attempt to deflect Trump-Russia pro...</td>\n",
       "      <td>(Reuters) - Republican lawmaker Devin Nunes’ i...</td>\n",
       "      <td>1</td>\n",
       "      <td>politics</td>\n",
       "      <td>September 11, 2017</td>\n",
       "      <td>2017-08-07</td>\n",
       "    </tr>\n",
       "    <tr>\n",
       "      <th>2</th>\n",
       "      <td>Trump says churches should get FEMA funds for ...</td>\n",
       "      <td>WASHINGTON (Reuters) - President Donald Trump ...</td>\n",
       "      <td>1</td>\n",
       "      <td>politics</td>\n",
       "      <td>September 9, 2017</td>\n",
       "      <td>2016-02-25</td>\n",
       "    </tr>\n",
       "    <tr>\n",
       "      <th>3</th>\n",
       "      <td>Trump Loves To Say The New York Times Is ‘Fai...</td>\n",
       "      <td>Print journalism and longstanding papers have ...</td>\n",
       "      <td>0</td>\n",
       "      <td>general</td>\n",
       "      <td>August 7, 2017</td>\n",
       "      <td>2016-12-01</td>\n",
       "    </tr>\n",
       "    <tr>\n",
       "      <th>4</th>\n",
       "      <td>House Speaker Ryan briefed Trump on healthcare...</td>\n",
       "      <td>WASHINGTON (Reuters) - President Donald Trump ...</td>\n",
       "      <td>1</td>\n",
       "      <td>politics</td>\n",
       "      <td>March 24, 2017</td>\n",
       "      <td>2016-09-27</td>\n",
       "    </tr>\n",
       "  </tbody>\n",
       "</table>\n",
       "</div>"
      ],
      "text/plain": [
       "                                               title  \\\n",
       "0   It’s Really Happening: Trump Adviser Lays Out...   \n",
       "1  Republican attempt to deflect Trump-Russia pro...   \n",
       "2  Trump says churches should get FEMA funds for ...   \n",
       "3   Trump Loves To Say The New York Times Is ‘Fai...   \n",
       "4  House Speaker Ryan briefed Trump on healthcare...   \n",
       "\n",
       "                                                text  label   subject  \\\n",
       "0  Well, that didn t take long. In the short time...      0   general   \n",
       "1  (Reuters) - Republican lawmaker Devin Nunes’ i...      1  politics   \n",
       "2  WASHINGTON (Reuters) - President Donald Trump ...      1  politics   \n",
       "3  Print journalism and longstanding papers have ...      0   general   \n",
       "4  WASHINGTON (Reuters) - President Donald Trump ...      1  politics   \n",
       "\n",
       "                  date date_converted  \n",
       "0    November 16, 2016     2016-11-16  \n",
       "1  September 11, 2017      2017-08-07  \n",
       "2   September 9, 2017      2016-02-25  \n",
       "3       August 7, 2017     2016-12-01  \n",
       "4      March 24, 2017      2016-09-27  "
      ]
     },
     "execution_count": 13,
     "metadata": {},
     "output_type": "execute_result"
    }
   ],
   "source": [
    "# SELECT COLUMNS TO INCLUDE IN VISUALIZATION DATASET\n",
    "columns_to_save = ['title', 'text', 'label', 'subject', 'date']\n",
    "\n",
    "# CREATE A COPY OF THE DATAFRAME WITH SELECTED COLUMNS\n",
    "df_viz = df[columns_to_save].copy()\n",
    "\n",
    "# ADD 'date_converted' COLUMN FROM df_copy TO df_viz\n",
    "df_viz['date_converted'] = df_copy['date_converted'].copy()\n",
    "\n",
    "# EXPORT TO 'data' FOLDER\n",
    "df_viz.to_csv(\"../DATA/DATA[M].csv\", index=False)\n",
    "\n",
    "# CONFIRM SHAPE AND SAMPLE\n",
    "print(\"MERGED DATASET SAVED SUCCESSFULLY.\")\n",
    "print(\"SHAPE--> \", df_viz.shape)\n",
    "df_viz.head()"
   ]
  },
  {
   "cell_type": "markdown",
   "id": "1b591d9c",
   "metadata": {},
   "source": [
    "### DATA CLEANING AND PREPARATION FOR MODELING"
   ]
  },
  {
   "cell_type": "code",
   "execution_count": 14,
   "id": "fc83d3bc",
   "metadata": {},
   "outputs": [],
   "source": [
    "# DROP RAW DATE COLUMN AS IT IS NOT REQUIRED FOR MODELING\n",
    "df.drop(columns=['date'], inplace=True)\n",
    "\n",
    "# CREATE A MODELING DATAFRAME WITH ONLY REQUIRED COLUMNS: TEXT (FEATURE) AND LABEL (TARGET)\n",
    "df_model = df[['text', 'label']].copy()"
   ]
  },
  {
   "cell_type": "code",
   "execution_count": 15,
   "id": "37ba9374",
   "metadata": {},
   "outputs": [
    {
     "name": "stdout",
     "output_type": "stream",
     "text": [
      "<class 'pandas.core.frame.DataFrame'>\n",
      "RangeIndex: 43652 entries, 0 to 43651\n",
      "Data columns (total 2 columns):\n",
      " #   Column  Non-Null Count  Dtype \n",
      "---  ------  --------------  ----- \n",
      " 0   text    43652 non-null  object\n",
      " 1   label   43652 non-null  int64 \n",
      "dtypes: int64(1), object(1)\n",
      "memory usage: 682.2+ KB\n"
     ]
    }
   ],
   "source": [
    "df_model.info()"
   ]
  },
  {
   "cell_type": "markdown",
   "id": "866f1c04",
   "metadata": {},
   "source": [
    "### REMOVING DUPLICATE RECORDS FROM MODELING DATA"
   ]
  },
  {
   "cell_type": "code",
   "execution_count": 16,
   "id": "72a3ce59",
   "metadata": {},
   "outputs": [
    {
     "data": {
      "text/plain": [
       "np.int64(5005)"
      ]
     },
     "execution_count": 16,
     "metadata": {},
     "output_type": "execute_result"
    }
   ],
   "source": [
    "# COUNT THE NUMBER OF DUPLICATE ROWS IN THE MODELING DATAFRAME\n",
    "df_model.duplicated().sum()"
   ]
  },
  {
   "cell_type": "code",
   "execution_count": 17,
   "id": "1079d1e3",
   "metadata": {},
   "outputs": [
    {
     "data": {
      "text/plain": [
       "np.int64(0)"
      ]
     },
     "execution_count": 17,
     "metadata": {},
     "output_type": "execute_result"
    }
   ],
   "source": [
    "# REMOVE DUPLICATE ROWS FROM THE MODELING DATAFRAME IN PLACE\n",
    "df_model.drop_duplicates(inplace=True)\n",
    "\n",
    "# VERIFY THAT NO DUPLICATE ROWS REMAIN AFTER REMOVAL\n",
    "df_model.duplicated().sum()"
   ]
  },
  {
   "cell_type": "markdown",
   "id": "e08aba46",
   "metadata": {},
   "source": [
    "# NLP TEXT CLEANING & PREPROCESSING"
   ]
  },
  {
   "cell_type": "markdown",
   "id": "595db4b3",
   "metadata": {},
   "source": [
    "### LIBRARY"
   ]
  },
  {
   "cell_type": "code",
   "execution_count": 18,
   "id": "6926d828",
   "metadata": {},
   "outputs": [
    {
     "name": "stderr",
     "output_type": "stream",
     "text": [
      "[nltk_data] Downloading package stopwords to\n",
      "[nltk_data]     C:\\Users\\KIIT\\AppData\\Roaming\\nltk_data...\n",
      "[nltk_data]   Package stopwords is already up-to-date!\n",
      "[nltk_data] Downloading package punkt to\n",
      "[nltk_data]     C:\\Users\\KIIT\\AppData\\Roaming\\nltk_data...\n",
      "[nltk_data]   Package punkt is already up-to-date!\n",
      "[nltk_data] Downloading package wordnet to\n",
      "[nltk_data]     C:\\Users\\KIIT\\AppData\\Roaming\\nltk_data...\n",
      "[nltk_data]   Package wordnet is already up-to-date!\n",
      "[nltk_data] Downloading package omw-1.4 to\n",
      "[nltk_data]     C:\\Users\\KIIT\\AppData\\Roaming\\nltk_data...\n"
     ]
    },
    {
     "name": "stdout",
     "output_type": "stream",
     "text": [
      "NLTK DATA PATHS --> ['C:\\\\Users\\\\KIIT/nltk_data', 'c:\\\\FAKE NEWS DETECTION\\\\VENV\\\\nltk_data', 'c:\\\\FAKE NEWS DETECTION\\\\VENV\\\\share\\\\nltk_data', 'c:\\\\FAKE NEWS DETECTION\\\\VENV\\\\lib\\\\nltk_data', 'C:\\\\Users\\\\KIIT\\\\AppData\\\\Roaming\\\\nltk_data', 'C:\\\\nltk_data', 'D:\\\\nltk_data', 'E:\\\\nltk_data', 'C:\\\\Users\\\\KIIT\\\\AppData\\\\Roaming\\\\nltk_data']\n"
     ]
    },
    {
     "name": "stderr",
     "output_type": "stream",
     "text": [
      "[nltk_data]   Package omw-1.4 is already up-to-date!\n",
      "[nltk_data] Downloading package punkt_tab to\n",
      "[nltk_data]     C:\\Users\\KIIT\\AppData\\Roaming\\nltk_data...\n",
      "[nltk_data]   Package punkt_tab is already up-to-date!\n"
     ]
    }
   ],
   "source": [
    "import re                               # FOR REGULAR EXPRESSION-BASED TEXT CLEANING\n",
    "import string                           # FOR PUNCTUATION CONSTANTS\n",
    "from nltk.corpus import stopwords       # FOR STOPWORD REMOVAL\n",
    "from nltk.tokenize import word_tokenize # FOR WORD TOKENIZATION\n",
    "from nltk.stem import WordNetLemmatizer # FOR LEMMATIZATION\n",
    "from tqdm import tqdm                   # FOR PROGRESS BAR DURING CLEANING\n",
    "\n",
    "# LOAD NLTK RESOURCES\n",
    "import nltk                                                    # NLTK LIBRARY FOR NATURAL LANGUAGE PROCESSING\n",
    "custom_nltk_path = r\"C:\\Users\\KIIT\\AppData\\Roaming\\nltk_data\"  # DEFINE CUSTOM PATH TO STORE NLTK DATA\n",
    "nltk.data.path.append(custom_nltk_path)                    # ADD CUSTOM NLTK PATH TO NLTK SEARCH DIRECTORIES\n",
    "nltk.download('stopwords', download_dir=custom_nltk_path)  # ENGLISH STOPWORDS\n",
    "nltk.download('punkt', download_dir=custom_nltk_path)      # TOKENIZER MODEL\n",
    "nltk.download('wordnet', download_dir=custom_nltk_path)    # WORDNET LEMMATIZER\n",
    "nltk.download('omw-1.4', download_dir=custom_nltk_path)    # LEMMATIZER SUPPORT FILES\n",
    "nltk.download('punkt_tab', download_dir=custom_nltk_path)  # PUNKT TOKENIZER TABLE\n",
    "print(\"NLTK DATA PATHS -->\", nltk.data.path)               # NLTK DATA SEARCH PATHS"
   ]
  },
  {
   "cell_type": "markdown",
   "id": "eba4cea0",
   "metadata": {},
   "source": [
    "### TEXT CLEANING FUNCTION"
   ]
  },
  {
   "cell_type": "code",
   "execution_count": 19,
   "id": "0036d21d",
   "metadata": {},
   "outputs": [],
   "source": [
    "# INITIALIZE STOPWORDS AND LEMMATIZER\n",
    "stop_words = set(stopwords.words('english'))               # LOAD ENGLISH STOPWORDS AS A SET\n",
    "lemmatizer = WordNetLemmatizer()                           # CREATE LEMMATIZER INSTANCE\n",
    "\n",
    "def clean_text(text):\n",
    "    \"\"\"\n",
    "    CLEAN AND PREPROCESS RAW TEXT USING STANDARD NLP STEPS.\n",
    "    \n",
    "    STEPS:\n",
    "    1. LOWERCASE CONVERSION\n",
    "    2. REMOVAL OF URLS, DIGITS, PUNCTUATION\n",
    "    3. TOKENIZATION\n",
    "    4. STOPWORD REMOVAL\n",
    "    5. LEMMATIZATION\n",
    "    \n",
    "    PARAMETERS:\n",
    "    text (str): INPUT RAW TEXT\n",
    "    \n",
    "    RETURNS:\n",
    "    str: CLEANED TEXT STRING\n",
    "    \"\"\"\n",
    "    if pd.isnull(text):\n",
    "        return \"\"\n",
    "    \n",
    "    # CONVERT TEXT TO LOWERCASE\n",
    "    text = text.lower()\n",
    "    \n",
    "    # REMOVE URLS\n",
    "    text = re.sub(r'http\\S+|www.\\S+', '', text)\n",
    "    \n",
    "    # REMOVES MULTIPLE WHITESPACE CHARACTERS AND STRIP LEADING/TRAILING SPACES\n",
    "    text = re.sub(r'\\s+', ' ', text).strip()  \n",
    "    \n",
    "    # REMOVE PUNCTUATION\n",
    "    text = text.translate(str.maketrans('', '', string.punctuation))\n",
    "    \n",
    "    # REMOVE DIGITS\n",
    "    text = re.sub(r'\\d+', '', text)\n",
    "    \n",
    "    # TOKENIZE TEXT INTO WORDS\n",
    "    tokens = word_tokenize(text)\n",
    "    \n",
    "    # REMOVE STOPWORDS AND SHORT TOKENS, THEN LEMMATIZE\n",
    "    cleaned_tokens = [\n",
    "        lemmatizer.lemmatize(word)\n",
    "        for word in tokens\n",
    "        if word not in stop_words and len(word) > 2\n",
    "    ]\n",
    "    \n",
    "    # JOIN TOKENS BACK TO SINGLE STRING\n",
    "    return ' '.join(cleaned_tokens)"
   ]
  },
  {
   "cell_type": "markdown",
   "id": "0424dc6b",
   "metadata": {},
   "source": [
    "### APPLY TEXT CLEANING TO DATASET"
   ]
  },
  {
   "cell_type": "code",
   "execution_count": 21,
   "id": "4470cb16",
   "metadata": {},
   "outputs": [
    {
     "name": "stderr",
     "output_type": "stream",
     "text": [
      "CLEANING TEXT: 100%|██████████| 38647/38647 [01:40<00:00, 384.00it/s]\n"
     ]
    }
   ],
   "source": [
    "# APPLY TEXT CLEANING TO THE 'text' COLUMN AND STORE IN 'clean_text'\n",
    "tqdm.pandas(desc=\"CLEANING TEXT\")\n",
    "df_model['clean_text'] = df_model['text'].progress_apply(clean_text)"
   ]
  },
  {
   "cell_type": "code",
   "execution_count": null,
   "id": "955aaad0",
   "metadata": {},
   "outputs": [
    {
     "data": {
      "application/vnd.microsoft.datawrangler.viewer.v0+json": {
       "columns": [
        {
         "name": "index",
         "rawType": "int64",
         "type": "integer"
        },
        {
         "name": "text",
         "rawType": "object",
         "type": "string"
        },
        {
         "name": "clean_text",
         "rawType": "object",
         "type": "string"
        },
        {
         "name": "label",
         "rawType": "int64",
         "type": "integer"
        }
       ],
       "conversionMethod": "pd.DataFrame",
       "ref": "d114b779-90e3-4f8e-8a04-f84bd21a77bb",
       "rows": [
        [
         "0",
         "21st Century Wire says Ben Stein, reputable professor from, Pepperdine University (also of some Hollywood fame appearing in TV shows and films such as Ferris Bueller s Day Off) made some provocative statements on Judge Jeanine Pirro s show recently. While discussing the halt that was imposed on President Trump s Executive Order on travel. Stein referred to the judgement by the 9th Circuit Court in Washington state as a  Coup d tat against the executive branch and against the constitution.  Stein went on to call the Judges in Seattle  political puppets  and the judiciary  political pawns. Watch the interview below for the complete statements and note the stark contrast to the rhetoric of the leftist media and pundits who neglect to note that no court has ever blocked any Presidential orders in immigration in the past or discuss the legal efficacy of the halt or the actual text of the Executive Order.READ MORE TRUMP NEWS AT: 21st Century Wire Trump FilesSUPPORT OUR WORK BY SUBSCRIBING & BECOMING A MEMBER @21WIRE.TV",
         "century wire say ben stein reputable professor pepperdine university also hollywood fame appearing show film ferris bueller day made provocative statement judge jeanine pirro show recently discussing halt imposed president trump executive order travel stein referred judgement circuit court washington state coup tat executive branch constitution stein went call judge seattle political puppet judiciary political pawn watch interview complete statement note stark contrast rhetoric leftist medium pundit neglect note court ever blocked presidential order immigration past discus legal efficacy halt actual text executive orderread trump news century wire trump filessupport work subscribing becoming member wiretv",
         "0"
        ],
        [
         "1",
         "WASHINGTON (Reuters) - U.S. President Donald Trump removed his chief strategist Steve Bannon from the National Security Council on Wednesday, reversing his controversial decision early this year to give a political adviser an unprecedented role in security discussions. Trump’s overhaul of the NSC, confirmed by a White House official, also elevated General Joseph Dunford, chairman of the Joint Chiefs of Staff and Dan Coats, the director of National Intelligence who heads all 17 U.S. intelligence agencies. The official said the change moves the NSC “back to its core function of what it’s supposed to do.” It also appears to mark a victory for national security adviser H.R. McMaster, who had told some national security experts he felt he was in a “battle to the death” with Bannon and others on the White House staff. Vice President Mike Pence said Bannon would continue to play an important role in policy and played down the shake-up as routine. “This is just a natural evolution to ensure the National Security Council is organized in a way that best serves the president in resolving and making those difficult decisions,” Pence said on Fox News.  Bannon said in a statement he had succeeded in returning the NSC back to its traditional role of coordinating foreign policy rather than running it. He cited President Barack Obama’s national security adviser, Susan Rice, for why he advocated a change. “Susan Rice operationalized the NSC during the last administration so I was put on NSC to ensure it was ‘de-operationalized.’ General McMaster has NSC back to its proper function,” he said. Trump’s White House team has grappled with infighting and intrigue that has hobbled his young presidency. In recent days, several other senior U.S. foreign policy and national security officials have said the mechanisms for shaping the Trump administration’s response to pressing challenges such as Syria, North Korea and Iran still were not in place.  Critics of Bannon’s role on the NSC said it gave too much weight in decision-making to someone who lacked foreign policy expertise. Bannon, who was chief executive of Trump’s presidential campaign in the months leading to his election in November, in some respects represents Trump’s “America First” nationalistic voice, helping fuel his anti-Washington fervor and pushing for the president to part ways at times with mainstream Republicans. Before joining the Trump administration, Bannon headed Breitbart News, a right-wing website. U.S. Representative Adam Schiff, ranking Democrat on the House of Representatives Intelligence Committee, called the shift in the NSC a positive step that will help McMaster “gain control over a body that was being politicized by Bannon’s involvement.” “As the administration’s policy over North Korea, China, Russia and Syria continues to drift, we can only hope this shake-up brings some level of strategic vision to the body,” he said. Bannon’s removal from the NSC was a potential setback for his sphere of influence in the Trump White House, where he has a voice in most major decisions. But a Trump confidant said Bannon remained as influential as ever. “He is still involved in everything and still has the full confidence of the president but to be fair he can only do so much stuff,” the confidant said, speaking on condition of anonymity. The White House official said Bannon was no longer needed on the NSC after the departure of Trump’s first national security adviser, Michael Flynn. Flynn was forced to resign on Feb. 13 over his contacts with Russia’s ambassador to the United States, Sergei Kislyak, prior to Trump taking office on Jan. 20. The official said Bannon had been placed on the NSC originally as a check on Flynn and had only attended one of the NSC’s regular meetings. The official dismissed questions about a power struggle between Bannon and McMaster, saying they shared the same world view. However, two current national security officials rejected the White House explanation, noting that two months have passed since Flynn’s departure. McMaster, they said, speaking on the condition of anonymity, also has dueled with Bannon and others over direct access to Trump; the future of deputy national security adviser K.T. McFarland, a former Fox News commentator; intelligence director Ezra Cohen-Watnick, a Flynn appointee; and other staffing decisions. Trump is preparing for his first face-to-face meeting on Thursday and Friday with Chinese President Xi Jinping with the threat of North Korea’s nuclear and missile programs a key component of their talks. Bannon’s seat on the NSC’s “principals’ committee,” a group that includes the secretaries of state, defense and other ranking aides, was taken by Rick Perry, who as energy secretary is charged with overseeing the U.S. nuclear weapons arsenal. ",
         "washington reuters president donald trump removed chief strategist steve bannon national security council wednesday reversing controversial decision early year give political adviser unprecedented role security discussion trump overhaul nsc confirmed white house official also elevated general joseph dunford chairman joint chief staff dan coat director national intelligence head intelligence agency official said change move nsc back core function supposed also appears mark victory national security adviser mcmaster told national security expert felt battle death bannon others white house staff vice president mike penny said bannon would continue play important role policy played shakeup routine natural evolution ensure national security council organized way best serf president resolving making difficult decision penny said fox news bannon said statement succeeded returning nsc back traditional role coordinating foreign policy rather running cited president barack obama national security adviser susan rice advocated change susan rice operationalized nsc last administration put nsc ensure deoperationalized general mcmaster nsc back proper function said trump white house team grappled infighting intrigue hobbled young presidency recent day several senior foreign policy national security official said mechanism shaping trump administration response pressing challenge syria north korea iran still place critic bannon role nsc said gave much weight decisionmaking someone lacked foreign policy expertise bannon chief executive trump presidential campaign month leading election november respect represents trump america first nationalistic voice helping fuel antiwashington fervor pushing president part way time mainstream republican joining trump administration bannon headed breitbart news rightwing website representative adam schiff ranking democrat house representative intelligence committee called shift nsc positive step help mcmaster gain control body politicized bannon involvement administration policy north korea china russia syria continues drift hope shakeup brings level strategic vision body said bannon removal nsc potential setback sphere influence trump white house voice major decision trump confidant said bannon remained influential ever still involved everything still full confidence president fair much stuff confidant said speaking condition anonymity white house official said bannon longer needed nsc departure trump first national security adviser michael flynn flynn forced resign feb contact russia ambassador united state sergei kislyak prior trump taking office jan official said bannon placed nsc originally check flynn attended one nsc regular meeting official dismissed question power struggle bannon mcmaster saying shared world view however two current national security official rejected white house explanation noting two month passed since flynn departure mcmaster said speaking condition anonymity also dueled bannon others direct access trump future deputy national security adviser mcfarland former fox news commentator intelligence director ezra cohenwatnick flynn appointee staffing decision trump preparing first facetoface meeting thursday friday chinese president jinping threat north korea nuclear missile program key component talk bannon seat nsc principal committee group includes secretary state defense ranking aide taken rick perry energy secretary charged overseeing nuclear weapon arsenal",
         "1"
        ],
        [
         "2",
         "(Reuters) - Puerto Rico Governor Ricardo Rossello said on Wednesday he expected the federal government to waive the Jones Act, which would lift restrictions on ships that can provide aid to the island devastated by Hurricane Maria. He said he has been speaking with members of Congress from both parties who have supported an emergency waiver.      “We expect them to waive it,” Rossello said in an interview with CNN. He noted there was a seven-day waiver after Hurricane Irma, which was much less devastating to the island.     On Tuesday, the Trump administration said there was no need to waive shipping restrictions to help get fuel and supplies to storm-ravaged Puerto Rico, saying it would do nothing to address the island’s damaged ports, the main impediment to shipping. A waiver would allow Puerto Rico to get help not only from U.S. ships but from any ships that can bring aid.     “That is critical, particularly for fuel,” he said. “One of the considerations right now is the priority of getting fuel, diesel, gasoline, all across the island. Right now we have enough fuel. We’re limited by the transportation logistics, but at some point of course, getting fuel into the island is going to be critical so that we can have the major functions of telecoms, hospitals, water, to be running appropriately.”     The Jones Act requires that all goods shipped between U.S. ports be carried by American owned-and-operated ships. U.S. Senator John McCain asked acting Department of Homeland Security Secretary Elaine Duke on Tuesday to grant an emergency waiver of the law. He said that Puerto Rican residents would have to pay at least twice as much for food, drinking water and other supplies without the waiver. (This corrected version of the story fixes paragraph four to show the administration has not formally denied a waiver request). ",
         "reuters puerto rico governor ricardo rossello said wednesday expected federal government waive jones act would lift restriction ship provide aid island devastated hurricane maria said speaking member congress party supported emergency waiver expect waive rossello said interview cnn noted sevenday waiver hurricane irma much less devastating island tuesday trump administration said need waive shipping restriction help get fuel supply stormravaged puerto rico saying would nothing address island damaged port main impediment shipping waiver would allow puerto rico get help ship ship bring aid critical particularly fuel said one consideration right priority getting fuel diesel gasoline across island right enough fuel limited transportation logistics point course getting fuel island going critical major function telecom hospital water running appropriately jones act requires good shipped port carried american ownedandoperated ship senator john mccain asked acting department homeland security secretary elaine duke tuesday grant emergency waiver law said puerto rican resident would pay least twice much food drinking water supply without waiver corrected version story fix paragraph four show administration formally denied waiver request",
         "1"
        ],
        [
         "3",
         "On Monday, Donald Trump once again embarrassed himself and his country by accidentally revealing the source of the extremely classified information he leaked to Russia earlier this month.While it was speculated that the source of the information was Israel, Trump made things crystal clear during a press conference with Prime Minister Benjamin Netanyahu. President Pussygrabber explained that he never   not once   said  Israel  during his conversation with the Russian recipients of the leaked information. Not a single time. Just so you understand I never mentioned the word or the name  Israel,  Trump said.  I never mentioned it during that conversation. They were all saying I did,  Trump said, gesturing to reporters.  So you had another story wrong. Never mentioned the word  Israel . He may not have said the word Israel,  but according to reports Israeli intelligence officials  were shouting at US counterparts  over the leaked information.Now, he accidentally-perhaps-on-purpose confirmed where it came from.Watch it happen below:President Trump says he  never mentioned the word Israel  in his Oval Office meeting with Russian officials https://t.co/84ZCW64hcE  CNN Politics (@CNNPolitics) May 22, 2017Featured image via screengrab",
         "monday donald trump embarrassed country accidentally revealing source extremely classified information leaked russia earlier monthwhile speculated source information israel trump made thing crystal clear press conference prime minister benjamin netanyahu president pussygrabber explained never said israel conversation russian recipient leaked information single time understand never mentioned word name israel trump said never mentioned conversation saying trump said gesturing reporter another story wrong never mentioned word israel may said word israel according report israeli intelligence official shouting counterpart leaked informationnow accidentallyperhapsonpurpose confirmed came fromwatch happen belowpresident trump say never mentioned word israel oval office meeting russian official cnn politics cnnpolitics may featured image via screengrab",
         "0"
        ],
        [
         "4",
         "GLASGOW, Scotland (Reuters) - Most U.S. presidential candidates go abroad to sharpen their foreign policy credentials. Donald Trump arrives in Scotland on Friday to reopen a golf resort. The presumptive Republican nominee, 70, visits his family’s ancestral homeland to showcase his far-flung business empire. His mother was born on Scotland’s Isle of Lewis. With a throng of reporters watching, he will make a dramatic arrival by helicopter at his seaside Trump Turnberry resort. He has scheduled a news conference on the 9th hole at noon (7 a.m. ET/1100 GMT). His visit to Turnberry, to be followed by a stop at his resort in Aberdeen on Saturday, will allow him to comment on the outcome of Britain’s vote on Thursday on whether to remain in the European Union. “I don’t think opening a golf resort gets you many foreign policy chops,” said Saul Anuzis, former chairman of the Michigan Republican Party. “But since he’s there right in the middle of the EU vote, it may end up being a PR bonanza for him.” The risk is that the real-estate tycoon, who has yet to hold public office and rates unfavorably with 70 percent of Americans in an opinion poll, will make a foreign policy misstep at a time when Republican leaders are urging a more serious demeanor. Trump has said he would be inclined to leave the EU. He has exchanged insults with British Prime Minister David Cameron, who has called the New Yorker’s anti-immigrant policy ideas divisive and wrong. There are no plans for the two to meet. His trip has baffled Republican officials who say he should concentrate on strengthening his campaign and taking the fight to the presumptive Democratic nominee, former U.S. Secretary of State Hillary Clinton, who is 68. Trump defeated a crowded field of opponents for the Republican nomination but has faced one controversy after another, the latest over his firing of his campaign manager this week, a month before the party convention. “His campaign has got all kinds of growing pains and it doesn’t make sense that he would spend any kind of time going out of the country,” said David Yepsen, director of the Paul Simon Public Policy Institute at Southern Illinois University.  Turnberry is a storied course where the Open Championship has been staged four times. Trump invested $290 million in renovating the resort and golf course on Scotland’s West Coast 85 km (53 miles) southwest of Glasgow. He has portrayed his determination to build up courses in Turnberry and Aberdeen and overcome local opposition as an example of the type of leadership skills that Americans would get if he wins the White House on Nov. 8. “Well, Scotland has already been won – and so will the United States,” Trump wrote in a column for The Press and Journal newspaper in Aberdeen. An Aberdeen family opposed to his development there has threatened to raise a Mexican flag as a reminder of his proposal to build a wall along the U.S. southern border to keep out immigrants who enter illegally. The last Republican presidential nominee, former Massachusetts Governor Mitt Romney, in 2012 made a gaffe-filled campaign trip to London, Jerusalem and Poland. ",
         "glasgow scotland reuters presidential candidate abroad sharpen foreign policy credential donald trump arrives scotland friday reopen golf resort presumptive republican nominee visit family ancestral homeland showcase farflung business empire mother born scotland isle lewis throng reporter watching make dramatic arrival helicopter seaside trump turnberry resort scheduled news conference hole noon gmt visit turnberry followed stop resort aberdeen saturday allow comment outcome britain vote thursday whether remain european union think opening golf resort get many foreign policy chop said saul anuzis former chairman michigan republican party since right middle vote may end bonanza risk realestate tycoon yet hold public office rate unfavorably percent american opinion poll make foreign policy misstep time republican leader urging serious demeanor trump said would inclined leave exchanged insult british prime minister david cameron called new yorker antiimmigrant policy idea divisive wrong plan two meet trip baffled republican official say concentrate strengthening campaign taking fight presumptive democratic nominee former secretary state hillary clinton trump defeated crowded field opponent republican nomination faced one controversy another latest firing campaign manager week month party convention campaign got kind growing pain make sense would spend kind time going country said david yepsen director paul simon public policy institute southern illinois university turnberry storied course open championship staged four time trump invested million renovating resort golf course scotland west coast mile southwest glasgow portrayed determination build course turnberry aberdeen overcome local opposition example type leadership skill american would get win white house nov well scotland already united state trump wrote column press journal newspaper aberdeen aberdeen family opposed development threatened raise mexican flag reminder proposal build wall along southern border keep immigrant enter illegally last republican presidential nominee former massachusetts governor mitt romney made gaffefilled campaign trip london jerusalem poland",
         "1"
        ]
       ],
       "shape": {
        "columns": 3,
        "rows": 5
       }
      },
      "text/html": [
       "<div>\n",
       "<style scoped>\n",
       "    .dataframe tbody tr th:only-of-type {\n",
       "        vertical-align: middle;\n",
       "    }\n",
       "\n",
       "    .dataframe tbody tr th {\n",
       "        vertical-align: top;\n",
       "    }\n",
       "\n",
       "    .dataframe thead th {\n",
       "        text-align: right;\n",
       "    }\n",
       "</style>\n",
       "<table border=\"1\" class=\"dataframe\">\n",
       "  <thead>\n",
       "    <tr style=\"text-align: right;\">\n",
       "      <th></th>\n",
       "      <th>text</th>\n",
       "      <th>clean_text</th>\n",
       "      <th>label</th>\n",
       "    </tr>\n",
       "  </thead>\n",
       "  <tbody>\n",
       "    <tr>\n",
       "      <th>0</th>\n",
       "      <td>21st Century Wire says Ben Stein, reputable pr...</td>\n",
       "      <td>century wire say ben stein reputable professor...</td>\n",
       "      <td>0</td>\n",
       "    </tr>\n",
       "    <tr>\n",
       "      <th>1</th>\n",
       "      <td>WASHINGTON (Reuters) - U.S. President Donald T...</td>\n",
       "      <td>washington reuters president donald trump remo...</td>\n",
       "      <td>1</td>\n",
       "    </tr>\n",
       "    <tr>\n",
       "      <th>2</th>\n",
       "      <td>(Reuters) - Puerto Rico Governor Ricardo Rosse...</td>\n",
       "      <td>reuters puerto rico governor ricardo rossello ...</td>\n",
       "      <td>1</td>\n",
       "    </tr>\n",
       "    <tr>\n",
       "      <th>3</th>\n",
       "      <td>On Monday, Donald Trump once again embarrassed...</td>\n",
       "      <td>monday donald trump embarrassed country accide...</td>\n",
       "      <td>0</td>\n",
       "    </tr>\n",
       "    <tr>\n",
       "      <th>4</th>\n",
       "      <td>GLASGOW, Scotland (Reuters) - Most U.S. presid...</td>\n",
       "      <td>glasgow scotland reuters presidential candidat...</td>\n",
       "      <td>1</td>\n",
       "    </tr>\n",
       "  </tbody>\n",
       "</table>\n",
       "</div>"
      ],
      "text/plain": [
       "                                                text  \\\n",
       "0  21st Century Wire says Ben Stein, reputable pr...   \n",
       "1  WASHINGTON (Reuters) - U.S. President Donald T...   \n",
       "2  (Reuters) - Puerto Rico Governor Ricardo Rosse...   \n",
       "3  On Monday, Donald Trump once again embarrassed...   \n",
       "4  GLASGOW, Scotland (Reuters) - Most U.S. presid...   \n",
       "\n",
       "                                          clean_text  label  \n",
       "0  century wire say ben stein reputable professor...      0  \n",
       "1  washington reuters president donald trump remo...      1  \n",
       "2  reuters puerto rico governor ricardo rossello ...      1  \n",
       "3  monday donald trump embarrassed country accide...      0  \n",
       "4  glasgow scotland reuters presidential candidat...      1  "
      ]
     },
     "execution_count": 261,
     "metadata": {},
     "output_type": "execute_result"
    }
   ],
   "source": [
    "# EXPORT CLEANED DATA TO CSV \n",
    "df_model.to_csv(\"../DATA/DATA[C].csv\", index=False)\n",
    "\n",
    "# DISPLAY FIRST 5 CLEANED RECORDS\n",
    "df_model[['text', 'clean_text', 'label']].head()"
   ]
  }
 ],
 "metadata": {
  "kernelspec": {
   "display_name": "VENV",
   "language": "python",
   "name": "python3"
  },
  "language_info": {
   "codemirror_mode": {
    "name": "ipython",
    "version": 3
   },
   "file_extension": ".py",
   "mimetype": "text/x-python",
   "name": "python",
   "nbconvert_exporter": "python",
   "pygments_lexer": "ipython3",
   "version": "3.12.7"
  }
 },
 "nbformat": 4,
 "nbformat_minor": 5
}
